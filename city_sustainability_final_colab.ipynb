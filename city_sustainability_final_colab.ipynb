{
  "cells": [
    {
      "cell_type": "code",
      "execution_count": 13,
      "metadata": {
        "colab": {
          "base_uri": "https://localhost:8080/",
          "height": 294
        },
        "id": "B6VO-rHkxrma",
        "outputId": "6f1e01ca-ef07-405a-85c6-0bf1046ab2e7"
      },
      "outputs": [
        {
          "name": "stdout",
          "output_type": "stream",
          "text": [
            "Looking in indexes: https://pypi.org/simple, https://us-python.pkg.dev/colab-wheels/public/simple/\n",
            "Requirement already satisfied: pillow in /usr/local/lib/python3.10/dist-packages (8.4.0)\n",
            "Collecting pillow\n",
            "  Downloading Pillow-9.5.0-cp310-cp310-manylinux_2_28_x86_64.whl (3.4 MB)\n",
            "\u001b[2K     \u001b[90m━━━━━━━━━━━━━━━━━━━━━━━━━━━━━━━━━━━━━━━━\u001b[0m \u001b[32m3.4/3.4 MB\u001b[0m \u001b[31m62.3 MB/s\u001b[0m eta \u001b[36m0:00:00\u001b[0m\n",
            "\u001b[?25hInstalling collected packages: pillow\n",
            "  Attempting uninstall: pillow\n",
            "    Found existing installation: Pillow 8.4.0\n",
            "    Uninstalling Pillow-8.4.0:\n",
            "      Successfully uninstalled Pillow-8.4.0\n",
            "Successfully installed pillow-9.5.0\n"
          ]
        },
        {
          "data": {
            "application/vnd.colab-display-data+json": {
              "pip_warning": {
                "packages": [
                  "PIL"
                ]
              }
            }
          },
          "metadata": {},
          "output_type": "display_data"
        }
      ],
      "source": [
        "!pip install --upgrade pillow"
      ]
    },
    {
      "cell_type": "code",
      "execution_count": null,
      "metadata": {
        "colab": {
          "base_uri": "https://localhost:8080/"
        },
        "id": "LII0Rubv_ZwB",
        "outputId": "d42740ba-640b-4fdc-81e3-da15830d89b2"
      },
      "outputs": [
        {
          "name": "stdout",
          "output_type": "stream",
          "text": [
            "fatal: destination path 'city_sustainability' already exists and is not an empty directory.\n"
          ]
        }
      ],
      "source": [
        "\n"
      ]
    },
    {
      "cell_type": "code",
      "execution_count": 3,
      "metadata": {
        "colab": {
          "base_uri": "https://localhost:8080/"
        },
        "id": "8Axt2Sz_Rd9S",
        "outputId": "5630985a-c213-42bc-e692-5565dc9defd6"
      },
      "outputs": [
        {
          "name": "stdout",
          "output_type": "stream",
          "text": [
            "\u001b[0m\u001b[01;34mcity_sustainability\u001b[0m/  \u001b[01;34mgdrive\u001b[0m/  \u001b[01;34msample_data\u001b[0m/\n"
          ]
        }
      ],
      "source": [
        "ls"
      ]
    },
    {
      "cell_type": "code",
      "execution_count": 4,
      "metadata": {
        "colab": {
          "base_uri": "https://localhost:8080/"
        },
        "id": "3WWw5oRBRiuf",
        "outputId": "be2a6d80-f9c8-48de-d4d0-3e567a538d9b"
      },
      "outputs": [
        {
          "name": "stdout",
          "output_type": "stream",
          "text": [
            "/content/city_sustainability\n"
          ]
        }
      ],
      "source": [
        "cd city_sustainability/"
      ]
    },
    {
      "cell_type": "code",
      "execution_count": 5,
      "metadata": {
        "colab": {
          "base_uri": "https://localhost:8080/"
        },
        "id": "9aG-f0s-Ri0D",
        "outputId": "6a584959-a9dc-42e8-fe57-dac1365b1745"
      },
      "outputs": [
        {
          "name": "stdout",
          "output_type": "stream",
          "text": [
            "\u001b[0m\u001b[01;34mcity_sustainability\u001b[0m/                   \u001b[01;34mnotebooks\u001b[0m/       setup.py\n",
            "\u001b[01;34mCity_sustainability.egg-info\u001b[0m/          README.md\n",
            "city_sustainability_final_colab.ipynb  requirments.txt\n"
          ]
        }
      ],
      "source": [
        "ls"
      ]
    },
    {
      "cell_type": "code",
      "execution_count": 6,
      "metadata": {
        "colab": {
          "base_uri": "https://localhost:8080/"
        },
        "id": "Tx7MkTZhRoEz",
        "outputId": "3ee85045-c3a6-4f05-d0ef-7d526e3f1dd2"
      },
      "outputs": [
        {
          "name": "stdout",
          "output_type": "stream",
          "text": [
            "Looking in indexes: https://pypi.org/simple, https://us-python.pkg.dev/colab-wheels/public/simple/\n",
            "Obtaining file:///content/city_sustainability\n",
            "  Preparing metadata (setup.py) ... \u001b[?25l\u001b[?25hdone\n",
            "Installing collected packages: City-sustainability\n",
            "  Attempting uninstall: City-sustainability\n",
            "    Found existing installation: City-sustainability 1.0\n",
            "    Uninstalling City-sustainability-1.0:\n",
            "      Successfully uninstalled City-sustainability-1.0\n",
            "  Running setup.py develop for City-sustainability\n",
            "Successfully installed City-sustainability-1.0\n"
          ]
        }
      ],
      "source": [
        "pip install -e ."
      ]
    },
    {
      "cell_type": "code",
      "execution_count": null,
      "metadata": {
        "colab": {
          "base_uri": "https://localhost:8080/"
        },
        "id": "RHln7eWxH4cQ",
        "outputId": "03ea8d92-7c9f-41d7-a5dc-5ab894a496e8"
      },
      "outputs": [
        {
          "name": "stdout",
          "output_type": "stream",
          "text": [
            "Mounted at /content/gdrive\n"
          ]
        }
      ],
      "source": [
        "from google.colab import drive\n",
        "drive.mount('/content/gdrive')"
      ]
    },
    {
      "cell_type": "code",
      "execution_count": null,
      "metadata": {
        "id": "C7h66WecYinj"
      },
      "outputs": [],
      "source": [
        "import sys\n",
        "sys.path.append('city_sustainability')\n",
        "sys.path.append('city_sustainability/models')"
      ]
    },
    {
      "cell_type": "code",
      "execution_count": null,
      "metadata": {
        "id": "kwXpY-HzrsS8"
      },
      "outputs": [],
      "source": [
        "sys.path"
      ]
    },
    {
      "cell_type": "code",
      "execution_count": null,
      "metadata": {
        "id": "xmP5dTvEtxCv"
      },
      "outputs": [],
      "source": []
    },
    {
      "cell_type": "code",
      "execution_count": null,
      "metadata": {
        "id": "iwSDfZS6c49R"
      },
      "outputs": [],
      "source": [
        "### from models import unet_model"
      ]
    },
    {
      "cell_type": "code",
      "execution_count": 7,
      "metadata": {
        "id": "MOdoCtqnpUMr"
      },
      "outputs": [],
      "source": [
        "from city_sustainability.preprocessing import image_resize\n",
        "from city_sustainability.loading_data import loading_paths, image_and_label_arrays\n",
        "from city_sustainability.models import unet_model"
      ]
    },
    {
      "cell_type": "code",
      "execution_count": 8,
      "metadata": {
        "id": "k7eUhtFtvjah"
      },
      "outputs": [],
      "source": [
        "# Retrieve image_paths and label_paths\n",
        "data_path_1 = '/content/gdrive/MyDrive/BC_Project/OpenEarthMap_wo_xBD'\n",
        "image_paths, label_paths = loading_paths(data_path_1)"
      ]
    },
    {
      "cell_type": "code",
      "execution_count": 9,
      "metadata": {
        "colab": {
          "base_uri": "https://localhost:8080/"
        },
        "id": "yZI3hEDOv5if",
        "outputId": "b52f40f2-2aed-49b0-c968-bf39028d863a"
      },
      "outputs": [
        {
          "data": {
            "text/plain": [
              "2687"
            ]
          },
          "execution_count": 9,
          "metadata": {},
          "output_type": "execute_result"
        }
      ],
      "source": [
        "# Check length of image_paths\n",
        "len(image_paths)"
      ]
    },
    {
      "cell_type": "code",
      "execution_count": 10,
      "metadata": {
        "colab": {
          "base_uri": "https://localhost:8080/"
        },
        "id": "RmVBWXy3w2oG",
        "outputId": "eb594592-63a5-49cd-a83c-9d0d593b1efc"
      },
      "outputs": [
        {
          "data": {
            "text/plain": [
              "2687"
            ]
          },
          "execution_count": 10,
          "metadata": {},
          "output_type": "execute_result"
        }
      ],
      "source": [
        "# Check length of label_paths\n",
        "len(label_paths)"
      ]
    },
    {
      "cell_type": "code",
      "execution_count": null,
      "metadata": {
        "id": "cFvwJNONw74k"
      },
      "outputs": [],
      "source": [
        "# Import all image array as X and label array as y\n",
        "X, y = image_and_label_arrays(image_paths, label_paths)"
      ]
    },
    {
      "cell_type": "code",
      "execution_count": null,
      "metadata": {
        "id": "4esQSy7Jw_kM"
      },
      "outputs": [],
      "source": []
    }
  ],
  "metadata": {
    "accelerator": "GPU",
    "colab": {
      "gpuType": "T4",
      "provenance": []
    },
    "gpuClass": "standard",
    "kernelspec": {
      "display_name": "Python 3",
      "name": "python3"
    },
    "language_info": {
      "name": "python"
    }
  },
  "nbformat": 4,
  "nbformat_minor": 0
}
