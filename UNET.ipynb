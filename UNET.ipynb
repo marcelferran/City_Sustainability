{
 "cells": [
  {
   "cell_type": "markdown",
   "metadata": {
    "id": "-kuIl4f6pBQ6"
   },
   "source": [
    "#UNET"
   ]
  },
  {
   "cell_type": "code",
   "execution_count": null,
   "metadata": {
    "id": "7PDQQt30MKsU"
   },
   "outputs": [],
   "source": [
    "# Import necessary libraries\n",
    "import tensorflow as tf\n",
    "from tensorflow.keras.models import Model\n",
    "from tensorflow.keras.layers import Input, Conv2D, MaxPooling2D, UpSampling2D, Concatenate\n",
    "\n",
    "# Define a UNet class\n",
    "class UNet:\n",
    "    # Initialize the class with an input shape\n",
    "    def __init__(self, input_shape=(28, 28, 1)):\n",
    "        self.input_shape = input_shape  # Save the input shape as a class variable\n",
    "        self.model = self.build_model()  # Call the build_model method to construct the U-Net\n",
    "\n",
    "    # Define the encoder part of the U-Net\n",
    "    def encoder(self, inputs):\n",
    "        # First conv block: apply a 2D convolution with 32 filters, (3,3) kernel size, ReLU activation and same padding,\n",
    "        # then apply 2D max pooling with (2,2) pool size\n",
    "        conv1 = Conv2D(32, (3, 3), activation='relu', padding='same')(inputs)\n",
    "        pool1 = MaxPooling2D(pool_size=(2, 2))(conv1)\n",
    "\n",
    "        # Second conv block: similar to the first one but with 64 filters\n",
    "        conv2 = Conv2D(64, (3, 3), activation='relu', padding='same')(pool1)\n",
    "        pool2 = MaxPooling2D(pool_size=(2, 2))(conv2)\n",
    "\n",
    "        # Return the outputs of the two conv blocks and the final pooled output\n",
    "        return conv1, conv2, pool2\n",
    "\n",
    "    # Define the decoder part of the U-Net\n",
    "    def decoder(self, conv1, conv2, encoded):\n",
    "        # First upscaling block: apply 2D upsampling with (2,2) size to the encoded input,\n",
    "        # concatenate the result with the output of the second conv block from the encoder,\n",
    "        # then apply a 2D convolution with 64 filters, (3,3) kernel size, ReLU activation and same padding\n",
    "        up1 = UpSampling2D(size=(2, 2))(encoded)\n",
    "        merge1 = Concatenate(axis=3)([conv2, up1])\n",
    "        conv3 = Conv2D(64, (3, 3), activation='relu', padding='same')(merge1)\n",
    "\n",
    "        # Second upscaling block: similar to the first one but concatenating with the output of the first conv block from the encoder and using 32 filters\n",
    "        up2 = UpSampling2D(size=(2, 2))(conv3)\n",
    "        merge2 = Concatenate(axis=3)([conv1, up2])\n",
    "        conv4 = Conv2D(32, (3, 3), activation='relu', padding='same')(merge2)\n",
    "\n",
    "        # Return the output of the second conv block\n",
    "        return conv4\n",
    "\n",
    "    # Build the complete U-Net model\n",
    "    def build_model(self):\n",
    "        # Define the input layer with the input shape\n",
    "        inputs = Input(self.input_shape)\n",
    "\n",
    "        # Call the encoder method and pass the inputs to it\n",
    "        conv1, conv2, encoded = self.encoder(inputs)\n",
    "\n",
    "        # Call the decoder method and pass the outputs of the encoder to it\n",
    "        decoded = self.decoder(conv1, conv2, encoded)\n",
    "\n",
    "        # Define the output layer: apply a 2D convolution with 1 filter (since this is a binary segmentation),\n",
    "        # (3,3) kernel size, sigmoid activation (to output probabilities) and same padding\n",
    "        outputs = Conv2D(1, (3, 3), activation='sigmoid', padding='same')(decoded)\n",
    "\n",
    "        # Return a Model object that includes the inputs and outputs\n",
    "        return Model(inputs=inputs, outputs=outputs)\n",
    "\n",
    "    # Compile the model\n",
    "    def compile(self, optimizer='adam', loss='binary_crossentropy'):\n",
    "        # Use the compile method of the Model class to compile the model.\n",
    "        # The optimizer controls the learning rate and the loss function calculates the difference between the\n",
    "        # model's predictions and the true values\n",
    "        self.model.compile(optimizer=optimizer, loss=loss)\n",
    "\n",
    "    # Train the model\n",
    "    def train(self, x, y, epochs=10, batch_size=128, validation_split=0.1):\n",
    "        # Use the fit method of the Model class to train the model.\n",
    "        # x is the input data, y is the target data, epochs is the number of times to iterate over the entire dataset,\n",
    "        # batch_size is the number of samples per gradient update, and validation_split fraction of the data to use as validation data.\n",
    "        self.model.fit(x, y, epochs=epochs, batch_size=batch_size, validation_split=validation_split)\n",
    "\n",
    "    # Use the model to make predictions\n",
    "    def predict(self, x):\n",
    "        # Use the predict method of the Model class to generate output predictions for the input samples.\n",
    "        return self.model.predict(x)\n"
   ]
  },
  {
   "cell_type": "code",
   "execution_count": null,
   "metadata": {
    "colab": {
     "base_uri": "https://localhost:8080/"
    },
    "id": "kvp5MfvlMPLm",
    "outputId": "b0e04c2d-4594-4c8a-dcc0-ed0a6c32c91a"
   },
   "outputs": [
    {
     "name": "stdout",
     "output_type": "stream",
     "text": [
      "Downloading data from https://storage.googleapis.com/tensorflow/tf-keras-datasets/mnist.npz\n",
      "11490434/11490434 [==============================] - 2s 0us/step\n",
      "422/422 [==============================] - 18s 16ms/step - loss: 0.0477 - val_loss: 0.0242\n"
     ]
    }
   ],
   "source": [
    "from tensorflow.keras.datasets.mnist import load_data\n",
    "\n",
    "\n",
    "# Load MNIST dataset\n",
    "(train_images, train_labels), (test_images, test_labels) = load_data()\n",
    "\n",
    "# Normalize pixel values to be between 0 and 1\n",
    "train_images, test_images = train_images / 255.0, test_images / 255.0\n",
    "\n",
    "# Reshape the images to be (28, 28, 1)\n",
    "train_images = train_images.reshape((train_images.shape[0], 28, 28, 1))\n",
    "test_images = test_images.reshape((test_images.shape[0], 28, 28, 1))\n",
    "\n",
    "# Create binary masks for segmentation\n",
    "train_masks = (train_images > 0).astype(int)\n",
    "test_masks = (test_images > 0).astype(int)\n",
    "\n",
    "# Initialize and train the model\n",
    "unet = UNet()\n",
    "unet.compile()\n",
    "unet.train(train_images, train_masks, epochs=1)\n"
   ]
  },
  {
   "cell_type": "code",
   "execution_count": null,
   "metadata": {
    "colab": {
     "base_uri": "https://localhost:8080/",
     "height": 411
    },
    "id": "FCJMfGlM-cqD",
    "outputId": "f46e48c3-8230-4f0b-b56a-44065723c530"
   },
   "outputs": [
    {
     "data": {
      "image/png": "[encoded data removed]",
      "text/plain": [
       "<Figure size 1000x500 with 2 Axes>"
      ]
     },
     "metadata": {},
     "output_type": "display_data"
    }
   ],
   "source": [
    "import matplotlib.pyplot as plt\n",
    "\n",
    "fig, axs = plt.subplots(1, 2, figsize=(10, 5))  # 1 row, 2 columns\n",
    "\n",
    "# Plot the first image\n",
    "axs[0].imshow(train_images[0])\n",
    "axs[0].set_title('Train Image')\n",
    "\n",
    "# Plot the second image\n",
    "axs[1].imshow(train_masks[0])\n",
    "axs[1].set_title('Train Mask')\n",
    "\n",
    "# Remove the x and y ticks\n",
    "for ax in axs:\n",
    "    ax.set_xticks([])\n",
    "    ax.set_yticks([])\n",
    "\n",
    "plt.show()\n"
   ]
  },
  {
   "cell_type": "code",
   "execution_count": null,
   "metadata": {
    "colab": {
     "base_uri": "https://localhost:8080/",
     "height": 429
    },
    "id": "3MUFFYonrf68",
    "outputId": "6b964509-63cd-485c-ca5f-3359c74c6f8b"
   },
   "outputs": [
    {
     "name": "stdout",
     "output_type": "stream",
     "text": [
      "1/1 [==============================] - 0s 188ms/step\n"
     ]
    },
    {
     "data": {
      "image/png": "[encoded data removed]",
      "text/plain": [
       "<Figure size 1000x500 with 2 Axes>"
      ]
     },
     "metadata": {},
     "output_type": "display_data"
    }
   ],
   "source": [
    "import matplotlib.pyplot as plt\n",
    "\n",
    "fig, axs = plt.subplots(1, 2, figsize=(10, 5))  # 1 row, 2 columns\n",
    "\n",
    "# Plot the first image\n",
    "axs[0].imshow(test_images[0])\n",
    "axs[0].set_title('Test Image')\n",
    "\n",
    "# Plot the second image\n",
    "axs[1].imshow(unet.predict(test_images[0].reshape((1,28,28,1))).reshape((28,28,1)))\n",
    "axs[1].set_title('Predicted Mask')\n",
    "\n",
    "# Remove the x and y ticks\n",
    "for ax in axs:\n",
    "    ax.set_xticks([])\n",
    "    ax.set_yticks([])\n",
    "\n",
    "plt.show()\n"
   ]
  },
  {
   "cell_type": "markdown",
   "metadata": {
    "id": "U8AViHPZuTbB"
   },
   "source": [
    "#FAKE MULTICLASS UNET"
   ]
  },
  {
   "cell_type": "code",
   "execution_count": null,
   "metadata": {
    "id": "BhtGJcGv7tSy"
   },
   "outputs": [],
   "source": [
    "def mask_to_rgb(mask):\n",
    "    color_map = np.array([\n",
    "        [0, 0, 255],    # Blue for digit 0\n",
    "        [0, 255, 0],    # Green for digit 1\n",
    "        [255, 0, 0],    # Red for digit 2\n",
    "        [0, 255, 255],  # Cyan for digit 3\n",
    "        [255, 0, 255],  # Magenta for digit 4\n",
    "        [255, 255, 0],  # Yellow for digit 5\n",
    "        [128, 0, 0],    # Maroon for digit 6\n",
    "        [0, 128, 0],    # Dark Green for digit 7\n",
    "        [0, 0, 128],    # Navy for digit 8\n",
    "        [128, 128, 128],# Grey for digit 9\n",
    "        [255, 255, 255],# White for background\n",
    "        [0, 0, 0]       # Black for intersection\n",
    "    ]) / 255\n",
    "    return (mask @ color_map).clip(0, 1)\n"
   ]
  },
  {
   "cell_type": "code",
   "execution_count": null,
   "metadata": {
    "id": "Bdk0uu3nj3WM"
   },
   "outputs": [],
   "source": [
    "import matplotlib.pyplot as plt\n",
    "from tensorflow.keras.datasets import mnist\n",
    "import numpy as np\n",
    "\n",
    "# Load MNIST data\n",
    "(x_train, y_train), (x_test, y_test) = mnist.load_data()\n",
    "\n",
    "# Normalize the images to [0, 1]\n",
    "x_train = x_train.astype('float32') / 255\n",
    "x_test = x_test.astype('float32') / 255\n",
    "\n",
    "# Reshape the images to (28, 28, 1)\n",
    "x_train = np.expand_dims(x_train, axis=-1)\n",
    "x_test = np.expand_dims(x_test, axis=-1)\n",
    "\n",
    "# Create a new dataset for multi-digit images\n",
    "x_train_multi = np.zeros((x_train.shape[0]//2, 28, 28, 1))\n",
    "x_test_multi = np.zeros((x_test.shape[0]//2, 28, 28, 1))\n",
    "\n",
    "# Overlay images of digits on top of each other\n",
    "for i in range(x_train.shape[0]//2):\n",
    "    x_train_multi[i] = np.maximum(x_train[2*i], x_train[2*i+1])\n",
    "\n",
    "for i in range(x_test.shape[0]//2):\n",
    "    x_test_multi[i] = np.maximum(x_test[2*i], x_test[2*i+1])\n",
    "\n",
    "# Create a new target dataset for multi-digit masks\n",
    "y_train_multi = np.zeros((y_train.shape[0]//2, 28, 28, 12))\n",
    "y_test_multi = np.zeros((y_test.shape[0]//2, 28, 28, 12))\n",
    "\n",
    "# Create masks for each digit and background\n",
    "for i in range(y_train.shape[0]//2):\n",
    "    y_train_multi[i, ..., y_train[2*i]] = np.where(x_train[2*i] > 0, 1, 0).squeeze()\n",
    "    y_train_multi[i, ..., y_train[2*i+1]] = np.where(x_train[2*i+1] > 0, 1, 0).squeeze()\n",
    "    y_train_multi[i, ..., 10] = np.where(x_train_multi[i] == 0, 1, 0).squeeze() # background mask\n",
    "\n",
    "for i in range(y_test.shape[0]//2):\n",
    "    y_test_multi[i, ..., y_test[2*i]] = np.where(x_test[2*i] > 0, 1, 0).squeeze()\n",
    "    y_test_multi[i, ..., y_test[2*i+1]] = np.where(x_test[2*i+1] > 0, 1, 0).squeeze()\n",
    "    y_test_multi[i, ..., 10] = np.where(x_test_multi[i] == 0, 1, 0).squeeze() # background mask\n",
    "\n",
    "# Create interception mask class\n",
    "intersection_mask_train = (y_train_multi[..., :10].sum(axis=-1) > 1).astype(int)\n",
    "intersection_mask_test = (y_test_multi[..., :10].sum(axis=-1) > 1).astype(int)\n",
    "\n",
    "# Where there's intersection, set all digit classes to 0\n",
    "y_train_multi[..., :10] = y_train_multi[..., :10] * (1 - np.expand_dims(intersection_mask_train, axis=-1))\n",
    "y_test_multi[..., :10] = y_test_multi[..., :10] * (1 - np.expand_dims(intersection_mask_test, axis=-1))\n",
    "\n",
    "# Set the intersection class\n",
    "y_train_multi[..., 11] = intersection_mask_train\n",
    "y_test_multi[..., 11] = intersection_mask_test\n",
    "\n",
    "# Create a new target dataset for digit vs background masks\n",
    "y_train_binary = np.zeros((y_train.shape[0]//4, 28, 28, 12))\n",
    "y_test_binary = np.zeros((y_test.shape[0]//4, 28, 28, 12))\n",
    "\n",
    "# Create binary masks for digits and background\n",
    "for i in range(y_train.shape[0]//4):\n",
    "    y_train_binary[i, ..., y_train[i]] = np.where(x_train[i] > 0, 1, 0).squeeze()  # digit mask\n",
    "    y_train_binary[i, ..., 10] = np.where(x_train[i] == 0, 1, 0).squeeze()  # background mask\n",
    "\n",
    "for i in range(y_test.shape[0]//4):\n",
    "    y_test_binary[i, ..., y_test[i]] = np.where(x_test[i] > 0, 1, 0).squeeze()  # digit mask\n",
    "    y_test_binary[i, ..., 10] = np.where(x_test[i] == 0, 1, 0).squeeze()  # background mask\n",
    "\n",
    "\n",
    "# Now combine the binary and multi-digit masks\n",
    "y_train_combined = np.concatenate([y_train_binary, y_train_multi], axis=0)\n",
    "y_test_combined = np.concatenate([y_test_binary, y_test_multi], axis=0)\n",
    "\n",
    "# Create datasets for binary digit images\n",
    "x_train_binary = x_train[:x_train.shape[0]//4]\n",
    "x_test_binary = x_test[:x_test.shape[0]//4]\n",
    "\n",
    "# Do the same for the images\n",
    "x_train_combined = np.concatenate([x_train_binary, x_train_multi], axis=0)\n",
    "x_test_combined = np.concatenate([x_test_binary, x_test_multi], axis=0)\n",
    "\n"
   ]
  },
  {
   "cell_type": "code",
   "execution_count": null,
   "metadata": {
    "colab": {
     "base_uri": "https://localhost:8080/",
     "height": 411
    },
    "id": "8gJsCG4RmVpr",
    "outputId": "54c90a81-9b57-4ad9-abd4-429c2706e2c3"
   },
   "outputs": [
    {
     "data": {
      "image/png": "[encoded data removed]",
      "text/plain": [
       "<Figure size 1000x500 with 2 Axes>"
      ]
     },
     "metadata": {},
     "output_type": "display_data"
    }
   ],
   "source": [
    "import matplotlib.pyplot as plt\n",
    "\n",
    "fig, axs = plt.subplots(1, 2, figsize=(10, 5))  # 1 row, 2 columns\n",
    "\n",
    "picture = 43000\n",
    "\n",
    "# Plot the first image\n",
    "axs[0].imshow(x_train_combined[picture])\n",
    "axs[0].set_title('Train Image')\n",
    "\n",
    "# Plot the second image\n",
    "axs[1].imshow(mask_to_rgb(y_train_combined[picture]))\n",
    "axs[1].set_title('Train Mask')\n",
    "\n",
    "# Remove the x and y ticks\n",
    "for ax in axs:\n",
    "    ax.set_xticks([])\n",
    "    ax.set_yticks([])\n",
    "\n",
    "plt.show()"
   ]
  },
  {
   "cell_type": "code",
   "execution_count": null,
   "metadata": {
    "id": "bK1b8z3Se7rH"
   },
   "outputs": [],
   "source": [
    "from tensorflow.keras.layers import Dropout, BatchNormalization\n",
    "from tensorflow.keras.callbacks import ReduceLROnPlateau\n",
    "from tensorflow.keras.optimizers import Adam\n",
    "\n",
    "\n",
    "class UNet:\n",
    "    def __init__(self, input_shape=(28, 28, 1), num_classes=12):\n",
    "        self.input_shape = input_shape\n",
    "        self.num_classes = num_classes\n",
    "        self.model = self.build_model()\n",
    "\n",
    "    def encoder(self, inputs):\n",
    "        conv1 = Conv2D(64, (3, 3), activation='relu', padding='same')(inputs)\n",
    "        conv1 = BatchNormalization()(conv1)\n",
    "        conv1 = Dropout(0.1)(conv1)\n",
    "        pool1 = MaxPooling2D(pool_size=(2, 2))(conv1)\n",
    "\n",
    "        conv2 = Conv2D(128, (3, 3), activation='relu', padding='same')(pool1)\n",
    "        conv2 = BatchNormalization()(conv2)\n",
    "        conv2 = Dropout(0.1)(conv2)\n",
    "        pool2 = MaxPooling2D(pool_size=(2, 2))(conv2)\n",
    "\n",
    "        return conv1, conv2, pool2\n",
    "\n",
    "    def decoder(self, conv1, conv2, encoded):\n",
    "        up1 = UpSampling2D(size=(2, 2))(encoded)\n",
    "        merge1 = Concatenate(axis=3)([conv2, up1])\n",
    "        conv3 = Conv2D(128, (3, 3), activation='relu', padding='same')(merge1)\n",
    "        conv3 = BatchNormalization()(conv3)\n",
    "        conv3 = Dropout(0.1)(conv3)\n",
    "\n",
    "        up2 = UpSampling2D(size=(2, 2))(conv3)\n",
    "        merge2 = Concatenate(axis=3)([conv1, up2])\n",
    "        conv4 = Conv2D(64, (3, 3), activation='relu', padding='same')(merge2)\n",
    "        conv4 = BatchNormalization()(conv4)\n",
    "        conv4 = Dropout(0.1)(conv4)\n",
    "\n",
    "        return conv4\n",
    "\n",
    "    def build_model(self):\n",
    "        inputs = Input(self.input_shape)\n",
    "        conv1, conv2, encoded = self.encoder(inputs)\n",
    "        decoded = self.decoder(conv1, conv2, encoded)\n",
    "        outputs = Conv2D(self.num_classes, (1, 1), activation='softmax')(decoded)\n",
    "        return Model(inputs=inputs, outputs=outputs)\n",
    "\n",
    "    def compile(self, optimizer='adam'):\n",
    "        self.model.compile(optimizer=optimizer, loss='categorical_crossentropy', metrics=['accuracy'])\n",
    "\n",
    "    def train(self, x, y, epochs=1, batch_size=32, validation_split=0.1):\n",
    "        self.model.compile(optimizer=Adam(learning_rate=0.0001), loss='categorical_crossentropy', metrics=['accuracy'])\n",
    "        lr_reducer = ReduceLROnPlateau(monitor='val_loss', factor=0.1, patience=5, min_lr=0.00001, verbose=1)\n",
    "        self.model.fit(x, y, epochs=epochs, batch_size=batch_size, validation_split=validation_split, callbacks=[lr_reducer])\n",
    "\n",
    "    def predict(self, x):\n",
    "        return self.model.predict(x)\n"
   ]
  },
  {
   "cell_type": "code",
   "execution_count": null,
   "metadata": {
    "colab": {
     "base_uri": "https://localhost:8080/"
    },
    "id": "Mei7aUiMGPSS",
    "outputId": "f66f0c1b-3fb5-4c37-a089-b53d4a82f135"
   },
   "outputs": [
    {
     "data": {
      "text/plain": [
       "(45000, 28, 28, 12)"
      ]
     },
     "execution_count": 10,
     "metadata": {},
     "output_type": "execute_result"
    }
   ],
   "source": [
    "y_train_combined.shape"
   ]
  },
  {
   "cell_type": "code",
   "execution_count": null,
   "metadata": {
    "colab": {
     "base_uri": "https://localhost:8080/"
    },
    "id": "1enBwyPx99Kh",
    "outputId": "59345fdf-e3ed-4e46-ba20-2a56b59bff30"
   },
   "outputs": [
    {
     "name": "stdout",
     "output_type": "stream",
     "text": [
      "Epoch 1/60\n",
      "159/159 [==============================] - 20s 95ms/step - loss: 1.0061 - accuracy: 0.7444 - val_loss: 1.0277 - val_accuracy: 0.7147 - lr: 1.0000e-04\n",
      "Epoch 2/60\n",
      "159/159 [==============================] - 14s 88ms/step - loss: 0.6559 - accuracy: 0.8084 - val_loss: 0.8744 - val_accuracy: 0.7346 - lr: 1.0000e-04\n",
      "Epoch 3/60\n",
      "159/159 [==============================] - 14s 89ms/step - loss: 0.5525 - accuracy: 0.8281 - val_loss: 0.7819 - val_accuracy: 0.7325 - lr: 1.0000e-04\n",
      "Epoch 4/60\n",
      "159/159 [==============================] - 14s 89ms/step - loss: 0.4928 - accuracy: 0.8418 - val_loss: 0.5474 - val_accuracy: 0.8113 - lr: 1.0000e-04\n",
      "Epoch 5/60\n",
      "159/159 [==============================] - 14s 88ms/step - loss: 0.4518 - accuracy: 0.8522 - val_loss: 0.4578 - val_accuracy: 0.8445 - lr: 1.0000e-04\n",
      "Epoch 6/60\n",
      "159/159 [==============================] - 14s 88ms/step - loss: 0.4221 - accuracy: 0.8602 - val_loss: 0.4408 - val_accuracy: 0.8486 - lr: 1.0000e-04\n",
      "Epoch 7/60\n",
      "159/159 [==============================] - 14s 88ms/step - loss: 0.3990 - accuracy: 0.8665 - val_loss: 0.4109 - val_accuracy: 0.8570 - lr: 1.0000e-04\n",
      "Epoch 8/60\n",
      "159/159 [==============================] - 14s 88ms/step - loss: 0.3810 - accuracy: 0.8715 - val_loss: 0.4018 - val_accuracy: 0.8594 - lr: 1.0000e-04\n",
      "Epoch 9/60\n",
      "159/159 [==============================] - 14s 89ms/step - loss: 0.3665 - accuracy: 0.8754 - val_loss: 0.3847 - val_accuracy: 0.8644 - lr: 1.0000e-04\n",
      "Epoch 10/60\n",
      "159/159 [==============================] - 14s 88ms/step - loss: 0.3543 - accuracy: 0.8789 - val_loss: 0.3811 - val_accuracy: 0.8652 - lr: 1.0000e-04\n",
      "Epoch 11/60\n",
      "159/159 [==============================] - 14s 88ms/step - loss: 0.3437 - accuracy: 0.8819 - val_loss: 0.3634 - val_accuracy: 0.8707 - lr: 1.0000e-04\n",
      "Epoch 12/60\n",
      "159/159 [==============================] - 14s 89ms/step - loss: 0.3347 - accuracy: 0.8845 - val_loss: 0.3626 - val_accuracy: 0.8707 - lr: 1.0000e-04\n",
      "Epoch 13/60\n",
      "159/159 [==============================] - 14s 88ms/step - loss: 0.3262 - accuracy: 0.8869 - val_loss: 0.3541 - val_accuracy: 0.8730 - lr: 1.0000e-04\n",
      "Epoch 14/60\n",
      "159/159 [==============================] - 14s 88ms/step - loss: 0.3187 - accuracy: 0.8892 - val_loss: 0.3464 - val_accuracy: 0.8754 - lr: 1.0000e-04\n",
      "Epoch 15/60\n",
      "159/159 [==============================] - 14s 88ms/step - loss: 0.3120 - accuracy: 0.8911 - val_loss: 0.3430 - val_accuracy: 0.8763 - lr: 1.0000e-04\n",
      "Epoch 16/60\n",
      "159/159 [==============================] - 14s 88ms/step - loss: 0.3056 - accuracy: 0.8929 - val_loss: 0.3354 - val_accuracy: 0.8787 - lr: 1.0000e-04\n",
      "Epoch 17/60\n",
      "159/159 [==============================] - 14s 88ms/step - loss: 0.3001 - accuracy: 0.8946 - val_loss: 0.3282 - val_accuracy: 0.8808 - lr: 1.0000e-04\n",
      "Epoch 18/60\n",
      "159/159 [==============================] - 14s 89ms/step - loss: 0.2947 - accuracy: 0.8962 - val_loss: 0.3364 - val_accuracy: 0.8778 - lr: 1.0000e-04\n",
      "Epoch 19/60\n",
      "159/159 [==============================] - 14s 88ms/step - loss: 0.2897 - accuracy: 0.8977 - val_loss: 0.3211 - val_accuracy: 0.8831 - lr: 1.0000e-04\n",
      "Epoch 20/60\n",
      "159/159 [==============================] - 14s 88ms/step - loss: 0.2853 - accuracy: 0.8991 - val_loss: 0.3210 - val_accuracy: 0.8827 - lr: 1.0000e-04\n",
      "Epoch 21/60\n",
      "159/159 [==============================] - 14s 88ms/step - loss: 0.2811 - accuracy: 0.9004 - val_loss: 0.3137 - val_accuracy: 0.8845 - lr: 1.0000e-04\n",
      "Epoch 22/60\n",
      "159/159 [==============================] - 14s 88ms/step - loss: 0.2775 - accuracy: 0.9014 - val_loss: 0.3110 - val_accuracy: 0.8858 - lr: 1.0000e-04\n",
      "Epoch 23/60\n",
      "159/159 [==============================] - 14s 88ms/step - loss: 0.2736 - accuracy: 0.9026 - val_loss: 0.3094 - val_accuracy: 0.8861 - lr: 1.0000e-04\n",
      "Epoch 24/60\n",
      "159/159 [==============================] - 14s 88ms/step - loss: 0.2700 - accuracy: 0.9037 - val_loss: 0.3052 - val_accuracy: 0.8874 - lr: 1.0000e-04\n",
      "Epoch 25/60\n",
      "159/159 [==============================] - 14s 88ms/step - loss: 0.2668 - accuracy: 0.9047 - val_loss: 0.3019 - val_accuracy: 0.8886 - lr: 1.0000e-04\n",
      "Epoch 26/60\n",
      "159/159 [==============================] - 14s 88ms/step - loss: 0.2640 - accuracy: 0.9054 - val_loss: 0.2982 - val_accuracy: 0.8900 - lr: 1.0000e-04\n",
      "Epoch 27/60\n",
      "159/159 [==============================] - 14s 88ms/step - loss: 0.2611 - accuracy: 0.9064 - val_loss: 0.2950 - val_accuracy: 0.8906 - lr: 1.0000e-04\n",
      "Epoch 28/60\n",
      "159/159 [==============================] - 14s 88ms/step - loss: 0.2584 - accuracy: 0.9072 - val_loss: 0.2938 - val_accuracy: 0.8909 - lr: 1.0000e-04\n",
      "Epoch 29/60\n",
      "159/159 [==============================] - 14s 88ms/step - loss: 0.2562 - accuracy: 0.9079 - val_loss: 0.2956 - val_accuracy: 0.8904 - lr: 1.0000e-04\n",
      "Epoch 30/60\n",
      "159/159 [==============================] - 14s 88ms/step - loss: 0.2538 - accuracy: 0.9086 - val_loss: 0.2935 - val_accuracy: 0.8909 - lr: 1.0000e-04\n",
      "Epoch 31/60\n",
      "159/159 [==============================] - 14s 88ms/step - loss: 0.2521 - accuracy: 0.9092 - val_loss: 0.2869 - val_accuracy: 0.8936 - lr: 1.0000e-04\n",
      "Epoch 32/60\n",
      "159/159 [==============================] - 14s 89ms/step - loss: 0.2501 - accuracy: 0.9098 - val_loss: 0.2887 - val_accuracy: 0.8924 - lr: 1.0000e-04\n",
      "Epoch 33/60\n",
      "159/159 [==============================] - 14s 88ms/step - loss: 0.2485 - accuracy: 0.9103 - val_loss: 0.2897 - val_accuracy: 0.8920 - lr: 1.0000e-04\n",
      "Epoch 34/60\n",
      "159/159 [==============================] - 14s 88ms/step - loss: 0.2469 - accuracy: 0.9108 - val_loss: 0.2857 - val_accuracy: 0.8936 - lr: 1.0000e-04\n",
      "Epoch 35/60\n",
      "159/159 [==============================] - 14s 88ms/step - loss: 0.2459 - accuracy: 0.9112 - val_loss: 0.2834 - val_accuracy: 0.8939 - lr: 1.0000e-04\n",
      "Epoch 36/60\n",
      "159/159 [==============================] - 14s 88ms/step - loss: 0.2444 - accuracy: 0.9117 - val_loss: 0.2799 - val_accuracy: 0.8953 - lr: 1.0000e-04\n",
      "Epoch 37/60\n",
      "159/159 [==============================] - 14s 88ms/step - loss: 0.2431 - accuracy: 0.9122 - val_loss: 0.2784 - val_accuracy: 0.8960 - lr: 1.0000e-04\n",
      "Epoch 38/60\n",
      "159/159 [==============================] - 14s 88ms/step - loss: 0.2423 - accuracy: 0.9125 - val_loss: 0.2820 - val_accuracy: 0.8945 - lr: 1.0000e-04\n",
      "Epoch 39/60\n",
      "159/159 [==============================] - 14s 88ms/step - loss: 0.2417 - accuracy: 0.9128 - val_loss: 0.2806 - val_accuracy: 0.8949 - lr: 1.0000e-04\n",
      "Epoch 40/60\n",
      "159/159 [==============================] - 14s 88ms/step - loss: 0.2408 - accuracy: 0.9131 - val_loss: 0.2777 - val_accuracy: 0.8956 - lr: 1.0000e-04\n",
      "Epoch 41/60\n",
      "159/159 [==============================] - 14s 88ms/step - loss: 0.2404 - accuracy: 0.9132 - val_loss: 0.2758 - val_accuracy: 0.8966 - lr: 1.0000e-04\n",
      "Epoch 42/60\n",
      "159/159 [==============================] - 14s 88ms/step - loss: 0.2400 - accuracy: 0.9134 - val_loss: 0.2758 - val_accuracy: 0.8964 - lr: 1.0000e-04\n",
      "Epoch 43/60\n",
      "159/159 [==============================] - 14s 88ms/step - loss: 0.2400 - accuracy: 0.9135 - val_loss: 0.2741 - val_accuracy: 0.8972 - lr: 1.0000e-04\n",
      "Epoch 44/60\n",
      "159/159 [==============================] - 14s 88ms/step - loss: 0.2396 - accuracy: 0.9137 - val_loss: 0.2758 - val_accuracy: 0.8967 - lr: 1.0000e-04\n",
      "Epoch 45/60\n",
      "159/159 [==============================] - 14s 88ms/step - loss: 0.2394 - accuracy: 0.9138 - val_loss: 0.2762 - val_accuracy: 0.8966 - lr: 1.0000e-04\n",
      "Epoch 46/60\n",
      "159/159 [==============================] - 14s 88ms/step - loss: 0.2399 - accuracy: 0.9138 - val_loss: 0.2750 - val_accuracy: 0.8968 - lr: 1.0000e-04\n",
      "Epoch 47/60\n",
      "159/159 [==============================] - 14s 88ms/step - loss: 0.2402 - accuracy: 0.9138 - val_loss: 0.2754 - val_accuracy: 0.8968 - lr: 1.0000e-04\n",
      "Epoch 48/60\n",
      "158/159 [============================>.] - ETA: 0s - loss: 0.2405 - accuracy: 0.9137\n",
      "Epoch 48: ReduceLROnPlateau reducing learning rate to 1e-05.\n",
      "159/159 [==============================] - 14s 88ms/step - loss: 0.2405 - accuracy: 0.9138 - val_loss: 0.2770 - val_accuracy: 0.8962 - lr: 1.0000e-04\n",
      "Epoch 49/60\n",
      "159/159 [==============================] - 14s 88ms/step - loss: 0.2383 - accuracy: 0.9145 - val_loss: 0.2718 - val_accuracy: 0.8980 - lr: 1.0000e-05\n",
      "Epoch 50/60\n",
      "159/159 [==============================] - 14s 90ms/step - loss: 0.2374 - accuracy: 0.9148 - val_loss: 0.2713 - val_accuracy: 0.8982 - lr: 1.0000e-05\n",
      "Epoch 51/60\n",
      "159/159 [==============================] - 14s 88ms/step - loss: 0.2377 - accuracy: 0.9148 - val_loss: 0.2718 - val_accuracy: 0.8979 - lr: 1.0000e-05\n",
      "Epoch 52/60\n",
      "159/159 [==============================] - 14s 88ms/step - loss: 0.2376 - accuracy: 0.9148 - val_loss: 0.2712 - val_accuracy: 0.8982 - lr: 1.0000e-05\n",
      "Epoch 53/60\n",
      "159/159 [==============================] - 14s 88ms/step - loss: 0.2376 - accuracy: 0.9148 - val_loss: 0.2708 - val_accuracy: 0.8983 - lr: 1.0000e-05\n",
      "Epoch 54/60\n",
      "159/159 [==============================] - 14s 88ms/step - loss: 0.2374 - accuracy: 0.9150 - val_loss: 0.2713 - val_accuracy: 0.8983 - lr: 1.0000e-05\n",
      "Epoch 55/60\n",
      "159/159 [==============================] - 14s 88ms/step - loss: 0.2375 - accuracy: 0.9149 - val_loss: 0.2709 - val_accuracy: 0.8982 - lr: 1.0000e-05\n",
      "Epoch 56/60\n",
      "159/159 [==============================] - 14s 88ms/step - loss: 0.2373 - accuracy: 0.9150 - val_loss: 0.2712 - val_accuracy: 0.8981 - lr: 1.0000e-05\n",
      "Epoch 57/60\n",
      "159/159 [==============================] - 14s 88ms/step - loss: 0.2375 - accuracy: 0.9149 - val_loss: 0.2710 - val_accuracy: 0.8982 - lr: 1.0000e-05\n",
      "Epoch 58/60\n",
      "159/159 [==============================] - 14s 88ms/step - loss: 0.2376 - accuracy: 0.9149 - val_loss: 0.2708 - val_accuracy: 0.8984 - lr: 1.0000e-05\n",
      "Epoch 59/60\n",
      "159/159 [==============================] - 14s 88ms/step - loss: 0.2377 - accuracy: 0.9149 - val_loss: 0.2711 - val_accuracy: 0.8982 - lr: 1.0000e-05\n",
      "Epoch 60/60\n",
      "159/159 [==============================] - 14s 88ms/step - loss: 0.2377 - accuracy: 0.9149 - val_loss: 0.2712 - val_accuracy: 0.8982 - lr: 1.0000e-05\n"
     ]
    }
   ],
   "source": [
    "# Initialize U-Net model\n",
    "unet = UNet(input_shape=(28, 28, 1), num_classes=12)\n",
    "\n",
    "# Compile the model\n",
    "unet.compile(optimizer='adam')\n",
    "\n",
    "# Train the model\n",
    "unet.train(x_train_combined, y_train_combined, epochs=60, batch_size=256)\n"
   ]
  },
  {
   "cell_type": "code",
   "execution_count": null,
   "metadata": {
    "colab": {
     "base_uri": "https://localhost:8080/",
     "height": 411
    },
    "id": "gtZvxf9sD7Kw",
    "outputId": "a4f3cd65-f0bd-47ce-87de-b6a0b948b0f9"
   },
   "outputs": [
    {
     "data": {
      "image/png": "[encoded data removed]",
      "text/plain": [
       "<Figure size 1000x500 with 2 Axes>"
      ]
     },
     "metadata": {},
     "output_type": "display_data"
    }
   ],
   "source": [
    "import matplotlib.pyplot as plt\n",
    "\n",
    "fig, axs = plt.subplots(1, 2, figsize=(10, 5))  # 1 row, 2 columns\n",
    "\n",
    "# Plot the first image\n",
    "axs[0].imshow(x_train_multi[0])\n",
    "axs[0].set_title('Train Image')\n",
    "\n",
    "# Plot the second image\n",
    "axs[1].imshow(mask_to_rgb(y_train_multi[0]))\n",
    "axs[1].set_title('Train Mask')\n",
    "\n",
    "# Remove the x and y ticks\n",
    "for ax in axs:\n",
    "    ax.set_xticks([])\n",
    "    ax.set_yticks([])\n",
    "\n",
    "plt.show()"
   ]
  },
  {
   "cell_type": "code",
   "execution_count": null,
   "metadata": {
    "colab": {
     "base_uri": "https://localhost:8080/"
    },
    "id": "GLbp38qh8HzH",
    "outputId": "1145776e-378b-4abd-98c4-80811562763f"
   },
   "outputs": [
    {
     "data": {
      "text/plain": [
       "(7500, 28, 28, 1)"
      ]
     },
     "execution_count": 13,
     "metadata": {},
     "output_type": "execute_result"
    }
   ],
   "source": [
    "x_test_combined.shape"
   ]
  },
  {
   "cell_type": "code",
   "execution_count": null,
   "metadata": {
    "colab": {
     "base_uri": "https://localhost:8080/",
     "height": 305
    },
    "id": "xc3tstmGESHs",
    "outputId": "5c3dc5b6-5456-4d11-c55a-23defe1ff7be"
   },
   "outputs": [
    {
     "name": "stdout",
     "output_type": "stream",
     "text": [
      "1/1 [==============================] - 0s 210ms/step\n"
     ]
    },
    {
     "data": {
      "image/png": "[encoded data removed]",
      "text/plain": [
       "<Figure size 1000x500 with 3 Axes>"
      ]
     },
     "metadata": {},
     "output_type": "display_data"
    }
   ],
   "source": [
    "import matplotlib.pyplot as plt\n",
    "\n",
    "test_picture = 3003\n",
    "\n",
    "fig, axs = plt.subplots(1, 3, figsize=(10, 5))  # 1 row, 2 columns\n",
    "\n",
    "# Plot the first image\n",
    "axs[0].imshow(x_test_combined[test_picture])\n",
    "axs[0].set_title('Test Image')\n",
    "\n",
    "# Plot the second image\n",
    "axs[1].imshow(mask_to_rgb(y_test_combined[test_picture]))\n",
    "axs[1].set_title('Test Mask')\n",
    "\n",
    "# Plot the second image\n",
    "axs[2].imshow(mask_to_rgb(unet.predict(x_test_combined[test_picture].reshape((1,28,28,1)))).reshape((28,28,3)))\n",
    "axs[2].set_title('Predicted Mask')\n",
    "\n",
    "# Remove the x and y ticks\n",
    "for ax in axs:\n",
    "    ax.set_xticks([])\n",
    "    ax.set_yticks([])\n",
    "\n",
    "plt.show()"
   ]
  },
  {
   "cell_type": "code",
   "execution_count": null,
   "metadata": {
    "colab": {
     "base_uri": "https://localhost:8080/",
     "height": 775
    },
    "id": "zAyGgl7U5hGc",
    "outputId": "29ab8df7-c5e3-4d59-aba5-17cc73b52abc"
   },
   "outputs": [
    {
     "name": "stdout",
     "output_type": "stream",
     "text": [
      "1/1 [==============================] - 0s 19ms/step\n",
      "1/1 [==============================] - 0s 18ms/step\n",
      "1/1 [==============================] - 0s 17ms/step\n",
      "1/1 [==============================] - 0s 18ms/step\n",
      "1/1 [==============================] - 0s 18ms/step\n",
      "1/1 [==============================] - 0s 18ms/step\n",
      "1/1 [==============================] - 0s 19ms/step\n"
     ]
    },
    {
     "data": {
      "image/png": "[encoded data removed]",
      "text/plain": [
       "<Figure size 2000x1000 with 21 Axes>"
      ]
     },
     "metadata": {},
     "output_type": "display_data"
    }
   ],
   "source": [
    "fig, axs = plt.subplots(3, 7, figsize=(20, 10))  # 3 rows, 7 columns\n",
    "\n",
    "test_pictures = np.random.choice(x_test_combined.shape[0], 7, replace=False)\n",
    "\n",
    "for i, test_picture in enumerate(test_pictures):\n",
    "    # Plot the test image\n",
    "    axs[0, i].imshow(x_test_combined[test_picture])\n",
    "    axs[0, i].set_title('Test Image')\n",
    "\n",
    "    # Plot the test mask\n",
    "    axs[1, i].imshow(mask_to_rgb(y_test_combined[test_picture]))\n",
    "    axs[1, i].set_title('Test Mask')\n",
    "\n",
    "    # Plot the predicted mask\n",
    "    prediction = unet.predict(x_test_combined[test_picture].reshape((1,28,28,1)))\n",
    "    axs[2, i].imshow(mask_to_rgb(prediction).reshape((28,28,3)))\n",
    "    axs[2, i].set_title('Predicted Mask')\n",
    "\n",
    "# Remove the x and y ticks\n",
    "for i in range(3):\n",
    "    for j in range(7):\n",
    "        axs[i, j].set_xticks([])\n",
    "        axs[i, j].set_yticks([])\n",
    "\n",
    "plt.tight_layout()\n",
    "plt.show()\n"
   ]
  },
  {
   "cell_type": "markdown",
   "metadata": {
    "id": "bA1C6pktuQAv"
   },
   "source": [
    "#BIGGER UNET"
   ]
  },
  {
   "cell_type": "code",
   "execution_count": null,
   "metadata": {
    "id": "7yqHXkvhMVcF"
   },
   "outputs": [],
   "source": [
    "import tensorflow as tf\n",
    "from tensorflow.keras.models import Model\n",
    "from tensorflow.keras.layers import Input, Conv2D, MaxPooling2D, UpSampling2D, Concatenate, Dropout\n",
    "\n",
    "class UNet:\n",
    "    def __init__(self, input_shape=(256, 256, 1)):\n",
    "        self.input_shape = input_shape\n",
    "        self.model = self.build_model()\n",
    "\n",
    "    def encoder(self, inputs):\n",
    "        # First conv block\n",
    "        conv1 = Conv2D(64, (3, 3), activation='relu', padding='same')(inputs)\n",
    "        conv1 = Dropout(0.1)(conv1)\n",
    "        pool1 = MaxPooling2D(pool_size=(2, 2))(conv1)\n",
    "\n",
    "        # Second conv block\n",
    "        conv2 = Conv2D(128, (3, 3), activation='relu', padding='same')(pool1)\n",
    "        conv2 = Dropout(0.1)(conv2)\n",
    "        pool2 = MaxPooling2D(pool_size=(2, 2))(conv2)\n",
    "\n",
    "        # Third conv block\n",
    "        conv3 = Conv2D(256, (3, 3), activation='relu', padding='same')(pool2)\n",
    "        conv3 = Dropout(0.2)(conv3)\n",
    "        pool3 = MaxPooling2D(pool_size=(2, 2))(conv3)\n",
    "\n",
    "        # Fourth conv block\n",
    "        conv4 = Conv2D(512, (3, 3), activation='relu', padding='same')(pool3)\n",
    "        conv4 = Dropout(0.2)(conv4)\n",
    "        pool4 = MaxPooling2D(pool_size=(2, 2))(conv4)\n",
    "\n",
    "        return conv1, conv2, conv3, conv4, pool4\n",
    "\n",
    "    def decoder(self, conv1, conv2, conv3, conv4, encoded):\n",
    "        # First upscaling block\n",
    "        up1 = UpSampling2D(size=(2, 2))(encoded)\n",
    "        merge1 = Concatenate(axis=3)([conv4, up1])\n",
    "        conv5 = Conv2D(512, (3, 3), activation='relu', padding='same')(merge1)\n",
    "\n",
    "        # Second upscaling block\n",
    "        up2 = UpSampling2D(size=(2, 2))(conv5)\n",
    "        merge2 = Concatenate(axis=3)([conv3, up2])\n",
    "        conv6 = Conv2D(256, (3, 3), activation='relu', padding='same')(merge2)\n",
    "\n",
    "        # Third upscaling block\n",
    "        up3 = UpSampling2D(size=(2, 2))(conv6)\n",
    "        merge3 = Concatenate(axis=3)([conv2, up3])\n",
    "        conv7 = Conv2D(128, (3, 3), activation='relu', padding='same')(merge3)\n",
    "\n",
    "        # Fourth upscaling block\n",
    "        up4 = UpSampling2D(size=(2, 2))(conv7)\n",
    "        merge4 = Concatenate(axis=3)([conv1, up4])\n",
    "        conv8 = Conv2D(64, (3, 3), activation='relu', padding='same')(merge4)\n",
    "\n",
    "        return conv8\n",
    "\n",
    "    def build_model(self):\n",
    "        inputs = Input(self.input_shape)\n",
    "        conv1, conv2, conv3, conv4, encoded = self.encoder(inputs)\n",
    "       \n",
    "        decoded = self.decoder(conv1, conv2, conv3, conv4, encoded)\n",
    "\n",
    "        # Final Convolution layer to output the segmentation map. \n",
    "        # It has only one filter because the output is a binary mask.\n",
    "        outputs = Conv2D(1, (1, 1), activation='sigmoid')(decoded)\n",
    "\n",
    "        return Model(inputs=inputs, outputs=outputs)\n",
    "\n",
    "    def compile(self, optimizer='adam', loss='binary_crossentropy'):\n",
    "        # The compile function is used to configure the learning process. \n",
    "        # The optimizer is the search technique used to update the weights in your model. \n",
    "        # Adam is a common choice. The loss function is used to measure the model's performance. \n",
    "        # Binary cross entropy is a common choice for binary classification problems, \n",
    "        # like ours, where each pixel is classified as either part of the object or part of the background.\n",
    "        self.model.compile(optimizer=optimizer, loss=loss)\n",
    "\n",
    "    def train(self, x, y, epochs=10, batch_size=32, validation_split=0.1):\n",
    "        # The train function is used to train the model for a fixed number of epochs (iterations on a dataset). \n",
    "        # x is the input images, y is the target masks. \n",
    "        # The batch size is the number of samples per gradient update. \n",
    "        # Validation split fraction of the data to use as validation data.\n",
    "        self.model.fit(x, y, epochs=epochs, batch_size=batch_size, validation_split=validation_split)\n",
    "\n",
    "    def predict(self, x):\n",
    "        # The predict function generates output predictions for the input samples.\n",
    "        return self.model.predict(x)\n"
   ]
  }
 ],
 "metadata": {
  "accelerator": "GPU",
  "colab": {
   "machine_shape": "hm",
   "provenance": []
  },
  "gpuClass": "standard",
  "kernelspec": {
   "display_name": "Python 3 (ipykernel)",
   "language": "python",
   "name": "python3"
  },
  "language_info": {
   "name": "python"
  },
  "toc": {
   "base_numbering": 1,
   "nav_menu": {},
   "number_sections": true,
   "sideBar": true,
   "skip_h1_title": false,
   "title_cell": "Table of Contents",
   "title_sidebar": "Contents",
   "toc_cell": false,
   "toc_position": {},
   "toc_section_display": true,
   "toc_window_display": false
  }
 },
 "nbformat": 4,
 "nbformat_minor": 1
}
