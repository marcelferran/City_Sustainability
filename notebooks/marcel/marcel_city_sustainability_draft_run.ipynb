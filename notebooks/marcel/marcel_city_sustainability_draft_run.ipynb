{
 "cells": [
  {
   "cell_type": "code",
   "execution_count": 70,
   "id": "15724db8",
   "metadata": {
    "ExecuteTime": {
     "end_time": "2023-05-25T02:20:56.010426Z",
     "start_time": "2023-05-25T02:20:55.767418Z"
    }
   },
   "outputs": [],
   "source": [
    "# Imports\n",
    "import tensorflow as tf\n",
    "import matplotlib.pyplot as plt\n",
    "from tensorflow import keras\n",
    "from tensorflow.keras import layers\n",
    "from city_sustainability.quality import life_quality\n",
    "from city_sustainability.models import unet_model\n",
    "from tensorflow.keras.callbacks import EarlyStopping\n",
    "from city_sustainability.preprocessing import image_resize\n",
    "from city_sustainability.loading_data import loading_paths, image_and_label_arrays"
   ]
  },
  {
   "cell_type": "code",
   "execution_count": 20,
   "id": "12cf9c71",
   "metadata": {
    "ExecuteTime": {
     "end_time": "2023-05-24T14:30:27.268821Z",
     "start_time": "2023-05-24T14:30:27.244005Z"
    }
   },
   "outputs": [],
   "source": [
    "# Retrieve image_paths and label_paths\n",
    "data_path_1 = '../../raw_data/OpenEarthMap_wo_xBD'\n",
    "image_paths, label_paths = loading_paths(data_path_1)"
   ]
  },
  {
   "cell_type": "code",
   "execution_count": 21,
   "id": "1a6cbe12",
   "metadata": {
    "ExecuteTime": {
     "end_time": "2023-05-24T14:30:28.335594Z",
     "start_time": "2023-05-24T14:30:28.329931Z"
    }
   },
   "outputs": [
    {
     "data": {
      "text/plain": [
       "2687"
      ]
     },
     "execution_count": 21,
     "metadata": {},
     "output_type": "execute_result"
    }
   ],
   "source": [
    "# Check length of image_paths\n",
    "len(image_paths)"
   ]
  },
  {
   "cell_type": "code",
   "execution_count": 22,
   "id": "4792dad5",
   "metadata": {
    "ExecuteTime": {
     "end_time": "2023-05-24T14:30:29.100011Z",
     "start_time": "2023-05-24T14:30:29.093478Z"
    }
   },
   "outputs": [
    {
     "data": {
      "text/plain": [
       "2687"
      ]
     },
     "execution_count": 22,
     "metadata": {},
     "output_type": "execute_result"
    }
   ],
   "source": [
    "# Check length of label_paths\n",
    "len(label_paths)"
   ]
  },
  {
   "cell_type": "code",
   "execution_count": 54,
   "id": "ba72de05",
   "metadata": {
    "ExecuteTime": {
     "end_time": "2023-05-24T19:59:39.556137Z",
     "start_time": "2023-05-24T19:59:29.110070Z"
    }
   },
   "outputs": [],
   "source": [
    "# Import all image array as X and label array as y\n",
    "X, y = image_and_label_arrays(image_paths, label_paths, sampling_ratio=0.50)"
   ]
  },
  {
   "cell_type": "code",
   "execution_count": 55,
   "id": "275c29b0",
   "metadata": {
    "ExecuteTime": {
     "end_time": "2023-05-24T19:59:50.933818Z",
     "start_time": "2023-05-24T19:59:50.341608Z"
    }
   },
   "outputs": [],
   "source": [
    "# Apply holdout\n",
    "from sklearn.model_selection import train_test_split\n",
    "X_train, X_test, y_train, y_test = train_test_split(X, y, test_size = 0.3)"
   ]
  },
  {
   "cell_type": "code",
   "execution_count": 56,
   "id": "62420f24",
   "metadata": {
    "ExecuteTime": {
     "end_time": "2023-05-24T19:59:52.050418Z",
     "start_time": "2023-05-24T19:59:51.694373Z"
    }
   },
   "outputs": [],
   "source": [
    "# Scale X and y\n",
    "X_train_scaled = X_train / 255\n",
    "X_test_scaled = X_test / 255"
   ]
  },
  {
   "cell_type": "code",
   "execution_count": 57,
   "id": "7eb85db0",
   "metadata": {
    "ExecuteTime": {
     "end_time": "2023-05-24T19:59:52.908190Z",
     "start_time": "2023-05-24T19:59:52.898476Z"
    }
   },
   "outputs": [
    {
     "data": {
      "text/plain": [
       "(940, 256, 256, 3)"
      ]
     },
     "execution_count": 57,
     "metadata": {},
     "output_type": "execute_result"
    }
   ],
   "source": [
    "# Confirm shapes\n",
    "X_train.shape\n",
    "X_test.shape\n",
    "y_train.shape\n",
    "y_test.shape\n",
    "X_train_scaled.shape\n",
    "X_test_scaled.shape"
   ]
  },
  {
   "cell_type": "code",
   "execution_count": 58,
   "id": "9fdf3d63",
   "metadata": {
    "ExecuteTime": {
     "end_time": "2023-05-24T19:59:57.023870Z",
     "start_time": "2023-05-24T19:59:57.015826Z"
    }
   },
   "outputs": [
    {
     "data": {
      "text/plain": [
       "(404, 256, 256, 3)"
      ]
     },
     "execution_count": 58,
     "metadata": {},
     "output_type": "execute_result"
    }
   ],
   "source": [
    "X_test.shape"
   ]
  },
  {
   "cell_type": "code",
   "execution_count": 59,
   "id": "083eaa3a",
   "metadata": {
    "ExecuteTime": {
     "end_time": "2023-05-24T19:59:58.025763Z",
     "start_time": "2023-05-24T19:59:58.016858Z"
    }
   },
   "outputs": [
    {
     "data": {
      "text/plain": [
       "(940, 256, 256, 9)"
      ]
     },
     "execution_count": 59,
     "metadata": {},
     "output_type": "execute_result"
    }
   ],
   "source": [
    "y_train.shape"
   ]
  },
  {
   "cell_type": "code",
   "execution_count": 60,
   "id": "f64835f4",
   "metadata": {
    "ExecuteTime": {
     "end_time": "2023-05-24T19:59:58.821585Z",
     "start_time": "2023-05-24T19:59:58.813394Z"
    },
    "scrolled": true
   },
   "outputs": [
    {
     "data": {
      "text/plain": [
       "(404, 256, 256, 9)"
      ]
     },
     "execution_count": 60,
     "metadata": {},
     "output_type": "execute_result"
    }
   ],
   "source": [
    "y_test.shape"
   ]
  },
  {
   "cell_type": "code",
   "execution_count": 61,
   "id": "9aabdd12",
   "metadata": {
    "ExecuteTime": {
     "end_time": "2023-05-24T20:00:01.069206Z",
     "start_time": "2023-05-24T20:00:01.058965Z"
    }
   },
   "outputs": [
    {
     "data": {
      "text/plain": [
       "(940, 256, 256, 3)"
      ]
     },
     "execution_count": 61,
     "metadata": {},
     "output_type": "execute_result"
    }
   ],
   "source": [
    "X_train_scaled.shape"
   ]
  },
  {
   "cell_type": "code",
   "execution_count": 62,
   "id": "9938c3d2",
   "metadata": {
    "ExecuteTime": {
     "end_time": "2023-05-24T20:00:02.320015Z",
     "start_time": "2023-05-24T20:00:02.310367Z"
    }
   },
   "outputs": [
    {
     "data": {
      "text/plain": [
       "(404, 256, 256, 3)"
      ]
     },
     "execution_count": 62,
     "metadata": {},
     "output_type": "execute_result"
    }
   ],
   "source": [
    "X_test_scaled.shape"
   ]
  },
  {
   "cell_type": "code",
   "execution_count": 63,
   "id": "96add111",
   "metadata": {
    "ExecuteTime": {
     "end_time": "2023-05-24T20:00:06.635816Z",
     "start_time": "2023-05-24T20:00:06.413400Z"
    }
   },
   "outputs": [],
   "source": [
    "# Create the model\n",
    "model = unet_model.build_vgg16_model(input_shape=(256, 256, 3), num_classes = 9)"
   ]
  },
  {
   "cell_type": "code",
   "execution_count": 64,
   "id": "d8d7f730",
   "metadata": {
    "ExecuteTime": {
     "end_time": "2023-05-24T20:00:08.909786Z",
     "start_time": "2023-05-24T20:00:08.894127Z"
    }
   },
   "outputs": [],
   "source": [
    "# Compile the model\n",
    "\n",
    "unet_model.compile_model(model)"
   ]
  },
  {
   "cell_type": "code",
   "execution_count": null,
   "id": "b4c43604",
   "metadata": {},
   "outputs": [],
   "source": [
    "# early_stopping = EarlyStopping(monitor='val_loss', patience=10)\n",
    "# callbacks=[early_stopping])"
   ]
  },
  {
   "cell_type": "code",
   "execution_count": 65,
   "id": "000ac9a4",
   "metadata": {
    "ExecuteTime": {
     "end_time": "2023-05-25T01:55:42.899058Z",
     "start_time": "2023-05-24T20:00:45.734161Z"
    }
   },
   "outputs": [
    {
     "name": "stdout",
     "output_type": "stream",
     "text": [
      "Epoch 1/100\n",
      "24/24 [==============================] - 219s 9s/step - loss: 2.1827 - accuracy: 0.2721 - compute_iou: 0.1132 - val_loss: 3.8247 - val_accuracy: 0.3099 - val_compute_iou: 0.1832 - lr: 1.0000e-04\n",
      "Epoch 2/100\n",
      "24/24 [==============================] - 214s 9s/step - loss: 1.6985 - accuracy: 0.4133 - compute_iou: 0.1698 - val_loss: 3.5159 - val_accuracy: 0.3249 - val_compute_iou: 0.1894 - lr: 1.0000e-04\n",
      "Epoch 3/100\n",
      "24/24 [==============================] - 214s 9s/step - loss: 1.5441 - accuracy: 0.4599 - compute_iou: 0.1962 - val_loss: 2.9318 - val_accuracy: 0.3595 - val_compute_iou: 0.2078 - lr: 1.0000e-04\n",
      "Epoch 4/100\n",
      "24/24 [==============================] - 214s 9s/step - loss: 1.4677 - accuracy: 0.4827 - compute_iou: 0.2111 - val_loss: 2.2502 - val_accuracy: 0.4061 - val_compute_iou: 0.2274 - lr: 1.0000e-04\n",
      "Epoch 5/100\n",
      "24/24 [==============================] - 213s 9s/step - loss: 1.4134 - accuracy: 0.4968 - compute_iou: 0.2213 - val_loss: 1.8733 - val_accuracy: 0.4431 - val_compute_iou: 0.2457 - lr: 1.0000e-04\n",
      "Epoch 6/100\n",
      "24/24 [==============================] - 214s 9s/step - loss: 1.3744 - accuracy: 0.5067 - compute_iou: 0.2313 - val_loss: 1.6449 - val_accuracy: 0.4707 - val_compute_iou: 0.2572 - lr: 1.0000e-04\n",
      "Epoch 7/100\n",
      "24/24 [==============================] - 213s 9s/step - loss: 1.3447 - accuracy: 0.5155 - compute_iou: 0.2380 - val_loss: 1.5171 - val_accuracy: 0.4940 - val_compute_iou: 0.2678 - lr: 1.0000e-04\n",
      "Epoch 8/100\n",
      "24/24 [==============================] - 213s 9s/step - loss: 1.3190 - accuracy: 0.5217 - compute_iou: 0.2449 - val_loss: 1.3851 - val_accuracy: 0.5119 - val_compute_iou: 0.2717 - lr: 1.0000e-04\n",
      "Epoch 9/100\n",
      "24/24 [==============================] - 213s 9s/step - loss: 1.3068 - accuracy: 0.5236 - compute_iou: 0.2478 - val_loss: 1.3305 - val_accuracy: 0.5237 - val_compute_iou: 0.2758 - lr: 1.0000e-04\n",
      "Epoch 10/100\n",
      "24/24 [==============================] - 214s 9s/step - loss: 1.2878 - accuracy: 0.5302 - compute_iou: 0.2527 - val_loss: 1.3201 - val_accuracy: 0.5258 - val_compute_iou: 0.2732 - lr: 1.0000e-04\n",
      "Epoch 11/100\n",
      "24/24 [==============================] - 213s 9s/step - loss: 1.2721 - accuracy: 0.5347 - compute_iou: 0.2564 - val_loss: 1.2390 - val_accuracy: 0.5411 - val_compute_iou: 0.2812 - lr: 1.0000e-04\n",
      "Epoch 12/100\n",
      "24/24 [==============================] - 213s 9s/step - loss: 1.2643 - accuracy: 0.5374 - compute_iou: 0.2584 - val_loss: 1.2146 - val_accuracy: 0.5483 - val_compute_iou: 0.2842 - lr: 1.0000e-04\n",
      "Epoch 13/100\n",
      "24/24 [==============================] - 213s 9s/step - loss: 1.2518 - accuracy: 0.5398 - compute_iou: 0.2620 - val_loss: 1.2153 - val_accuracy: 0.5467 - val_compute_iou: 0.2832 - lr: 1.0000e-04\n",
      "Epoch 14/100\n",
      "24/24 [==============================] - 213s 9s/step - loss: 1.2442 - accuracy: 0.5404 - compute_iou: 0.2641 - val_loss: 1.2123 - val_accuracy: 0.5492 - val_compute_iou: 0.2797 - lr: 1.0000e-04\n",
      "Epoch 15/100\n",
      "24/24 [==============================] - 213s 9s/step - loss: 1.2323 - accuracy: 0.5445 - compute_iou: 0.2666 - val_loss: 1.1864 - val_accuracy: 0.5565 - val_compute_iou: 0.2883 - lr: 1.0000e-04\n",
      "Epoch 16/100\n",
      "24/24 [==============================] - 213s 9s/step - loss: 1.2194 - accuracy: 0.5482 - compute_iou: 0.2695 - val_loss: 1.1778 - val_accuracy: 0.5590 - val_compute_iou: 0.2890 - lr: 1.0000e-04\n",
      "Epoch 17/100\n",
      "24/24 [==============================] - 213s 9s/step - loss: 1.2104 - accuracy: 0.5518 - compute_iou: 0.2733 - val_loss: 1.1591 - val_accuracy: 0.5640 - val_compute_iou: 0.2903 - lr: 1.0000e-04\n",
      "Epoch 18/100\n",
      "24/24 [==============================] - 212s 9s/step - loss: 1.2043 - accuracy: 0.5523 - compute_iou: 0.2735 - val_loss: 1.1639 - val_accuracy: 0.5649 - val_compute_iou: 0.2876 - lr: 1.0000e-04\n",
      "Epoch 19/100\n",
      "24/24 [==============================] - 212s 9s/step - loss: 1.1920 - accuracy: 0.5554 - compute_iou: 0.2771 - val_loss: 1.1505 - val_accuracy: 0.5676 - val_compute_iou: 0.2933 - lr: 1.0000e-04\n",
      "Epoch 20/100\n",
      "24/24 [==============================] - 212s 9s/step - loss: 1.1887 - accuracy: 0.5573 - compute_iou: 0.2784 - val_loss: 1.1621 - val_accuracy: 0.5679 - val_compute_iou: 0.2938 - lr: 1.0000e-04\n",
      "Epoch 21/100\n",
      "24/24 [==============================] - 213s 9s/step - loss: 1.1802 - accuracy: 0.5601 - compute_iou: 0.2816 - val_loss: 1.1539 - val_accuracy: 0.5673 - val_compute_iou: 0.2922 - lr: 1.0000e-04\n",
      "Epoch 22/100\n",
      "24/24 [==============================] - 212s 9s/step - loss: 1.1781 - accuracy: 0.5608 - compute_iou: 0.2814 - val_loss: 1.1452 - val_accuracy: 0.5709 - val_compute_iou: 0.2980 - lr: 1.0000e-04\n",
      "Epoch 23/100\n",
      "24/24 [==============================] - 212s 9s/step - loss: 1.1754 - accuracy: 0.5614 - compute_iou: 0.2836 - val_loss: 1.1313 - val_accuracy: 0.5751 - val_compute_iou: 0.2983 - lr: 1.0000e-04\n",
      "Epoch 24/100\n",
      "24/24 [==============================] - 213s 9s/step - loss: 1.1694 - accuracy: 0.5620 - compute_iou: 0.2852 - val_loss: 1.1414 - val_accuracy: 0.5729 - val_compute_iou: 0.2989 - lr: 1.0000e-04\n",
      "Epoch 25/100\n",
      "24/24 [==============================] - 214s 9s/step - loss: 1.1617 - accuracy: 0.5640 - compute_iou: 0.2863 - val_loss: 1.1333 - val_accuracy: 0.5718 - val_compute_iou: 0.3002 - lr: 1.0000e-04\n",
      "Epoch 26/100\n",
      "24/24 [==============================] - 212s 9s/step - loss: 1.1562 - accuracy: 0.5672 - compute_iou: 0.2879 - val_loss: 1.1380 - val_accuracy: 0.5761 - val_compute_iou: 0.3024 - lr: 1.0000e-04\n",
      "Epoch 27/100\n",
      "24/24 [==============================] - 214s 9s/step - loss: 1.1486 - accuracy: 0.5682 - compute_iou: 0.2887 - val_loss: 1.1201 - val_accuracy: 0.5809 - val_compute_iou: 0.3009 - lr: 1.0000e-04\n",
      "Epoch 28/100\n",
      "24/24 [==============================] - 212s 9s/step - loss: 1.1498 - accuracy: 0.5676 - compute_iou: 0.2900 - val_loss: 1.1186 - val_accuracy: 0.5818 - val_compute_iou: 0.3046 - lr: 1.0000e-04\n",
      "Epoch 29/100\n",
      "24/24 [==============================] - 213s 9s/step - loss: 1.1362 - accuracy: 0.5731 - compute_iou: 0.2933 - val_loss: 1.1352 - val_accuracy: 0.5767 - val_compute_iou: 0.3093 - lr: 1.0000e-04\n",
      "Epoch 30/100\n",
      "24/24 [==============================] - 214s 9s/step - loss: 1.1352 - accuracy: 0.5729 - compute_iou: 0.2939 - val_loss: 1.1115 - val_accuracy: 0.5830 - val_compute_iou: 0.3059 - lr: 1.0000e-04\n",
      "Epoch 31/100\n",
      "24/24 [==============================] - 212s 9s/step - loss: 1.1325 - accuracy: 0.5736 - compute_iou: 0.2939 - val_loss: 1.1212 - val_accuracy: 0.5824 - val_compute_iou: 0.3063 - lr: 1.0000e-04\n",
      "Epoch 32/100\n",
      "24/24 [==============================] - 212s 9s/step - loss: 1.1279 - accuracy: 0.5745 - compute_iou: 0.2957 - val_loss: 1.1104 - val_accuracy: 0.5827 - val_compute_iou: 0.3036 - lr: 1.0000e-04\n",
      "Epoch 33/100\n",
      "24/24 [==============================] - 213s 9s/step - loss: 1.1233 - accuracy: 0.5761 - compute_iou: 0.2972 - val_loss: 1.1105 - val_accuracy: 0.5840 - val_compute_iou: 0.3057 - lr: 1.0000e-04\n",
      "Epoch 34/100\n",
      "24/24 [==============================] - 215s 9s/step - loss: 1.1294 - accuracy: 0.5738 - compute_iou: 0.2958 - val_loss: 1.1097 - val_accuracy: 0.5840 - val_compute_iou: 0.3063 - lr: 1.0000e-04\n",
      "Epoch 35/100\n",
      "24/24 [==============================] - 214s 9s/step - loss: 1.1136 - accuracy: 0.5800 - compute_iou: 0.2998 - val_loss: 1.0981 - val_accuracy: 0.5865 - val_compute_iou: 0.3097 - lr: 1.0000e-04\n",
      "Epoch 36/100\n",
      "24/24 [==============================] - 212s 9s/step - loss: 1.1140 - accuracy: 0.5795 - compute_iou: 0.3004 - val_loss: 1.1074 - val_accuracy: 0.5842 - val_compute_iou: 0.3056 - lr: 1.0000e-04\n",
      "Epoch 37/100\n",
      "24/24 [==============================] - 213s 9s/step - loss: 1.1185 - accuracy: 0.5773 - compute_iou: 0.2994 - val_loss: 1.1048 - val_accuracy: 0.5814 - val_compute_iou: 0.3087 - lr: 1.0000e-04\n",
      "Epoch 38/100\n",
      "24/24 [==============================] - 212s 9s/step - loss: 1.1128 - accuracy: 0.5777 - compute_iou: 0.3004 - val_loss: 1.1012 - val_accuracy: 0.5861 - val_compute_iou: 0.3065 - lr: 1.0000e-04\n",
      "Epoch 39/100\n",
      "24/24 [==============================] - 213s 9s/step - loss: 1.1028 - accuracy: 0.5809 - compute_iou: 0.3022 - val_loss: 1.0984 - val_accuracy: 0.5860 - val_compute_iou: 0.3153 - lr: 1.0000e-04\n",
      "Epoch 40/100\n"
     ]
    },
    {
     "name": "stdout",
     "output_type": "stream",
     "text": [
      "24/24 [==============================] - ETA: 0s - loss: 1.1033 - accuracy: 0.5811 - compute_iou: 0.3035\n",
      "Epoch 40: ReduceLROnPlateau reducing learning rate to 1e-05.\n",
      "24/24 [==============================] - 212s 9s/step - loss: 1.1033 - accuracy: 0.5811 - compute_iou: 0.3035 - val_loss: 1.1021 - val_accuracy: 0.5887 - val_compute_iou: 0.3087 - lr: 1.0000e-04\n",
      "Epoch 41/100\n",
      "24/24 [==============================] - 212s 9s/step - loss: 1.0920 - accuracy: 0.5852 - compute_iou: 0.3043 - val_loss: 1.0912 - val_accuracy: 0.5914 - val_compute_iou: 0.3115 - lr: 1.0000e-05\n",
      "Epoch 42/100\n",
      "24/24 [==============================] - 213s 9s/step - loss: 1.0918 - accuracy: 0.5861 - compute_iou: 0.3053 - val_loss: 1.0839 - val_accuracy: 0.5925 - val_compute_iou: 0.3126 - lr: 1.0000e-05\n",
      "Epoch 43/100\n",
      "24/24 [==============================] - 213s 9s/step - loss: 1.0895 - accuracy: 0.5869 - compute_iou: 0.3054 - val_loss: 1.0847 - val_accuracy: 0.5919 - val_compute_iou: 0.3130 - lr: 1.0000e-05\n",
      "Epoch 44/100\n",
      "24/24 [==============================] - 214s 9s/step - loss: 1.0936 - accuracy: 0.5855 - compute_iou: 0.3058 - val_loss: 1.0848 - val_accuracy: 0.5919 - val_compute_iou: 0.3122 - lr: 1.0000e-05\n",
      "Epoch 45/100\n",
      "24/24 [==============================] - 212s 9s/step - loss: 1.0909 - accuracy: 0.5867 - compute_iou: 0.3057 - val_loss: 1.0839 - val_accuracy: 0.5921 - val_compute_iou: 0.3131 - lr: 1.0000e-05\n",
      "Epoch 46/100\n",
      "24/24 [==============================] - 213s 9s/step - loss: 1.0897 - accuracy: 0.5866 - compute_iou: 0.3058 - val_loss: 1.0844 - val_accuracy: 0.5921 - val_compute_iou: 0.3128 - lr: 1.0000e-05\n",
      "Epoch 47/100\n",
      "24/24 [==============================] - 213s 9s/step - loss: 1.0881 - accuracy: 0.5875 - compute_iou: 0.3068 - val_loss: 1.0843 - val_accuracy: 0.5925 - val_compute_iou: 0.3132 - lr: 1.0000e-05\n",
      "Epoch 48/100\n",
      "24/24 [==============================] - 213s 9s/step - loss: 1.0936 - accuracy: 0.5852 - compute_iou: 0.3055 - val_loss: 1.0852 - val_accuracy: 0.5920 - val_compute_iou: 0.3138 - lr: 1.0000e-05\n",
      "Epoch 49/100\n",
      "24/24 [==============================] - 214s 9s/step - loss: 1.0871 - accuracy: 0.5879 - compute_iou: 0.3066 - val_loss: 1.0847 - val_accuracy: 0.5923 - val_compute_iou: 0.3136 - lr: 1.0000e-05\n",
      "Epoch 50/100\n",
      "24/24 [==============================] - 213s 9s/step - loss: 1.0884 - accuracy: 0.5878 - compute_iou: 0.3066 - val_loss: 1.0852 - val_accuracy: 0.5920 - val_compute_iou: 0.3131 - lr: 1.0000e-05\n",
      "Epoch 51/100\n",
      "24/24 [==============================] - 213s 9s/step - loss: 1.0850 - accuracy: 0.5880 - compute_iou: 0.3072 - val_loss: 1.0840 - val_accuracy: 0.5925 - val_compute_iou: 0.3136 - lr: 1.0000e-05\n",
      "Epoch 52/100\n",
      "24/24 [==============================] - 213s 9s/step - loss: 1.0854 - accuracy: 0.5875 - compute_iou: 0.3064 - val_loss: 1.0834 - val_accuracy: 0.5928 - val_compute_iou: 0.3141 - lr: 1.0000e-05\n",
      "Epoch 53/100\n",
      "24/24 [==============================] - 213s 9s/step - loss: 1.0883 - accuracy: 0.5873 - compute_iou: 0.3074 - val_loss: 1.0839 - val_accuracy: 0.5925 - val_compute_iou: 0.3135 - lr: 1.0000e-05\n",
      "Epoch 54/100\n",
      "24/24 [==============================] - 212s 9s/step - loss: 1.0888 - accuracy: 0.5869 - compute_iou: 0.3070 - val_loss: 1.0833 - val_accuracy: 0.5928 - val_compute_iou: 0.3144 - lr: 1.0000e-05\n",
      "Epoch 55/100\n",
      "24/24 [==============================] - 212s 9s/step - loss: 1.0883 - accuracy: 0.5874 - compute_iou: 0.3073 - val_loss: 1.0827 - val_accuracy: 0.5929 - val_compute_iou: 0.3143 - lr: 1.0000e-05\n",
      "Epoch 56/100\n",
      "24/24 [==============================] - 213s 9s/step - loss: 1.0821 - accuracy: 0.5896 - compute_iou: 0.3079 - val_loss: 1.0837 - val_accuracy: 0.5927 - val_compute_iou: 0.3144 - lr: 1.0000e-05\n",
      "Epoch 57/100\n",
      "24/24 [==============================] - 213s 9s/step - loss: 1.1010 - accuracy: 0.5841 - compute_iou: 0.3049 - val_loss: 1.0813 - val_accuracy: 0.5932 - val_compute_iou: 0.3142 - lr: 1.0000e-05\n",
      "Epoch 58/100\n",
      "24/24 [==============================] - 213s 9s/step - loss: 1.0860 - accuracy: 0.5884 - compute_iou: 0.3072 - val_loss: 1.0807 - val_accuracy: 0.5932 - val_compute_iou: 0.3145 - lr: 1.0000e-05\n",
      "Epoch 59/100\n",
      "24/24 [==============================] - 214s 9s/step - loss: 1.0828 - accuracy: 0.5890 - compute_iou: 0.3080 - val_loss: 1.0821 - val_accuracy: 0.5931 - val_compute_iou: 0.3148 - lr: 1.0000e-05\n",
      "Epoch 60/100\n",
      "24/24 [==============================] - 212s 9s/step - loss: 1.0822 - accuracy: 0.5890 - compute_iou: 0.3077 - val_loss: 1.0815 - val_accuracy: 0.5935 - val_compute_iou: 0.3152 - lr: 1.0000e-05\n",
      "Epoch 61/100\n",
      "24/24 [==============================] - 213s 9s/step - loss: 1.0821 - accuracy: 0.5891 - compute_iou: 0.3083 - val_loss: 1.0815 - val_accuracy: 0.5930 - val_compute_iou: 0.3142 - lr: 1.0000e-05\n",
      "Epoch 62/100\n",
      "24/24 [==============================] - 213s 9s/step - loss: 1.0852 - accuracy: 0.5883 - compute_iou: 0.3076 - val_loss: 1.0810 - val_accuracy: 0.5929 - val_compute_iou: 0.3147 - lr: 1.0000e-05\n",
      "Epoch 63/100\n",
      "24/24 [==============================] - 213s 9s/step - loss: 1.0876 - accuracy: 0.5877 - compute_iou: 0.3077 - val_loss: 1.0817 - val_accuracy: 0.5934 - val_compute_iou: 0.3150 - lr: 1.0000e-05\n",
      "Epoch 64/100\n",
      "24/24 [==============================] - 213s 9s/step - loss: 1.0815 - accuracy: 0.5893 - compute_iou: 0.3081 - val_loss: 1.0809 - val_accuracy: 0.5933 - val_compute_iou: 0.3151 - lr: 1.0000e-05\n",
      "Epoch 65/100\n",
      "24/24 [==============================] - 213s 9s/step - loss: 1.0923 - accuracy: 0.5862 - compute_iou: 0.3070 - val_loss: 1.0799 - val_accuracy: 0.5935 - val_compute_iou: 0.3151 - lr: 1.0000e-05\n",
      "Epoch 66/100\n",
      "24/24 [==============================] - 212s 9s/step - loss: 1.0791 - accuracy: 0.5906 - compute_iou: 0.3093 - val_loss: 1.0806 - val_accuracy: 0.5939 - val_compute_iou: 0.3157 - lr: 1.0000e-05\n",
      "Epoch 67/100\n",
      "24/24 [==============================] - 215s 9s/step - loss: 1.0789 - accuracy: 0.5898 - compute_iou: 0.3090 - val_loss: 1.0801 - val_accuracy: 0.5937 - val_compute_iou: 0.3156 - lr: 1.0000e-05\n",
      "Epoch 68/100\n",
      "24/24 [==============================] - 213s 9s/step - loss: 1.0852 - accuracy: 0.5884 - compute_iou: 0.3086 - val_loss: 1.0810 - val_accuracy: 0.5933 - val_compute_iou: 0.3149 - lr: 1.0000e-05\n",
      "Epoch 69/100\n",
      "24/24 [==============================] - 214s 9s/step - loss: 1.0814 - accuracy: 0.5889 - compute_iou: 0.3079 - val_loss: 1.0800 - val_accuracy: 0.5937 - val_compute_iou: 0.3155 - lr: 1.0000e-05\n",
      "Epoch 70/100\n",
      "24/24 [==============================] - 213s 9s/step - loss: 1.0908 - accuracy: 0.5861 - compute_iou: 0.3069 - val_loss: 1.0794 - val_accuracy: 0.5941 - val_compute_iou: 0.3151 - lr: 1.0000e-05\n",
      "Epoch 71/100\n",
      "24/24 [==============================] - 212s 9s/step - loss: 1.0825 - accuracy: 0.5895 - compute_iou: 0.3086 - val_loss: 1.0796 - val_accuracy: 0.5938 - val_compute_iou: 0.3160 - lr: 1.0000e-05\n",
      "Epoch 72/100\n",
      "24/24 [==============================] - 213s 9s/step - loss: 1.0888 - accuracy: 0.5873 - compute_iou: 0.3079 - val_loss: 1.0801 - val_accuracy: 0.5937 - val_compute_iou: 0.3153 - lr: 1.0000e-05\n",
      "Epoch 73/100\n",
      "24/24 [==============================] - 215s 9s/step - loss: 1.0780 - accuracy: 0.5902 - compute_iou: 0.3095 - val_loss: 1.0783 - val_accuracy: 0.5941 - val_compute_iou: 0.3156 - lr: 1.0000e-05\n",
      "Epoch 74/100\n",
      "24/24 [==============================] - 212s 9s/step - loss: 1.0808 - accuracy: 0.5891 - compute_iou: 0.3089 - val_loss: 1.0785 - val_accuracy: 0.5941 - val_compute_iou: 0.3156 - lr: 1.0000e-05\n",
      "Epoch 75/100\n",
      "24/24 [==============================] - 212s 9s/step - loss: 1.0828 - accuracy: 0.5891 - compute_iou: 0.3094 - val_loss: 1.0774 - val_accuracy: 0.5940 - val_compute_iou: 0.3156 - lr: 1.0000e-05\n",
      "Epoch 76/100\n",
      "24/24 [==============================] - 215s 9s/step - loss: 1.0867 - accuracy: 0.5881 - compute_iou: 0.3082 - val_loss: 1.0785 - val_accuracy: 0.5944 - val_compute_iou: 0.3161 - lr: 1.0000e-05\n",
      "Epoch 77/100\n",
      "24/24 [==============================] - 213s 9s/step - loss: 1.0734 - accuracy: 0.5916 - compute_iou: 0.3105 - val_loss: 1.0784 - val_accuracy: 0.5942 - val_compute_iou: 0.3162 - lr: 1.0000e-05\n",
      "Epoch 78/100\n",
      "24/24 [==============================] - 213s 9s/step - loss: 1.0814 - accuracy: 0.5901 - compute_iou: 0.3091 - val_loss: 1.0765 - val_accuracy: 0.5947 - val_compute_iou: 0.3162 - lr: 1.0000e-05\n"
     ]
    },
    {
     "name": "stdout",
     "output_type": "stream",
     "text": [
      "Epoch 79/100\n",
      "24/24 [==============================] - 212s 9s/step - loss: 1.0753 - accuracy: 0.5913 - compute_iou: 0.3101 - val_loss: 1.0779 - val_accuracy: 0.5946 - val_compute_iou: 0.3162 - lr: 1.0000e-05\n",
      "Epoch 80/100\n",
      "24/24 [==============================] - 212s 9s/step - loss: 1.0801 - accuracy: 0.5895 - compute_iou: 0.3097 - val_loss: 1.0775 - val_accuracy: 0.5949 - val_compute_iou: 0.3166 - lr: 1.0000e-05\n",
      "Epoch 81/100\n",
      "24/24 [==============================] - 212s 9s/step - loss: 1.0782 - accuracy: 0.5909 - compute_iou: 0.3102 - val_loss: 1.0775 - val_accuracy: 0.5942 - val_compute_iou: 0.3162 - lr: 1.0000e-05\n",
      "Epoch 82/100\n",
      "24/24 [==============================] - 212s 9s/step - loss: 1.0805 - accuracy: 0.5888 - compute_iou: 0.3098 - val_loss: 1.0777 - val_accuracy: 0.5943 - val_compute_iou: 0.3168 - lr: 1.0000e-05\n",
      "Epoch 83/100\n",
      "24/24 [==============================] - 212s 9s/step - loss: 1.0804 - accuracy: 0.5900 - compute_iou: 0.3101 - val_loss: 1.0761 - val_accuracy: 0.5948 - val_compute_iou: 0.3164 - lr: 1.0000e-05\n",
      "Epoch 84/100\n",
      "24/24 [==============================] - 213s 9s/step - loss: 1.0791 - accuracy: 0.5905 - compute_iou: 0.3105 - val_loss: 1.0759 - val_accuracy: 0.5950 - val_compute_iou: 0.3162 - lr: 1.0000e-05\n",
      "Epoch 85/100\n",
      "24/24 [==============================] - 213s 9s/step - loss: 1.0824 - accuracy: 0.5890 - compute_iou: 0.3090 - val_loss: 1.0770 - val_accuracy: 0.5945 - val_compute_iou: 0.3165 - lr: 1.0000e-05\n",
      "Epoch 86/100\n",
      "24/24 [==============================] - 212s 9s/step - loss: 1.0706 - accuracy: 0.5923 - compute_iou: 0.3110 - val_loss: 1.0764 - val_accuracy: 0.5949 - val_compute_iou: 0.3166 - lr: 1.0000e-05\n",
      "Epoch 87/100\n",
      "24/24 [==============================] - 213s 9s/step - loss: 1.0822 - accuracy: 0.5890 - compute_iou: 0.3098 - val_loss: 1.0768 - val_accuracy: 0.5948 - val_compute_iou: 0.3168 - lr: 1.0000e-05\n",
      "Epoch 88/100\n",
      "24/24 [==============================] - 213s 9s/step - loss: 1.0752 - accuracy: 0.5906 - compute_iou: 0.3106 - val_loss: 1.0755 - val_accuracy: 0.5952 - val_compute_iou: 0.3172 - lr: 1.0000e-05\n",
      "Epoch 89/100\n",
      "24/24 [==============================] - 213s 9s/step - loss: 1.0778 - accuracy: 0.5909 - compute_iou: 0.3105 - val_loss: 1.0764 - val_accuracy: 0.5949 - val_compute_iou: 0.3168 - lr: 1.0000e-05\n",
      "Epoch 90/100\n",
      "24/24 [==============================] - 213s 9s/step - loss: 1.0844 - accuracy: 0.5883 - compute_iou: 0.3094 - val_loss: 1.0756 - val_accuracy: 0.5950 - val_compute_iou: 0.3171 - lr: 1.0000e-05\n",
      "Epoch 91/100\n",
      "24/24 [==============================] - 213s 9s/step - loss: 1.0709 - accuracy: 0.5925 - compute_iou: 0.3113 - val_loss: 1.0758 - val_accuracy: 0.5951 - val_compute_iou: 0.3174 - lr: 1.0000e-05\n",
      "Epoch 92/100\n",
      "24/24 [==============================] - 213s 9s/step - loss: 1.0782 - accuracy: 0.5897 - compute_iou: 0.3104 - val_loss: 1.0745 - val_accuracy: 0.5954 - val_compute_iou: 0.3169 - lr: 1.0000e-05\n",
      "Epoch 93/100\n",
      "24/24 [==============================] - 214s 9s/step - loss: 1.0871 - accuracy: 0.5872 - compute_iou: 0.3093 - val_loss: 1.0733 - val_accuracy: 0.5952 - val_compute_iou: 0.3173 - lr: 1.0000e-05\n",
      "Epoch 94/100\n",
      "24/24 [==============================] - 212s 9s/step - loss: 1.0779 - accuracy: 0.5899 - compute_iou: 0.3107 - val_loss: 1.0740 - val_accuracy: 0.5956 - val_compute_iou: 0.3175 - lr: 1.0000e-05\n",
      "Epoch 95/100\n",
      "24/24 [==============================] - 212s 9s/step - loss: 1.0789 - accuracy: 0.5907 - compute_iou: 0.3107 - val_loss: 1.0718 - val_accuracy: 0.5961 - val_compute_iou: 0.3177 - lr: 1.0000e-05\n",
      "Epoch 96/100\n",
      "24/24 [==============================] - 212s 9s/step - loss: 1.0801 - accuracy: 0.5894 - compute_iou: 0.3109 - val_loss: 1.0750 - val_accuracy: 0.5954 - val_compute_iou: 0.3174 - lr: 1.0000e-05\n",
      "Epoch 97/100\n",
      "24/24 [==============================] - 213s 9s/step - loss: 1.0695 - accuracy: 0.5933 - compute_iou: 0.3124 - val_loss: 1.0743 - val_accuracy: 0.5952 - val_compute_iou: 0.3176 - lr: 1.0000e-05\n",
      "Epoch 98/100\n",
      "24/24 [==============================] - 212s 9s/step - loss: 1.0715 - accuracy: 0.5921 - compute_iou: 0.3125 - val_loss: 1.0735 - val_accuracy: 0.5952 - val_compute_iou: 0.3182 - lr: 1.0000e-05\n",
      "Epoch 99/100\n",
      "24/24 [==============================] - 212s 9s/step - loss: 1.0714 - accuracy: 0.5923 - compute_iou: 0.3114 - val_loss: 1.0735 - val_accuracy: 0.5955 - val_compute_iou: 0.3181 - lr: 1.0000e-05\n",
      "Epoch 100/100\n",
      "24/24 [==============================] - 212s 9s/step - loss: 1.0852 - accuracy: 0.5884 - compute_iou: 0.3089 - val_loss: 1.0727 - val_accuracy: 0.5960 - val_compute_iou: 0.3180 - lr: 1.0000e-05\n"
     ]
    }
   ],
   "source": [
    "# Train the model\n",
    "\n",
    "unet_model.train_model(model, X_train_scaled, y_train, epochs = 100, batch_size=32, validation_split=0.2)"
   ]
  },
  {
   "cell_type": "code",
   "execution_count": 66,
   "id": "348756eb",
   "metadata": {
    "ExecuteTime": {
     "end_time": "2023-05-25T02:15:36.330469Z",
     "start_time": "2023-05-25T02:15:35.439096Z"
    }
   },
   "outputs": [
    {
     "name": "stderr",
     "output_type": "stream",
     "text": [
      "2023-05-25 06:15:35.498540: I tensorflow/core/common_runtime/executor.cc:1197] [/device:CPU:0] (DEBUG INFO) Executor start aborting (this does not indicate an error and you can ignore this message): INVALID_ARGUMENT: You must feed a value for placeholder tensor 'inputs' with dtype float and shape [?,?,?,?]\n",
      "\t [[{{node inputs}}]]\n",
      "2023-05-25 06:15:35.521676: I tensorflow/core/common_runtime/executor.cc:1197] [/device:CPU:0] (DEBUG INFO) Executor start aborting (this does not indicate an error and you can ignore this message): INVALID_ARGUMENT: You must feed a value for placeholder tensor 'inputs' with dtype float and shape [?,?,?,?]\n",
      "\t [[{{node inputs}}]]\n",
      "2023-05-25 06:15:35.706455: I tensorflow/core/common_runtime/executor.cc:1197] [/device:CPU:0] (DEBUG INFO) Executor start aborting (this does not indicate an error and you can ignore this message): INVALID_ARGUMENT: You must feed a value for placeholder tensor 'inputs' with dtype float and shape [?,128,128,128]\n",
      "\t [[{{node inputs}}]]\n",
      "2023-05-25 06:15:35.717505: I tensorflow/core/common_runtime/executor.cc:1197] [/device:CPU:0] (DEBUG INFO) Executor start aborting (this does not indicate an error and you can ignore this message): INVALID_ARGUMENT: You must feed a value for placeholder tensor 'inputs' with dtype float and shape [?,256,256,64]\n",
      "\t [[{{node inputs}}]]\n",
      "2023-05-25 06:15:35.940677: I tensorflow/core/common_runtime/executor.cc:1197] [/device:CPU:0] (DEBUG INFO) Executor start aborting (this does not indicate an error and you can ignore this message): INVALID_ARGUMENT: You must feed a value for placeholder tensor 'inputs' with dtype float and shape [?,?,?,?]\n",
      "\t [[{{node inputs}}]]\n",
      "2023-05-25 06:15:35.972290: I tensorflow/core/common_runtime/executor.cc:1197] [/device:CPU:0] (DEBUG INFO) Executor start aborting (this does not indicate an error and you can ignore this message): INVALID_ARGUMENT: You must feed a value for placeholder tensor 'inputs' with dtype float and shape [?,128,128,128]\n",
      "\t [[{{node inputs}}]]\n",
      "2023-05-25 06:15:35.982890: I tensorflow/core/common_runtime/executor.cc:1197] [/device:CPU:0] (DEBUG INFO) Executor start aborting (this does not indicate an error and you can ignore this message): INVALID_ARGUMENT: You must feed a value for placeholder tensor 'inputs' with dtype float and shape [?,?,?,?]\n",
      "\t [[{{node inputs}}]]\n",
      "2023-05-25 06:15:36.015382: I tensorflow/core/common_runtime/executor.cc:1197] [/device:CPU:0] (DEBUG INFO) Executor start aborting (this does not indicate an error and you can ignore this message): INVALID_ARGUMENT: You must feed a value for placeholder tensor 'inputs' with dtype float and shape [?,256,256,64]\n",
      "\t [[{{node inputs}}]]\n",
      "WARNING:absl:Found untraced functions such as _jit_compiled_convolution_op, _jit_compiled_convolution_op, _jit_compiled_convolution_op, _jit_compiled_convolution_op, _jit_compiled_convolution_op while saving (showing 5 of 11). These functions will not be directly callable after loading.\n"
     ]
    },
    {
     "name": "stdout",
     "output_type": "stream",
     "text": [
      "INFO:tensorflow:Assets written to: ../../model_training/marcel/assets\n"
     ]
    },
    {
     "name": "stderr",
     "output_type": "stream",
     "text": [
      "INFO:tensorflow:Assets written to: ../../model_training/marcel/assets\n"
     ]
    }
   ],
   "source": [
    "model.save('../../model_training/marcel')"
   ]
  },
  {
   "cell_type": "code",
   "execution_count": 153,
   "id": "68fc38bc",
   "metadata": {
    "ExecuteTime": {
     "end_time": "2023-05-25T04:48:34.705290Z",
     "start_time": "2023-05-25T04:48:01.747802Z"
    }
   },
   "outputs": [
    {
     "name": "stdout",
     "output_type": "stream",
     "text": [
      "13/13 [==============================] - 33s 3s/step - loss: 1.0854 - accuracy: 0.5872 - compute_iou: 0.3114\n"
     ]
    },
    {
     "ename": "ValueError",
     "evalue": "too many values to unpack (expected 2)",
     "output_type": "error",
     "traceback": [
      "\u001b[0;31m---------------------------------------------------------------------------\u001b[0m",
      "\u001b[0;31mValueError\u001b[0m                                Traceback (most recent call last)",
      "Cell \u001b[0;32mIn[153], line 3\u001b[0m\n\u001b[1;32m      1\u001b[0m \u001b[38;5;66;03m# Evaluate the model\u001b[39;00m\n\u001b[0;32m----> 3\u001b[0m \u001b[43munet_model\u001b[49m\u001b[38;5;241;43m.\u001b[39;49m\u001b[43mevaluate_model\u001b[49m\u001b[43m(\u001b[49m\u001b[43mmodel\u001b[49m\u001b[43m,\u001b[49m\u001b[43m \u001b[49m\u001b[43mX_test_scaled\u001b[49m\u001b[43m,\u001b[49m\u001b[43m \u001b[49m\u001b[43my_test\u001b[49m\u001b[43m)\u001b[49m\n",
      "File \u001b[0;32m~/code/Zubairslb/city_sustainability/city_sustainability/models/unet_model.py:85\u001b[0m, in \u001b[0;36mevaluate_model\u001b[0;34m(model, x, y)\u001b[0m\n\u001b[1;32m     84\u001b[0m \u001b[38;5;28;01mdef\u001b[39;00m \u001b[38;5;21mevaluate_model\u001b[39m(model, x, y):\n\u001b[0;32m---> 85\u001b[0m     loss, accuracy \u001b[38;5;241m=\u001b[39m model\u001b[38;5;241m.\u001b[39mevaluate(x, y)\n\u001b[1;32m     86\u001b[0m     \u001b[38;5;28mprint\u001b[39m(\u001b[38;5;124m\"\u001b[39m\u001b[38;5;124mEvaluation results:\u001b[39m\u001b[38;5;124m\"\u001b[39m)\n\u001b[1;32m     87\u001b[0m     \u001b[38;5;28mprint\u001b[39m(\u001b[38;5;124mf\u001b[39m\u001b[38;5;124m\"\u001b[39m\u001b[38;5;124mLoss: \u001b[39m\u001b[38;5;132;01m{\u001b[39;00mloss\u001b[38;5;132;01m:\u001b[39;00m\u001b[38;5;124m.4f\u001b[39m\u001b[38;5;132;01m}\u001b[39;00m\u001b[38;5;124m\"\u001b[39m)\n",
      "\u001b[0;31mValueError\u001b[0m: too many values to unpack (expected 2)"
     ]
    }
   ],
   "source": [
    "# Evaluate the model\n",
    "\n",
    "unet_model.evaluate_model(model, X_test_scaled, y_test)"
   ]
  },
  {
   "cell_type": "code",
   "execution_count": 169,
   "id": "d620c191",
   "metadata": {
    "ExecuteTime": {
     "end_time": "2023-05-25T06:03:30.195388Z",
     "start_time": "2023-05-25T06:03:30.189444Z"
    }
   },
   "outputs": [
    {
     "data": {
      "text/plain": [
       "(256, 256, 3)"
      ]
     },
     "execution_count": 169,
     "metadata": {},
     "output_type": "execute_result"
    }
   ],
   "source": [
    "X_train[0].shape"
   ]
  },
  {
   "cell_type": "code",
   "execution_count": 173,
   "id": "6116fd9c",
   "metadata": {
    "ExecuteTime": {
     "end_time": "2023-05-25T06:09:15.363780Z",
     "start_time": "2023-05-25T06:09:15.309007Z"
    }
   },
   "outputs": [
    {
     "ename": "ValueError",
     "evalue": "in user code:\n\n    File \"/home/marcel/.pyenv/versions/3.8.12/envs/city_sustainability/lib/python3.8/site-packages/keras/engine/training.py\", line 2169, in predict_function  *\n        return step_function(self, iterator)\n    File \"/home/marcel/.pyenv/versions/3.8.12/envs/city_sustainability/lib/python3.8/site-packages/keras/engine/training.py\", line 2155, in step_function  **\n        outputs = model.distribute_strategy.run(run_step, args=(data,))\n    File \"/home/marcel/.pyenv/versions/3.8.12/envs/city_sustainability/lib/python3.8/site-packages/keras/engine/training.py\", line 2143, in run_step  **\n        outputs = model.predict_step(data)\n    File \"/home/marcel/.pyenv/versions/3.8.12/envs/city_sustainability/lib/python3.8/site-packages/keras/engine/training.py\", line 2111, in predict_step\n        return self(x, training=False)\n    File \"/home/marcel/.pyenv/versions/3.8.12/envs/city_sustainability/lib/python3.8/site-packages/keras/utils/traceback_utils.py\", line 70, in error_handler\n        raise e.with_traceback(filtered_tb) from None\n    File \"/home/marcel/.pyenv/versions/3.8.12/envs/city_sustainability/lib/python3.8/site-packages/keras/engine/input_spec.py\", line 298, in assert_input_compatibility\n        raise ValueError(\n\n    ValueError: Input 0 of layer \"model_3\" is incompatible with the layer: expected shape=(None, 256, 256, 3), found shape=(32, 256, 3)\n",
     "output_type": "error",
     "traceback": [
      "\u001b[0;31m---------------------------------------------------------------------------\u001b[0m",
      "\u001b[0;31mValueError\u001b[0m                                Traceback (most recent call last)",
      "Cell \u001b[0;32mIn[173], line 1\u001b[0m\n\u001b[0;32m----> 1\u001b[0m \u001b[43munet_model\u001b[49m\u001b[38;5;241;43m.\u001b[39;49m\u001b[43mpredict\u001b[49m\u001b[43m(\u001b[49m\u001b[43mmodel\u001b[49m\u001b[43m,\u001b[49m\u001b[43m \u001b[49m\u001b[43mnp\u001b[49m\u001b[38;5;241;43m.\u001b[39;49m\u001b[43marray\u001b[49m\u001b[43m(\u001b[49m\u001b[43mX_train\u001b[49m\u001b[43m[\u001b[49m\u001b[38;5;241;43m0\u001b[39;49m\u001b[43m]\u001b[49m\u001b[43m)\u001b[49m\u001b[43m)\u001b[49m\n",
      "File \u001b[0;32m~/code/Zubairslb/city_sustainability/city_sustainability/models/unet_model.py:92\u001b[0m, in \u001b[0;36mpredict\u001b[0;34m(model, x)\u001b[0m\n\u001b[1;32m     91\u001b[0m \u001b[38;5;28;01mdef\u001b[39;00m \u001b[38;5;21mpredict\u001b[39m(model, x):\n\u001b[0;32m---> 92\u001b[0m     \u001b[38;5;28;01mreturn\u001b[39;00m \u001b[43mmodel\u001b[49m\u001b[38;5;241;43m.\u001b[39;49m\u001b[43mpredict\u001b[49m\u001b[43m(\u001b[49m\u001b[43mx\u001b[49m\u001b[43m)\u001b[49m\n",
      "File \u001b[0;32m~/.pyenv/versions/3.8.12/envs/city_sustainability/lib/python3.8/site-packages/keras/utils/traceback_utils.py:70\u001b[0m, in \u001b[0;36mfilter_traceback.<locals>.error_handler\u001b[0;34m(*args, **kwargs)\u001b[0m\n\u001b[1;32m     67\u001b[0m     filtered_tb \u001b[38;5;241m=\u001b[39m _process_traceback_frames(e\u001b[38;5;241m.\u001b[39m__traceback__)\n\u001b[1;32m     68\u001b[0m     \u001b[38;5;66;03m# To get the full stack trace, call:\u001b[39;00m\n\u001b[1;32m     69\u001b[0m     \u001b[38;5;66;03m# `tf.debugging.disable_traceback_filtering()`\u001b[39;00m\n\u001b[0;32m---> 70\u001b[0m     \u001b[38;5;28;01mraise\u001b[39;00m e\u001b[38;5;241m.\u001b[39mwith_traceback(filtered_tb) \u001b[38;5;28;01mfrom\u001b[39;00m \u001b[38;5;28;01mNone\u001b[39;00m\n\u001b[1;32m     71\u001b[0m \u001b[38;5;28;01mfinally\u001b[39;00m:\n\u001b[1;32m     72\u001b[0m     \u001b[38;5;28;01mdel\u001b[39;00m filtered_tb\n",
      "File \u001b[0;32m/tmp/__autograph_generated_fileo9lesfyt.py:15\u001b[0m, in \u001b[0;36mouter_factory.<locals>.inner_factory.<locals>.tf__predict_function\u001b[0;34m(iterator)\u001b[0m\n\u001b[1;32m     13\u001b[0m \u001b[38;5;28;01mtry\u001b[39;00m:\n\u001b[1;32m     14\u001b[0m     do_return \u001b[38;5;241m=\u001b[39m \u001b[38;5;28;01mTrue\u001b[39;00m\n\u001b[0;32m---> 15\u001b[0m     retval_ \u001b[38;5;241m=\u001b[39m ag__\u001b[38;5;241m.\u001b[39mconverted_call(ag__\u001b[38;5;241m.\u001b[39mld(step_function), (ag__\u001b[38;5;241m.\u001b[39mld(\u001b[38;5;28mself\u001b[39m), ag__\u001b[38;5;241m.\u001b[39mld(iterator)), \u001b[38;5;28;01mNone\u001b[39;00m, fscope)\n\u001b[1;32m     16\u001b[0m \u001b[38;5;28;01mexcept\u001b[39;00m:\n\u001b[1;32m     17\u001b[0m     do_return \u001b[38;5;241m=\u001b[39m \u001b[38;5;28;01mFalse\u001b[39;00m\n",
      "\u001b[0;31mValueError\u001b[0m: in user code:\n\n    File \"/home/marcel/.pyenv/versions/3.8.12/envs/city_sustainability/lib/python3.8/site-packages/keras/engine/training.py\", line 2169, in predict_function  *\n        return step_function(self, iterator)\n    File \"/home/marcel/.pyenv/versions/3.8.12/envs/city_sustainability/lib/python3.8/site-packages/keras/engine/training.py\", line 2155, in step_function  **\n        outputs = model.distribute_strategy.run(run_step, args=(data,))\n    File \"/home/marcel/.pyenv/versions/3.8.12/envs/city_sustainability/lib/python3.8/site-packages/keras/engine/training.py\", line 2143, in run_step  **\n        outputs = model.predict_step(data)\n    File \"/home/marcel/.pyenv/versions/3.8.12/envs/city_sustainability/lib/python3.8/site-packages/keras/engine/training.py\", line 2111, in predict_step\n        return self(x, training=False)\n    File \"/home/marcel/.pyenv/versions/3.8.12/envs/city_sustainability/lib/python3.8/site-packages/keras/utils/traceback_utils.py\", line 70, in error_handler\n        raise e.with_traceback(filtered_tb) from None\n    File \"/home/marcel/.pyenv/versions/3.8.12/envs/city_sustainability/lib/python3.8/site-packages/keras/engine/input_spec.py\", line 298, in assert_input_compatibility\n        raise ValueError(\n\n    ValueError: Input 0 of layer \"model_3\" is incompatible with the layer: expected shape=(None, 256, 256, 3), found shape=(32, 256, 3)\n"
     ]
    }
   ],
   "source": [
    "unet_model.predict(model, np.array(X_train[0]))"
   ]
  },
  {
   "cell_type": "code",
   "execution_count": 71,
   "id": "3108f13a",
   "metadata": {
    "ExecuteTime": {
     "end_time": "2023-05-25T02:21:02.586677Z",
     "start_time": "2023-05-25T02:21:02.573251Z"
    }
   },
   "outputs": [],
   "source": [
    "import os\n",
    "import PIL\n",
    "import numpy as np\n",
    "import pandas as pd\n",
    "from PIL import Image\n",
    "import tensorflow as tf\n",
    "from PIL import ImageOps\n",
    "import matplotlib.pyplot as plt\n",
    "from tensorflow.keras.models import Model\n",
    "from tensorflow.keras.utils import to_categorical\n",
    "from tensorflow.keras.layers import Input, Conv2D, MaxPooling2D, UpSampling2D, Concatenate"
   ]
  },
  {
   "cell_type": "code",
   "execution_count": 157,
   "id": "d0de217f",
   "metadata": {
    "ExecuteTime": {
     "end_time": "2023-05-25T05:56:54.958889Z",
     "start_time": "2023-05-25T05:56:54.861150Z"
    }
   },
   "outputs": [
    {
     "data": {
      "image/png": "[encoded data removed]",
      "text/plain": [
       "<Figure size 300x300 with 1 Axes>"
      ]
     },
     "metadata": {},
     "output_type": "display_data"
    },
    {
     "data": {
      "text/plain": [
       "(650, 650, 3)"
      ]
     },
     "execution_count": 157,
     "metadata": {},
     "output_type": "execute_result"
    }
   ],
   "source": [
    "file_path = '../../raw_data/OpenEarthMap_wo_xBD/paris/images/paris_1.tif'\n",
    "fig = plt.figure(figsize=(3, 3))\n",
    "y_original = Image.open(file_path)\n",
    "plt.axis('off')\n",
    "plt.imshow(y_original)\n",
    "plt.show()\n",
    "y_original = np.array(y_original)\n",
    "y_original.shape"
   ]
  },
  {
   "cell_type": "code",
   "execution_count": 158,
   "id": "3e4963ed",
   "metadata": {
    "ExecuteTime": {
     "end_time": "2023-05-25T05:57:27.506152Z",
     "start_time": "2023-05-25T05:57:27.495279Z"
    }
   },
   "outputs": [],
   "source": [
    "lb = Image.open(file_path)\n",
    "# Generate array for each label\n",
    "# Resize each label using image_resize function\n",
    "resized_label = image_resize(256,256,lb)\n",
    "# Generate array for each image\n",
    "numpy_array_image = np.array(resized_label)\n",
    "# Encode labels\n",
    "# encoded_label = to_categorical(numpy_array_label, num_classes=9)\n",
    "# Add resized and encoded array to list\n",
    "# label_list_array.append(encoded_label)"
   ]
  },
  {
   "cell_type": "code",
   "execution_count": 160,
   "id": "fa8d9d3e",
   "metadata": {
    "ExecuteTime": {
     "end_time": "2023-05-25T05:58:04.434132Z",
     "start_time": "2023-05-25T05:58:04.427501Z"
    }
   },
   "outputs": [
    {
     "data": {
      "text/plain": [
       "(256, 256, 3)"
      ]
     },
     "execution_count": 160,
     "metadata": {},
     "output_type": "execute_result"
    }
   ],
   "source": [
    "numpy_array_image.shape"
   ]
  },
  {
   "cell_type": "code",
   "execution_count": 165,
   "id": "223dc591",
   "metadata": {
    "ExecuteTime": {
     "end_time": "2023-05-25T06:01:52.862933Z",
     "start_time": "2023-05-25T06:01:52.858713Z"
    }
   },
   "outputs": [],
   "source": [
    "from city_sustainability.models import unet_model"
   ]
  },
  {
   "cell_type": "code",
   "execution_count": 167,
   "id": "82f99f25",
   "metadata": {
    "ExecuteTime": {
     "end_time": "2023-05-25T06:02:15.293464Z",
     "start_time": "2023-05-25T06:02:15.266509Z"
    }
   },
   "outputs": [
    {
     "ename": "TypeError",
     "evalue": "predict() missing 1 required positional argument: 'x'",
     "output_type": "error",
     "traceback": [
      "\u001b[0;31m---------------------------------------------------------------------------\u001b[0m",
      "\u001b[0;31mTypeError\u001b[0m                                 Traceback (most recent call last)",
      "Cell \u001b[0;32mIn[167], line 1\u001b[0m\n\u001b[0;32m----> 1\u001b[0m \u001b[43munet_model\u001b[49m\u001b[38;5;241;43m.\u001b[39;49m\u001b[43mpredict\u001b[49m\u001b[43m(\u001b[49m\u001b[43mnumpy_array_image\u001b[49m\u001b[43m)\u001b[49m\n",
      "\u001b[0;31mTypeError\u001b[0m: predict() missing 1 required positional argument: 'x'"
     ]
    }
   ],
   "source": [
    "unet"
   ]
  },
  {
   "cell_type": "code",
   "execution_count": 155,
   "id": "24af65a6",
   "metadata": {
    "ExecuteTime": {
     "end_time": "2023-05-25T05:24:20.363174Z",
     "start_time": "2023-05-25T05:24:20.357447Z"
    }
   },
   "outputs": [
    {
     "data": {
      "text/plain": [
       "array([[[0., 0., 1., ..., 0., 0., 0.],\n",
       "        [0., 0., 1., ..., 0., 0., 0.],\n",
       "        [0., 0., 1., ..., 0., 0., 0.],\n",
       "        ...,\n",
       "        [0., 0., 1., ..., 0., 0., 0.],\n",
       "        [0., 0., 1., ..., 0., 0., 0.],\n",
       "        [0., 0., 1., ..., 0., 0., 0.]],\n",
       "\n",
       "       [[0., 0., 1., ..., 0., 0., 0.],\n",
       "        [0., 0., 1., ..., 0., 0., 0.],\n",
       "        [0., 0., 1., ..., 0., 0., 0.],\n",
       "        ...,\n",
       "        [0., 0., 1., ..., 0., 0., 0.],\n",
       "        [0., 0., 1., ..., 0., 0., 0.],\n",
       "        [0., 0., 1., ..., 0., 0., 0.]],\n",
       "\n",
       "       [[0., 0., 1., ..., 0., 0., 0.],\n",
       "        [0., 0., 1., ..., 0., 0., 0.],\n",
       "        [0., 0., 1., ..., 0., 0., 0.],\n",
       "        ...,\n",
       "        [0., 0., 1., ..., 0., 0., 0.],\n",
       "        [0., 0., 1., ..., 0., 0., 0.],\n",
       "        [0., 0., 1., ..., 0., 0., 0.]],\n",
       "\n",
       "       ...,\n",
       "\n",
       "       [[0., 0., 0., ..., 0., 0., 0.],\n",
       "        [0., 0., 0., ..., 0., 0., 0.],\n",
       "        [0., 0., 0., ..., 0., 0., 0.],\n",
       "        ...,\n",
       "        [0., 0., 1., ..., 0., 0., 0.],\n",
       "        [0., 0., 1., ..., 0., 0., 0.],\n",
       "        [0., 0., 1., ..., 0., 0., 0.]],\n",
       "\n",
       "       [[0., 0., 0., ..., 0., 0., 0.],\n",
       "        [0., 0., 0., ..., 0., 0., 0.],\n",
       "        [0., 0., 0., ..., 0., 0., 0.],\n",
       "        ...,\n",
       "        [0., 0., 1., ..., 0., 0., 0.],\n",
       "        [0., 0., 1., ..., 0., 0., 0.],\n",
       "        [0., 0., 1., ..., 0., 0., 0.]],\n",
       "\n",
       "       [[0., 0., 0., ..., 0., 0., 0.],\n",
       "        [0., 0., 0., ..., 0., 0., 0.],\n",
       "        [0., 0., 0., ..., 0., 0., 0.],\n",
       "        ...,\n",
       "        [0., 0., 1., ..., 0., 0., 0.],\n",
       "        [0., 0., 1., ..., 0., 0., 0.],\n",
       "        [0., 0., 1., ..., 0., 0., 0.]]], dtype=float32)"
      ]
     },
     "execution_count": 155,
     "metadata": {},
     "output_type": "execute_result"
    }
   ],
   "source": [
    "lb_cat = encoded_label\n",
    "lb_cat "
   ]
  },
  {
   "cell_type": "code",
   "execution_count": 156,
   "id": "bf6f3725",
   "metadata": {
    "ExecuteTime": {
     "end_time": "2023-05-25T05:24:26.299383Z",
     "start_time": "2023-05-25T05:24:26.292692Z"
    }
   },
   "outputs": [
    {
     "data": {
      "text/plain": [
       "({'Other': 0.0,\n",
       "  'Bareland': 0.0,\n",
       "  'Rangeland': 0.33,\n",
       "  'Developed space': 0.3,\n",
       "  'Road': 0.04,\n",
       "  'Tree': 0.21,\n",
       "  'Water': 0.0,\n",
       "  'Agriculture land': 0.0,\n",
       "  'Building': 0.11},\n",
       " [('Environmental', 0.54), ('Infrastructure', 0.45000002), ('Land', 0.0)],\n",
       " 'High quality of life')"
      ]
     },
     "execution_count": 156,
     "metadata": {},
     "output_type": "execute_result"
    }
   ],
   "source": [
    "life_quality(lb_cat)"
   ]
  },
  {
   "cell_type": "code",
   "execution_count": null,
   "id": "d31d5c63",
   "metadata": {},
   "outputs": [],
   "source": []
  }
 ],
 "metadata": {
  "kernelspec": {
   "display_name": "Python 3 (ipykernel)",
   "language": "python",
   "name": "python3"
  },
  "language_info": {
   "codemirror_mode": {
    "name": "ipython",
    "version": 3
   },
   "file_extension": ".py",
   "mimetype": "text/x-python",
   "name": "python",
   "nbconvert_exporter": "python",
   "pygments_lexer": "ipython3",
   "version": "3.8.12"
  },
  "toc": {
   "base_numbering": 1,
   "nav_menu": {},
   "number_sections": true,
   "sideBar": true,
   "skip_h1_title": false,
   "title_cell": "Table of Contents",
   "title_sidebar": "Contents",
   "toc_cell": false,
   "toc_position": {},
   "toc_section_display": true,
   "toc_window_display": false
  }
 },
 "nbformat": 4,
 "nbformat_minor": 5
}
