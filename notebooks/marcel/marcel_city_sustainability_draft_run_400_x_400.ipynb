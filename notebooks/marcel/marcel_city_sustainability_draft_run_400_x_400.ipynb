{
 "cells": [
  {
   "cell_type": "code",
   "execution_count": 1,
   "id": "15724db8",
   "metadata": {
    "ExecuteTime": {
     "end_time": "2023-05-25T19:04:02.041453Z",
     "start_time": "2023-05-25T19:04:00.607588Z"
    },
    "scrolled": true
   },
   "outputs": [
    {
     "name": "stderr",
     "output_type": "stream",
     "text": [
      "2023-05-25 23:04:00.690099: I tensorflow/tsl/cuda/cudart_stub.cc:28] Could not find cuda drivers on your machine, GPU will not be used.\n",
      "2023-05-25 23:04:00.714875: I tensorflow/tsl/cuda/cudart_stub.cc:28] Could not find cuda drivers on your machine, GPU will not be used.\n",
      "2023-05-25 23:04:00.715659: I tensorflow/core/platform/cpu_feature_guard.cc:182] This TensorFlow binary is optimized to use available CPU instructions in performance-critical operations.\n",
      "To enable the following instructions: AVX2 FMA, in other operations, rebuild TensorFlow with the appropriate compiler flags.\n",
      "2023-05-25 23:04:01.265891: W tensorflow/compiler/tf2tensorrt/utils/py_utils.cc:38] TF-TRT Warning: Could not find TensorRT\n"
     ]
    }
   ],
   "source": [
    "# Imports\n",
    "import tensorflow as tf\n",
    "import matplotlib.pyplot as plt\n",
    "from tensorflow import keras\n",
    "from tensorflow.keras import layers\n",
    "from city_sustainability.quality import life_quality\n",
    "from city_sustainability.models import unet_model\n",
    "from tensorflow.keras.callbacks import EarlyStopping\n",
    "from city_sustainability.preprocessing import image_resize\n",
    "from city_sustainability.loading_data_400x400 import image_and_label_arrays_400\n",
    "from city_sustainability.loading_data_400x400 import loading_paths_400"
   ]
  },
  {
   "cell_type": "code",
   "execution_count": 2,
   "id": "12cf9c71",
   "metadata": {
    "ExecuteTime": {
     "end_time": "2023-05-25T19:04:05.369942Z",
     "start_time": "2023-05-25T19:04:05.353350Z"
    }
   },
   "outputs": [],
   "source": [
    "# Retrieve image_paths and label_paths\n",
    "data_path_1 = '../../raw_data/OpenEarthMap_wo_xBD'\n",
    "image_paths_400, label_paths_400 = loading_paths_400(data_path_1)"
   ]
  },
  {
   "cell_type": "code",
   "execution_count": 3,
   "id": "1a6cbe12",
   "metadata": {
    "ExecuteTime": {
     "end_time": "2023-05-25T19:04:06.709348Z",
     "start_time": "2023-05-25T19:04:06.700720Z"
    }
   },
   "outputs": [
    {
     "data": {
      "text/plain": [
       "2687"
      ]
     },
     "execution_count": 3,
     "metadata": {},
     "output_type": "execute_result"
    }
   ],
   "source": [
    "# Check length of image_paths\n",
    "len(image_paths_400)"
   ]
  },
  {
   "cell_type": "code",
   "execution_count": 4,
   "id": "4792dad5",
   "metadata": {
    "ExecuteTime": {
     "end_time": "2023-05-25T19:04:07.654926Z",
     "start_time": "2023-05-25T19:04:07.649230Z"
    }
   },
   "outputs": [
    {
     "data": {
      "text/plain": [
       "2687"
      ]
     },
     "execution_count": 4,
     "metadata": {},
     "output_type": "execute_result"
    }
   ],
   "source": [
    "# Check length of label_paths\n",
    "len(label_paths_400)"
   ]
  },
  {
   "cell_type": "code",
   "execution_count": 6,
   "id": "ba72de05",
   "metadata": {
    "ExecuteTime": {
     "end_time": "2023-05-25T19:04:23.197185Z",
     "start_time": "2023-05-25T19:04:17.104637Z"
    }
   },
   "outputs": [],
   "source": [
    "# Import all image array as X and label array as y\n",
    "X, y = image_and_label_arrays_400(image_paths_400, label_paths_400, sampling_ratio=0.33)"
   ]
  },
  {
   "cell_type": "code",
   "execution_count": 7,
   "id": "275c29b0",
   "metadata": {
    "ExecuteTime": {
     "end_time": "2023-05-25T19:04:29.807218Z",
     "start_time": "2023-05-25T19:04:28.737670Z"
    }
   },
   "outputs": [],
   "source": [
    "# Apply holdout\n",
    "from sklearn.model_selection import train_test_split\n",
    "X_train, X_test, y_train, y_test = train_test_split(X, y, test_size = 0.3)"
   ]
  },
  {
   "cell_type": "code",
   "execution_count": 8,
   "id": "62420f24",
   "metadata": {
    "ExecuteTime": {
     "end_time": "2023-05-25T19:04:31.381732Z",
     "start_time": "2023-05-25T19:04:30.703473Z"
    }
   },
   "outputs": [],
   "source": [
    "# Scale X and y\n",
    "X_train_scaled = X_train / 255\n",
    "X_test_scaled = X_test / 255"
   ]
  },
  {
   "cell_type": "code",
   "execution_count": 9,
   "id": "7eb85db0",
   "metadata": {
    "ExecuteTime": {
     "end_time": "2023-05-25T19:04:31.818524Z",
     "start_time": "2023-05-25T19:04:31.811049Z"
    }
   },
   "outputs": [
    {
     "data": {
      "text/plain": [
       "(267, 400, 400, 3)"
      ]
     },
     "execution_count": 9,
     "metadata": {},
     "output_type": "execute_result"
    }
   ],
   "source": [
    "# Confirm shapes\n",
    "X_train.shape\n",
    "X_test.shape\n",
    "y_train.shape\n",
    "y_test.shape\n",
    "X_train_scaled.shape\n",
    "X_test_scaled.shape"
   ]
  },
  {
   "cell_type": "code",
   "execution_count": 10,
   "id": "9fdf3d63",
   "metadata": {
    "ExecuteTime": {
     "end_time": "2023-05-25T19:04:34.941913Z",
     "start_time": "2023-05-25T19:04:34.935535Z"
    }
   },
   "outputs": [
    {
     "data": {
      "text/plain": [
       "(267, 400, 400, 3)"
      ]
     },
     "execution_count": 10,
     "metadata": {},
     "output_type": "execute_result"
    }
   ],
   "source": [
    "X_test.shape"
   ]
  },
  {
   "cell_type": "code",
   "execution_count": 11,
   "id": "083eaa3a",
   "metadata": {
    "ExecuteTime": {
     "end_time": "2023-05-25T19:04:35.431733Z",
     "start_time": "2023-05-25T19:04:35.426003Z"
    }
   },
   "outputs": [
    {
     "data": {
      "text/plain": [
       "(620, 400, 400, 9)"
      ]
     },
     "execution_count": 11,
     "metadata": {},
     "output_type": "execute_result"
    }
   ],
   "source": [
    "y_train.shape"
   ]
  },
  {
   "cell_type": "code",
   "execution_count": 12,
   "id": "f64835f4",
   "metadata": {
    "ExecuteTime": {
     "end_time": "2023-05-25T19:04:35.973886Z",
     "start_time": "2023-05-25T19:04:35.966939Z"
    },
    "scrolled": true
   },
   "outputs": [
    {
     "data": {
      "text/plain": [
       "(267, 400, 400, 9)"
      ]
     },
     "execution_count": 12,
     "metadata": {},
     "output_type": "execute_result"
    }
   ],
   "source": [
    "y_test.shape"
   ]
  },
  {
   "cell_type": "code",
   "execution_count": 13,
   "id": "9aabdd12",
   "metadata": {
    "ExecuteTime": {
     "end_time": "2023-05-25T19:04:36.537442Z",
     "start_time": "2023-05-25T19:04:36.531371Z"
    }
   },
   "outputs": [
    {
     "data": {
      "text/plain": [
       "(620, 400, 400, 3)"
      ]
     },
     "execution_count": 13,
     "metadata": {},
     "output_type": "execute_result"
    }
   ],
   "source": [
    "X_train_scaled.shape"
   ]
  },
  {
   "cell_type": "code",
   "execution_count": 14,
   "id": "9938c3d2",
   "metadata": {
    "ExecuteTime": {
     "end_time": "2023-05-25T19:04:37.443143Z",
     "start_time": "2023-05-25T19:04:37.436608Z"
    }
   },
   "outputs": [
    {
     "data": {
      "text/plain": [
       "(267, 400, 400, 3)"
      ]
     },
     "execution_count": 14,
     "metadata": {},
     "output_type": "execute_result"
    }
   ],
   "source": [
    "X_test_scaled.shape"
   ]
  },
  {
   "cell_type": "code",
   "execution_count": 16,
   "id": "96add111",
   "metadata": {
    "ExecuteTime": {
     "end_time": "2023-05-25T19:05:03.853255Z",
     "start_time": "2023-05-25T19:05:03.636819Z"
    }
   },
   "outputs": [],
   "source": [
    "# Create the model\n",
    "model = unet_model.build_vgg16_model(input_shape=(400, 400, 3), num_classes = 9)"
   ]
  },
  {
   "cell_type": "code",
   "execution_count": 17,
   "id": "d8d7f730",
   "metadata": {
    "ExecuteTime": {
     "end_time": "2023-05-25T19:05:11.786518Z",
     "start_time": "2023-05-25T19:05:11.774775Z"
    }
   },
   "outputs": [],
   "source": [
    "# Compile the model\n",
    "\n",
    "unet_model.compile_model(model)"
   ]
  },
  {
   "cell_type": "code",
   "execution_count": null,
   "id": "b4c43604",
   "metadata": {},
   "outputs": [],
   "source": [
    "# early_stopping = EarlyStopping(monitor='val_loss', patience=10)\n",
    "# callbacks=[early_stopping])"
   ]
  },
  {
   "cell_type": "code",
   "execution_count": 18,
   "id": "000ac9a4",
   "metadata": {
    "ExecuteTime": {
     "end_time": "2023-05-25T23:47:50.722076Z",
     "start_time": "2023-05-25T19:05:34.611514Z"
    }
   },
   "outputs": [
    {
     "name": "stdout",
     "output_type": "stream",
     "text": [
      "Epoch 1/50\n",
      "31/31 [==============================] - 341s 11s/step - loss: 2.0995 - accuracy: 0.3094 - compute_iou: 0.1309 - val_loss: 3.6931 - val_accuracy: 0.3587 - val_compute_iou: 0.2142 - lr: 1.0000e-04\n",
      "Epoch 2/50\n",
      "31/31 [==============================] - 336s 11s/step - loss: 1.6263 - accuracy: 0.4428 - compute_iou: 0.1882 - val_loss: 2.7614 - val_accuracy: 0.3746 - val_compute_iou: 0.2254 - lr: 1.0000e-04\n",
      "Epoch 3/50\n",
      "31/31 [==============================] - 336s 11s/step - loss: 1.5024 - accuracy: 0.4785 - compute_iou: 0.2113 - val_loss: 2.0967 - val_accuracy: 0.4108 - val_compute_iou: 0.2419 - lr: 1.0000e-04\n",
      "Epoch 4/50\n",
      "31/31 [==============================] - 336s 11s/step - loss: 1.4398 - accuracy: 0.4959 - compute_iou: 0.2243 - val_loss: 1.6624 - val_accuracy: 0.4678 - val_compute_iou: 0.2604 - lr: 1.0000e-04\n",
      "Epoch 5/50\n",
      "31/31 [==============================] - 335s 11s/step - loss: 1.3936 - accuracy: 0.5076 - compute_iou: 0.2325 - val_loss: 1.4457 - val_accuracy: 0.4905 - val_compute_iou: 0.2716 - lr: 1.0000e-04\n",
      "Epoch 6/50\n",
      "31/31 [==============================] - 336s 11s/step - loss: 1.3538 - accuracy: 0.5180 - compute_iou: 0.2423 - val_loss: 1.3404 - val_accuracy: 0.5095 - val_compute_iou: 0.2727 - lr: 1.0000e-04\n",
      "Epoch 7/50\n",
      "31/31 [==============================] - 338s 11s/step - loss: 1.3265 - accuracy: 0.5264 - compute_iou: 0.2498 - val_loss: 1.3208 - val_accuracy: 0.5159 - val_compute_iou: 0.2704 - lr: 1.0000e-04\n",
      "Epoch 8/50\n",
      "31/31 [==============================] - 335s 11s/step - loss: 1.3092 - accuracy: 0.5303 - compute_iou: 0.2527 - val_loss: 1.2794 - val_accuracy: 0.5166 - val_compute_iou: 0.2736 - lr: 1.0000e-04\n",
      "Epoch 9/50\n",
      "31/31 [==============================] - 335s 11s/step - loss: 1.2933 - accuracy: 0.5336 - compute_iou: 0.2572 - val_loss: 1.2783 - val_accuracy: 0.5228 - val_compute_iou: 0.2730 - lr: 1.0000e-04\n",
      "Epoch 10/50\n",
      "31/31 [==============================] - 336s 11s/step - loss: 1.2750 - accuracy: 0.5418 - compute_iou: 0.2645 - val_loss: 1.2330 - val_accuracy: 0.5379 - val_compute_iou: 0.2733 - lr: 1.0000e-04\n",
      "Epoch 11/50\n",
      "31/31 [==============================] - 340s 11s/step - loss: 1.2717 - accuracy: 0.5421 - compute_iou: 0.2639 - val_loss: 1.2200 - val_accuracy: 0.5450 - val_compute_iou: 0.2766 - lr: 1.0000e-04\n",
      "Epoch 12/50\n",
      "31/31 [==============================] - 341s 11s/step - loss: 1.2571 - accuracy: 0.5441 - compute_iou: 0.2672 - val_loss: 1.1945 - val_accuracy: 0.5540 - val_compute_iou: 0.2778 - lr: 1.0000e-04\n",
      "Epoch 13/50\n",
      "31/31 [==============================] - 341s 11s/step - loss: 1.2446 - accuracy: 0.5470 - compute_iou: 0.2704 - val_loss: 1.1903 - val_accuracy: 0.5510 - val_compute_iou: 0.2801 - lr: 1.0000e-04\n",
      "Epoch 14/50\n",
      "31/31 [==============================] - 338s 11s/step - loss: 1.2252 - accuracy: 0.5546 - compute_iou: 0.2750 - val_loss: 1.1789 - val_accuracy: 0.5619 - val_compute_iou: 0.2865 - lr: 1.0000e-04\n",
      "Epoch 15/50\n",
      "31/31 [==============================] - 338s 11s/step - loss: 1.2218 - accuracy: 0.5561 - compute_iou: 0.2773 - val_loss: 1.1635 - val_accuracy: 0.5651 - val_compute_iou: 0.2825 - lr: 1.0000e-04\n",
      "Epoch 16/50\n",
      "31/31 [==============================] - 339s 11s/step - loss: 1.1974 - accuracy: 0.5621 - compute_iou: 0.2824 - val_loss: 1.1660 - val_accuracy: 0.5614 - val_compute_iou: 0.2849 - lr: 1.0000e-04\n",
      "Epoch 17/50\n",
      "31/31 [==============================] - 339s 11s/step - loss: 1.1980 - accuracy: 0.5617 - compute_iou: 0.2820 - val_loss: 1.1415 - val_accuracy: 0.5724 - val_compute_iou: 0.2917 - lr: 1.0000e-04\n",
      "Epoch 18/50\n",
      "31/31 [==============================] - 340s 11s/step - loss: 1.2001 - accuracy: 0.5598 - compute_iou: 0.2820 - val_loss: 1.1519 - val_accuracy: 0.5713 - val_compute_iou: 0.2912 - lr: 1.0000e-04\n",
      "Epoch 19/50\n",
      "31/31 [==============================] - 337s 11s/step - loss: 1.1951 - accuracy: 0.5622 - compute_iou: 0.2837 - val_loss: 1.1464 - val_accuracy: 0.5728 - val_compute_iou: 0.2896 - lr: 1.0000e-04\n",
      "Epoch 20/50\n",
      "31/31 [==============================] - 338s 11s/step - loss: 1.1888 - accuracy: 0.5634 - compute_iou: 0.2859 - val_loss: 1.1462 - val_accuracy: 0.5687 - val_compute_iou: 0.2942 - lr: 1.0000e-04\n",
      "Epoch 21/50\n",
      "31/31 [==============================] - 338s 11s/step - loss: 1.1753 - accuracy: 0.5679 - compute_iou: 0.2889 - val_loss: 1.1385 - val_accuracy: 0.5755 - val_compute_iou: 0.2909 - lr: 1.0000e-04\n",
      "Epoch 22/50\n",
      "31/31 [==============================] - 339s 11s/step - loss: 1.1683 - accuracy: 0.5700 - compute_iou: 0.2901 - val_loss: 1.1299 - val_accuracy: 0.5757 - val_compute_iou: 0.2931 - lr: 1.0000e-04\n",
      "Epoch 23/50\n",
      "31/31 [==============================] - 338s 11s/step - loss: 1.1592 - accuracy: 0.5740 - compute_iou: 0.2942 - val_loss: 1.1185 - val_accuracy: 0.5782 - val_compute_iou: 0.2984 - lr: 1.0000e-04\n",
      "Epoch 24/50\n",
      "31/31 [==============================] - 339s 11s/step - loss: 1.1506 - accuracy: 0.5735 - compute_iou: 0.2942 - val_loss: 1.1234 - val_accuracy: 0.5764 - val_compute_iou: 0.2995 - lr: 1.0000e-04\n",
      "Epoch 25/50\n",
      "31/31 [==============================] - 340s 11s/step - loss: 1.1463 - accuracy: 0.5766 - compute_iou: 0.2978 - val_loss: 1.1196 - val_accuracy: 0.5830 - val_compute_iou: 0.2930 - lr: 1.0000e-04\n",
      "Epoch 26/50\n",
      "31/31 [==============================] - 338s 11s/step - loss: 1.1449 - accuracy: 0.5766 - compute_iou: 0.2980 - val_loss: 1.1294 - val_accuracy: 0.5785 - val_compute_iou: 0.2977 - lr: 1.0000e-04\n",
      "Epoch 27/50\n",
      "31/31 [==============================] - 338s 11s/step - loss: 1.1543 - accuracy: 0.5733 - compute_iou: 0.2957 - val_loss: 1.1307 - val_accuracy: 0.5767 - val_compute_iou: 0.2964 - lr: 1.0000e-04\n",
      "Epoch 28/50\n",
      "31/31 [==============================] - 339s 11s/step - loss: 1.1357 - accuracy: 0.5792 - compute_iou: 0.2991 - val_loss: 1.1093 - val_accuracy: 0.5812 - val_compute_iou: 0.2996 - lr: 1.0000e-04\n",
      "Epoch 29/50\n",
      "31/31 [==============================] - 339s 11s/step - loss: 1.1318 - accuracy: 0.5819 - compute_iou: 0.3020 - val_loss: 1.1081 - val_accuracy: 0.5857 - val_compute_iou: 0.3014 - lr: 1.0000e-04\n",
      "Epoch 30/50\n",
      "31/31 [==============================] - 338s 11s/step - loss: 1.1250 - accuracy: 0.5832 - compute_iou: 0.3039 - val_loss: 1.1124 - val_accuracy: 0.5831 - val_compute_iou: 0.3035 - lr: 1.0000e-04\n",
      "Epoch 31/50\n",
      "31/31 [==============================] - 338s 11s/step - loss: 1.1132 - accuracy: 0.5832 - compute_iou: 0.3036 - val_loss: 1.1025 - val_accuracy: 0.5847 - val_compute_iou: 0.3037 - lr: 1.0000e-04\n",
      "Epoch 32/50\n",
      "31/31 [==============================] - 339s 11s/step - loss: 1.1183 - accuracy: 0.5832 - compute_iou: 0.3050 - val_loss: 1.0988 - val_accuracy: 0.5874 - val_compute_iou: 0.3076 - lr: 1.0000e-04\n",
      "Epoch 33/50\n",
      "31/31 [==============================] - 339s 11s/step - loss: 1.1107 - accuracy: 0.5846 - compute_iou: 0.3051 - val_loss: 1.1054 - val_accuracy: 0.5814 - val_compute_iou: 0.3071 - lr: 1.0000e-04\n",
      "Epoch 34/50\n",
      "31/31 [==============================] - 339s 11s/step - loss: 1.1109 - accuracy: 0.5851 - compute_iou: 0.3074 - val_loss: 1.1030 - val_accuracy: 0.5883 - val_compute_iou: 0.3054 - lr: 1.0000e-04\n",
      "Epoch 35/50\n",
      "31/31 [==============================] - 339s 11s/step - loss: 1.1074 - accuracy: 0.5857 - compute_iou: 0.3066 - val_loss: 1.1144 - val_accuracy: 0.5817 - val_compute_iou: 0.3121 - lr: 1.0000e-04\n",
      "Epoch 36/50\n",
      "31/31 [==============================] - 339s 11s/step - loss: 1.0913 - accuracy: 0.5914 - compute_iou: 0.3120 - val_loss: 1.0941 - val_accuracy: 0.5866 - val_compute_iou: 0.3046 - lr: 1.0000e-04\n",
      "Epoch 37/50\n",
      "31/31 [==============================] - 340s 11s/step - loss: 1.1122 - accuracy: 0.5853 - compute_iou: 0.3081 - val_loss: 1.0726 - val_accuracy: 0.5949 - val_compute_iou: 0.3115 - lr: 1.0000e-04\n",
      "Epoch 38/50\n",
      "31/31 [==============================] - 339s 11s/step - loss: 1.1058 - accuracy: 0.5867 - compute_iou: 0.3078 - val_loss: 1.0766 - val_accuracy: 0.5967 - val_compute_iou: 0.3098 - lr: 1.0000e-04\n",
      "Epoch 39/50\n",
      "31/31 [==============================] - 341s 11s/step - loss: 1.0936 - accuracy: 0.5898 - compute_iou: 0.3102 - val_loss: 1.0858 - val_accuracy: 0.5896 - val_compute_iou: 0.3121 - lr: 1.0000e-04\n",
      "Epoch 40/50\n",
      "31/31 [==============================] - 339s 11s/step - loss: 1.0934 - accuracy: 0.5879 - compute_iou: 0.3121 - val_loss: 1.0829 - val_accuracy: 0.5913 - val_compute_iou: 0.3103 - lr: 1.0000e-04\n",
      "Epoch 41/50\n",
      "31/31 [==============================] - 340s 11s/step - loss: 1.0902 - accuracy: 0.5903 - compute_iou: 0.3101 - val_loss: 1.0921 - val_accuracy: 0.5891 - val_compute_iou: 0.3118 - lr: 1.0000e-04\n",
      "Epoch 42/50\n",
      "31/31 [==============================] - 341s 11s/step - loss: 1.0806 - accuracy: 0.5948 - compute_iou: 0.3153 - val_loss: 1.0713 - val_accuracy: 0.5992 - val_compute_iou: 0.3134 - lr: 1.0000e-04\n",
      "Epoch 43/50\n",
      "31/31 [==============================] - 340s 11s/step - loss: 1.0904 - accuracy: 0.5932 - compute_iou: 0.3145 - val_loss: 1.0710 - val_accuracy: 0.5965 - val_compute_iou: 0.3117 - lr: 1.0000e-04\n",
      "Epoch 44/50\n",
      "31/31 [==============================] - 341s 11s/step - loss: 1.0791 - accuracy: 0.5939 - compute_iou: 0.3144 - val_loss: 1.0843 - val_accuracy: 0.5912 - val_compute_iou: 0.3065 - lr: 1.0000e-04\n",
      "Epoch 45/50\n",
      "31/31 [==============================] - 337s 11s/step - loss: 1.0872 - accuracy: 0.5931 - compute_iou: 0.3150 - val_loss: 1.0691 - val_accuracy: 0.5971 - val_compute_iou: 0.3106 - lr: 1.0000e-04\n",
      "Epoch 46/50\n",
      "31/31 [==============================] - 338s 11s/step - loss: 1.0693 - accuracy: 0.5978 - compute_iou: 0.3176 - val_loss: 1.0639 - val_accuracy: 0.5970 - val_compute_iou: 0.3158 - lr: 1.0000e-04\n",
      "Epoch 47/50\n",
      "31/31 [==============================] - 339s 11s/step - loss: 1.0620 - accuracy: 0.5987 - compute_iou: 0.3181 - val_loss: 1.0671 - val_accuracy: 0.5957 - val_compute_iou: 0.3211 - lr: 1.0000e-04\n",
      "Epoch 48/50\n",
      "31/31 [==============================] - 340s 11s/step - loss: 1.0624 - accuracy: 0.5985 - compute_iou: 0.3201 - val_loss: 1.0555 - val_accuracy: 0.5982 - val_compute_iou: 0.3173 - lr: 1.0000e-04\n",
      "Epoch 49/50\n",
      "31/31 [==============================] - 339s 11s/step - loss: 1.0644 - accuracy: 0.5987 - compute_iou: 0.3208 - val_loss: 1.0580 - val_accuracy: 0.6013 - val_compute_iou: 0.3185 - lr: 1.0000e-04\n",
      "Epoch 50/50\n",
      "31/31 [==============================] - 345s 11s/step - loss: 1.0722 - accuracy: 0.5955 - compute_iou: 0.3162 - val_loss: 1.0602 - val_accuracy: 0.5970 - val_compute_iou: 0.3194 - lr: 1.0000e-04\n"
     ]
    },
    {
     "data": {
      "text/plain": [
       "<keras.callbacks.History at 0x7f6cc05f4eb0>"
      ]
     },
     "execution_count": 18,
     "metadata": {},
     "output_type": "execute_result"
    }
   ],
   "source": [
    "# Train the model\n",
    "\n",
    "unet_model.train_model(model, X_train_scaled, y_train, epochs = 50, batch_size=16, validation_split=0.2)"
   ]
  },
  {
   "cell_type": "code",
   "execution_count": 19,
   "id": "348756eb",
   "metadata": {
    "ExecuteTime": {
     "end_time": "2023-05-26T03:06:07.832723Z",
     "start_time": "2023-05-26T03:06:06.737892Z"
    }
   },
   "outputs": [
    {
     "name": "stderr",
     "output_type": "stream",
     "text": [
      "2023-05-26 07:06:06.849549: I tensorflow/core/common_runtime/executor.cc:1197] [/device:CPU:0] (DEBUG INFO) Executor start aborting (this does not indicate an error and you can ignore this message): INVALID_ARGUMENT: You must feed a value for placeholder tensor 'inputs' with dtype float and shape [?,?,?,?]\n",
      "\t [[{{node inputs}}]]\n",
      "2023-05-26 07:06:06.875550: I tensorflow/core/common_runtime/executor.cc:1197] [/device:CPU:0] (DEBUG INFO) Executor start aborting (this does not indicate an error and you can ignore this message): INVALID_ARGUMENT: You must feed a value for placeholder tensor 'inputs' with dtype float and shape [?,?,?,?]\n",
      "\t [[{{node inputs}}]]\n",
      "2023-05-26 07:06:07.095237: I tensorflow/core/common_runtime/executor.cc:1197] [/device:CPU:0] (DEBUG INFO) Executor start aborting (this does not indicate an error and you can ignore this message): INVALID_ARGUMENT: You must feed a value for placeholder tensor 'inputs' with dtype float and shape [?,200,200,128]\n",
      "\t [[{{node inputs}}]]\n",
      "2023-05-26 07:06:07.107554: I tensorflow/core/common_runtime/executor.cc:1197] [/device:CPU:0] (DEBUG INFO) Executor start aborting (this does not indicate an error and you can ignore this message): INVALID_ARGUMENT: You must feed a value for placeholder tensor 'inputs' with dtype float and shape [?,400,400,64]\n",
      "\t [[{{node inputs}}]]\n",
      "2023-05-26 07:06:07.372303: I tensorflow/core/common_runtime/executor.cc:1197] [/device:CPU:0] (DEBUG INFO) Executor start aborting (this does not indicate an error and you can ignore this message): INVALID_ARGUMENT: You must feed a value for placeholder tensor 'inputs' with dtype float and shape [?,?,?,?]\n",
      "\t [[{{node inputs}}]]\n",
      "2023-05-26 07:06:07.407172: I tensorflow/core/common_runtime/executor.cc:1197] [/device:CPU:0] (DEBUG INFO) Executor start aborting (this does not indicate an error and you can ignore this message): INVALID_ARGUMENT: You must feed a value for placeholder tensor 'inputs' with dtype float and shape [?,200,200,128]\n",
      "\t [[{{node inputs}}]]\n",
      "2023-05-26 07:06:07.419262: I tensorflow/core/common_runtime/executor.cc:1197] [/device:CPU:0] (DEBUG INFO) Executor start aborting (this does not indicate an error and you can ignore this message): INVALID_ARGUMENT: You must feed a value for placeholder tensor 'inputs' with dtype float and shape [?,?,?,?]\n",
      "\t [[{{node inputs}}]]\n",
      "2023-05-26 07:06:07.455847: I tensorflow/core/common_runtime/executor.cc:1197] [/device:CPU:0] (DEBUG INFO) Executor start aborting (this does not indicate an error and you can ignore this message): INVALID_ARGUMENT: You must feed a value for placeholder tensor 'inputs' with dtype float and shape [?,400,400,64]\n",
      "\t [[{{node inputs}}]]\n",
      "WARNING:absl:Found untraced functions such as _jit_compiled_convolution_op, _jit_compiled_convolution_op, _jit_compiled_convolution_op, _jit_compiled_convolution_op, _jit_compiled_convolution_op while saving (showing 5 of 11). These functions will not be directly callable after loading.\n"
     ]
    },
    {
     "name": "stdout",
     "output_type": "stream",
     "text": [
      "INFO:tensorflow:Assets written to: ../../model_training/marcel/assets\n"
     ]
    },
    {
     "name": "stderr",
     "output_type": "stream",
     "text": [
      "INFO:tensorflow:Assets written to: ../../model_training/marcel/assets\n"
     ]
    }
   ],
   "source": [
    "model.save('../../model_training/marcel')"
   ]
  },
  {
   "cell_type": "code",
   "execution_count": 23,
   "id": "68fc38bc",
   "metadata": {
    "ExecuteTime": {
     "end_time": "2023-05-26T03:12:56.611493Z",
     "start_time": "2023-05-26T03:11:57.278039Z"
    }
   },
   "outputs": [
    {
     "name": "stderr",
     "output_type": "stream",
     "text": [
      "2023-05-26 07:12:02.262486: W tensorflow/tsl/framework/cpu_allocator_impl.cc:83] Allocation of 3932160000 exceeds 10% of free system memory.\n"
     ]
    },
    {
     "name": "stdout",
     "output_type": "stream",
     "text": [
      "\r",
      "1/9 [==>...........................] - ETA: 52s - loss: 1.0572 - accuracy: 0.5937 - compute_iou: 0.3172"
     ]
    },
    {
     "name": "stderr",
     "output_type": "stream",
     "text": [
      "2023-05-26 07:12:09.001319: W tensorflow/tsl/framework/cpu_allocator_impl.cc:83] Allocation of 3932160000 exceeds 10% of free system memory.\n"
     ]
    },
    {
     "name": "stdout",
     "output_type": "stream",
     "text": [
      "\b\b\b\b\b\b\b\b\b\b\b\b\b\b\b\b\b\b\b\b\b\b\b\b\b\b\b\b\b\b\b\b\b\b\b\b\b\b\b\b\b\b\b\b\b\b\b\b\b\b\b\b\b\b\b\b\b\b\b\b\b\b\b\b\b\b\b\b\b\b\b\b\b\b\b\b\b\b\b\b\b\b\b\b\b\b\b\b\b\b\b\b\b\b\b\b\b\b\b\b\b\b\b\r",
      "2/9 [=====>........................] - ETA: 47s - loss: 1.0723 - accuracy: 0.5866 - compute_iou: 0.3136"
     ]
    },
    {
     "name": "stderr",
     "output_type": "stream",
     "text": [
      "2023-05-26 07:12:15.983286: W tensorflow/tsl/framework/cpu_allocator_impl.cc:83] Allocation of 3932160000 exceeds 10% of free system memory.\n"
     ]
    },
    {
     "name": "stdout",
     "output_type": "stream",
     "text": [
      "\b\b\b\b\b\b\b\b\b\b\b\b\b\b\b\b\b\b\b\b\b\b\b\b\b\b\b\b\b\b\b\b\b\b\b\b\b\b\b\b\b\b\b\b\b\b\b\b\b\b\b\b\b\b\b\b\b\b\b\b\b\b\b\b\b\b\b\b\b\b\b\b\b\b\b\b\b\b\b\b\b\b\b\b\b\b\b\b\b\b\b\b\b\b\b\b\b\b\b\b\b\b\b\r",
      "3/9 [=========>....................] - ETA: 41s - loss: 1.0705 - accuracy: 0.5865 - compute_iou: 0.3134"
     ]
    },
    {
     "name": "stderr",
     "output_type": "stream",
     "text": [
      "2023-05-26 07:12:23.059431: W tensorflow/tsl/framework/cpu_allocator_impl.cc:83] Allocation of 3932160000 exceeds 10% of free system memory.\n"
     ]
    },
    {
     "name": "stdout",
     "output_type": "stream",
     "text": [
      "\b\b\b\b\b\b\b\b\b\b\b\b\b\b\b\b\b\b\b\b\b\b\b\b\b\b\b\b\b\b\b\b\b\b\b\b\b\b\b\b\b\b\b\b\b\b\b\b\b\b\b\b\b\b\b\b\b\b\b\b\b\b\b\b\b\b\b\b\b\b\b\b\b\b\b\b\b\b\b\b\b\b\b\b\b\b\b\b\b\b\b\b\b\b\b\b\b\b\b\b\b\b\b\r",
      "4/9 [============>.................] - ETA: 34s - loss: 1.0902 - accuracy: 0.5841 - compute_iou: 0.3106"
     ]
    },
    {
     "name": "stderr",
     "output_type": "stream",
     "text": [
      "2023-05-26 07:12:30.106433: W tensorflow/tsl/framework/cpu_allocator_impl.cc:83] Allocation of 3932160000 exceeds 10% of free system memory.\n"
     ]
    },
    {
     "name": "stdout",
     "output_type": "stream",
     "text": [
      "9/9 [==============================] - 59s 7s/step - loss: 1.0404 - accuracy: 0.6025 - compute_iou: 0.3293\n"
     ]
    },
    {
     "ename": "ValueError",
     "evalue": "too many values to unpack (expected 2)",
     "output_type": "error",
     "traceback": [
      "\u001b[0;31m---------------------------------------------------------------------------\u001b[0m",
      "\u001b[0;31mValueError\u001b[0m                                Traceback (most recent call last)",
      "Cell \u001b[0;32mIn[23], line 3\u001b[0m\n\u001b[1;32m      1\u001b[0m \u001b[38;5;66;03m# Evaluate the model\u001b[39;00m\n\u001b[0;32m----> 3\u001b[0m \u001b[43munet_model\u001b[49m\u001b[38;5;241;43m.\u001b[39;49m\u001b[43mevaluate_model\u001b[49m\u001b[43m(\u001b[49m\u001b[43mmodel\u001b[49m\u001b[43m,\u001b[49m\u001b[43m \u001b[49m\u001b[43mX_test_scaled\u001b[49m\u001b[43m,\u001b[49m\u001b[43m \u001b[49m\u001b[43my_test\u001b[49m\u001b[43m)\u001b[49m\n",
      "File \u001b[0;32m~/code/Zubairslb/city_sustainability/city_sustainability/models/unet_model.py:89\u001b[0m, in \u001b[0;36mevaluate_model\u001b[0;34m(model, x, y)\u001b[0m\n\u001b[1;32m     88\u001b[0m \u001b[38;5;28;01mdef\u001b[39;00m \u001b[38;5;21mevaluate_model\u001b[39m(model, x, y):\n\u001b[0;32m---> 89\u001b[0m     loss, accuracy \u001b[38;5;241m=\u001b[39m model\u001b[38;5;241m.\u001b[39mevaluate(x, y)\n\u001b[1;32m     91\u001b[0m     \u001b[38;5;66;03m# Calculate IoU\u001b[39;00m\n\u001b[1;32m     92\u001b[0m     y_pred \u001b[38;5;241m=\u001b[39m model\u001b[38;5;241m.\u001b[39mpredict(x)\n",
      "\u001b[0;31mValueError\u001b[0m: too many values to unpack (expected 2)"
     ]
    }
   ],
   "source": [
    "# Evaluate the model\n",
    "\n",
    "unet_model.evaluate_model(model, X_test_scaled, y_test)"
   ]
  },
  {
   "cell_type": "code",
   "execution_count": null,
   "id": "d620c191",
   "metadata": {
    "ExecuteTime": {
     "end_time": "2023-05-25T06:03:30.195388Z",
     "start_time": "2023-05-25T06:03:30.189444Z"
    }
   },
   "outputs": [],
   "source": [
    "X_train[0].shape"
   ]
  },
  {
   "cell_type": "code",
   "execution_count": 22,
   "id": "6116fd9c",
   "metadata": {
    "ExecuteTime": {
     "end_time": "2023-05-26T03:08:01.348651Z",
     "start_time": "2023-05-26T03:08:01.171186Z"
    }
   },
   "outputs": [
    {
     "ename": "ValueError",
     "evalue": "in user code:\n\n    File \"/home/marcel/.pyenv/versions/3.8.12/envs/city_sustainability/lib/python3.8/site-packages/keras/engine/training.py\", line 2169, in predict_function  *\n        return step_function(self, iterator)\n    File \"/home/marcel/.pyenv/versions/3.8.12/envs/city_sustainability/lib/python3.8/site-packages/keras/engine/training.py\", line 2155, in step_function  **\n        outputs = model.distribute_strategy.run(run_step, args=(data,))\n    File \"/home/marcel/.pyenv/versions/3.8.12/envs/city_sustainability/lib/python3.8/site-packages/keras/engine/training.py\", line 2143, in run_step  **\n        outputs = model.predict_step(data)\n    File \"/home/marcel/.pyenv/versions/3.8.12/envs/city_sustainability/lib/python3.8/site-packages/keras/engine/training.py\", line 2111, in predict_step\n        return self(x, training=False)\n    File \"/home/marcel/.pyenv/versions/3.8.12/envs/city_sustainability/lib/python3.8/site-packages/keras/utils/traceback_utils.py\", line 70, in error_handler\n        raise e.with_traceback(filtered_tb) from None\n    File \"/home/marcel/.pyenv/versions/3.8.12/envs/city_sustainability/lib/python3.8/site-packages/keras/engine/input_spec.py\", line 298, in assert_input_compatibility\n        raise ValueError(\n\n    ValueError: Input 0 of layer \"model_1\" is incompatible with the layer: expected shape=(None, 400, 400, 3), found shape=(None, 400, 3)\n",
     "output_type": "error",
     "traceback": [
      "\u001b[0;31m---------------------------------------------------------------------------\u001b[0m",
      "\u001b[0;31mValueError\u001b[0m                                Traceback (most recent call last)",
      "Cell \u001b[0;32mIn[22], line 1\u001b[0m\n\u001b[0;32m----> 1\u001b[0m \u001b[43munet_model\u001b[49m\u001b[38;5;241;43m.\u001b[39;49m\u001b[43mpredict\u001b[49m\u001b[43m(\u001b[49m\u001b[43mmodel\u001b[49m\u001b[43m,\u001b[49m\u001b[43m \u001b[49m\u001b[43mnp\u001b[49m\u001b[38;5;241;43m.\u001b[39;49m\u001b[43marray\u001b[49m\u001b[43m(\u001b[49m\u001b[43mX_train\u001b[49m\u001b[43m[\u001b[49m\u001b[38;5;241;43m0\u001b[39;49m\u001b[43m]\u001b[49m\u001b[43m)\u001b[49m\u001b[43m)\u001b[49m\n",
      "File \u001b[0;32m~/code/Zubairslb/city_sustainability/city_sustainability/models/unet_model.py:103\u001b[0m, in \u001b[0;36mpredict\u001b[0;34m(model, x)\u001b[0m\n\u001b[1;32m    102\u001b[0m \u001b[38;5;28;01mdef\u001b[39;00m \u001b[38;5;21mpredict\u001b[39m(model, x):\n\u001b[0;32m--> 103\u001b[0m     \u001b[38;5;28;01mreturn\u001b[39;00m \u001b[43mmodel\u001b[49m\u001b[38;5;241;43m.\u001b[39;49m\u001b[43mpredict\u001b[49m\u001b[43m(\u001b[49m\u001b[43mx\u001b[49m\u001b[43m)\u001b[49m\n",
      "File \u001b[0;32m~/.pyenv/versions/3.8.12/envs/city_sustainability/lib/python3.8/site-packages/keras/utils/traceback_utils.py:70\u001b[0m, in \u001b[0;36mfilter_traceback.<locals>.error_handler\u001b[0;34m(*args, **kwargs)\u001b[0m\n\u001b[1;32m     67\u001b[0m     filtered_tb \u001b[38;5;241m=\u001b[39m _process_traceback_frames(e\u001b[38;5;241m.\u001b[39m__traceback__)\n\u001b[1;32m     68\u001b[0m     \u001b[38;5;66;03m# To get the full stack trace, call:\u001b[39;00m\n\u001b[1;32m     69\u001b[0m     \u001b[38;5;66;03m# `tf.debugging.disable_traceback_filtering()`\u001b[39;00m\n\u001b[0;32m---> 70\u001b[0m     \u001b[38;5;28;01mraise\u001b[39;00m e\u001b[38;5;241m.\u001b[39mwith_traceback(filtered_tb) \u001b[38;5;28;01mfrom\u001b[39;00m \u001b[38;5;28;01mNone\u001b[39;00m\n\u001b[1;32m     71\u001b[0m \u001b[38;5;28;01mfinally\u001b[39;00m:\n\u001b[1;32m     72\u001b[0m     \u001b[38;5;28;01mdel\u001b[39;00m filtered_tb\n",
      "File \u001b[0;32m/tmp/__autograph_generated_filew4plsnr8.py:15\u001b[0m, in \u001b[0;36mouter_factory.<locals>.inner_factory.<locals>.tf__predict_function\u001b[0;34m(iterator)\u001b[0m\n\u001b[1;32m     13\u001b[0m \u001b[38;5;28;01mtry\u001b[39;00m:\n\u001b[1;32m     14\u001b[0m     do_return \u001b[38;5;241m=\u001b[39m \u001b[38;5;28;01mTrue\u001b[39;00m\n\u001b[0;32m---> 15\u001b[0m     retval_ \u001b[38;5;241m=\u001b[39m ag__\u001b[38;5;241m.\u001b[39mconverted_call(ag__\u001b[38;5;241m.\u001b[39mld(step_function), (ag__\u001b[38;5;241m.\u001b[39mld(\u001b[38;5;28mself\u001b[39m), ag__\u001b[38;5;241m.\u001b[39mld(iterator)), \u001b[38;5;28;01mNone\u001b[39;00m, fscope)\n\u001b[1;32m     16\u001b[0m \u001b[38;5;28;01mexcept\u001b[39;00m:\n\u001b[1;32m     17\u001b[0m     do_return \u001b[38;5;241m=\u001b[39m \u001b[38;5;28;01mFalse\u001b[39;00m\n",
      "\u001b[0;31mValueError\u001b[0m: in user code:\n\n    File \"/home/marcel/.pyenv/versions/3.8.12/envs/city_sustainability/lib/python3.8/site-packages/keras/engine/training.py\", line 2169, in predict_function  *\n        return step_function(self, iterator)\n    File \"/home/marcel/.pyenv/versions/3.8.12/envs/city_sustainability/lib/python3.8/site-packages/keras/engine/training.py\", line 2155, in step_function  **\n        outputs = model.distribute_strategy.run(run_step, args=(data,))\n    File \"/home/marcel/.pyenv/versions/3.8.12/envs/city_sustainability/lib/python3.8/site-packages/keras/engine/training.py\", line 2143, in run_step  **\n        outputs = model.predict_step(data)\n    File \"/home/marcel/.pyenv/versions/3.8.12/envs/city_sustainability/lib/python3.8/site-packages/keras/engine/training.py\", line 2111, in predict_step\n        return self(x, training=False)\n    File \"/home/marcel/.pyenv/versions/3.8.12/envs/city_sustainability/lib/python3.8/site-packages/keras/utils/traceback_utils.py\", line 70, in error_handler\n        raise e.with_traceback(filtered_tb) from None\n    File \"/home/marcel/.pyenv/versions/3.8.12/envs/city_sustainability/lib/python3.8/site-packages/keras/engine/input_spec.py\", line 298, in assert_input_compatibility\n        raise ValueError(\n\n    ValueError: Input 0 of layer \"model_1\" is incompatible with the layer: expected shape=(None, 400, 400, 3), found shape=(None, 400, 3)\n"
     ]
    }
   ],
   "source": [
    "unet_model.predict(model, np.array(X_train[0]))"
   ]
  },
  {
   "cell_type": "code",
   "execution_count": 21,
   "id": "3108f13a",
   "metadata": {
    "ExecuteTime": {
     "end_time": "2023-05-26T03:07:58.937594Z",
     "start_time": "2023-05-26T03:07:58.931412Z"
    }
   },
   "outputs": [],
   "source": [
    "import os\n",
    "import PIL\n",
    "import numpy as np\n",
    "import pandas as pd\n",
    "from PIL import Image\n",
    "import tensorflow as tf\n",
    "from PIL import ImageOps\n",
    "import matplotlib.pyplot as plt\n",
    "from tensorflow.keras.models import Model\n",
    "from tensorflow.keras.utils import to_categorical\n",
    "from tensorflow.keras.layers import Input, Conv2D, MaxPooling2D, UpSampling2D, Concatenate"
   ]
  },
  {
   "cell_type": "code",
   "execution_count": null,
   "id": "d0de217f",
   "metadata": {
    "ExecuteTime": {
     "end_time": "2023-05-25T05:56:54.958889Z",
     "start_time": "2023-05-25T05:56:54.861150Z"
    }
   },
   "outputs": [],
   "source": [
    "file_path = '../../raw_data/OpenEarthMap_wo_xBD/paris/images/paris_1.tif'\n",
    "fig = plt.figure(figsize=(3, 3))\n",
    "y_original = Image.open(file_path)\n",
    "plt.axis('off')\n",
    "plt.imshow(y_original)\n",
    "plt.show()\n",
    "y_original = np.array(y_original)\n",
    "y_original.shape"
   ]
  },
  {
   "cell_type": "code",
   "execution_count": null,
   "id": "3e4963ed",
   "metadata": {
    "ExecuteTime": {
     "end_time": "2023-05-25T05:57:27.506152Z",
     "start_time": "2023-05-25T05:57:27.495279Z"
    }
   },
   "outputs": [],
   "source": [
    "lb = Image.open(file_path)\n",
    "# Generate array for each label\n",
    "# Resize each label using image_resize function\n",
    "resized_label = image_resize(256,256,lb)\n",
    "# Generate array for each image\n",
    "numpy_array_image = np.array(resized_label)\n",
    "# Encode labels\n",
    "# encoded_label = to_categorical(numpy_array_label, num_classes=9)\n",
    "# Add resized and encoded array to list\n",
    "# label_list_array.append(encoded_label)"
   ]
  },
  {
   "cell_type": "code",
   "execution_count": null,
   "id": "fa8d9d3e",
   "metadata": {
    "ExecuteTime": {
     "end_time": "2023-05-25T05:58:04.434132Z",
     "start_time": "2023-05-25T05:58:04.427501Z"
    }
   },
   "outputs": [],
   "source": [
    "numpy_array_image.shape"
   ]
  },
  {
   "cell_type": "code",
   "execution_count": null,
   "id": "223dc591",
   "metadata": {
    "ExecuteTime": {
     "end_time": "2023-05-25T06:01:52.862933Z",
     "start_time": "2023-05-25T06:01:52.858713Z"
    }
   },
   "outputs": [],
   "source": [
    "from city_sustainability.models import unet_model"
   ]
  },
  {
   "cell_type": "code",
   "execution_count": null,
   "id": "82f99f25",
   "metadata": {
    "ExecuteTime": {
     "end_time": "2023-05-25T06:02:15.293464Z",
     "start_time": "2023-05-25T06:02:15.266509Z"
    }
   },
   "outputs": [],
   "source": [
    "unet"
   ]
  },
  {
   "cell_type": "code",
   "execution_count": null,
   "id": "24af65a6",
   "metadata": {
    "ExecuteTime": {
     "end_time": "2023-05-25T05:24:20.363174Z",
     "start_time": "2023-05-25T05:24:20.357447Z"
    }
   },
   "outputs": [],
   "source": [
    "lb_cat = encoded_label\n",
    "lb_cat "
   ]
  },
  {
   "cell_type": "code",
   "execution_count": null,
   "id": "bf6f3725",
   "metadata": {
    "ExecuteTime": {
     "end_time": "2023-05-25T05:24:26.299383Z",
     "start_time": "2023-05-25T05:24:26.292692Z"
    }
   },
   "outputs": [],
   "source": [
    "life_quality(lb_cat)"
   ]
  },
  {
   "cell_type": "code",
   "execution_count": null,
   "id": "d31d5c63",
   "metadata": {},
   "outputs": [],
   "source": []
  }
 ],
 "metadata": {
  "kernelspec": {
   "display_name": "Python 3 (ipykernel)",
   "language": "python",
   "name": "python3"
  },
  "language_info": {
   "codemirror_mode": {
    "name": "ipython",
    "version": 3
   },
   "file_extension": ".py",
   "mimetype": "text/x-python",
   "name": "python",
   "nbconvert_exporter": "python",
   "pygments_lexer": "ipython3",
   "version": "3.8.12"
  },
  "toc": {
   "base_numbering": 1,
   "nav_menu": {},
   "number_sections": true,
   "sideBar": true,
   "skip_h1_title": false,
   "title_cell": "Table of Contents",
   "title_sidebar": "Contents",
   "toc_cell": false,
   "toc_position": {},
   "toc_section_display": true,
   "toc_window_display": false
  }
 },
 "nbformat": 4,
 "nbformat_minor": 5
}
