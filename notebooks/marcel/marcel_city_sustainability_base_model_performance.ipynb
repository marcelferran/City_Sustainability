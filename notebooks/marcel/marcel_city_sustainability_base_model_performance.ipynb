{
 "cells": [
  {
   "cell_type": "code",
   "execution_count": 1,
   "id": "0e8c65eb",
   "metadata": {
    "ExecuteTime": {
     "end_time": "2023-05-25T11:17:58.631330Z",
     "start_time": "2023-05-25T11:17:54.444397Z"
    }
   },
   "outputs": [
    {
     "name": "stderr",
     "output_type": "stream",
     "text": [
      "2023-05-25 15:17:55.044445: I tensorflow/tsl/cuda/cudart_stub.cc:28] Could not find cuda drivers on your machine, GPU will not be used.\n",
      "2023-05-25 15:17:55.285569: I tensorflow/tsl/cuda/cudart_stub.cc:28] Could not find cuda drivers on your machine, GPU will not be used.\n",
      "2023-05-25 15:17:55.286578: I tensorflow/core/platform/cpu_feature_guard.cc:182] This TensorFlow binary is optimized to use available CPU instructions in performance-critical operations.\n",
      "To enable the following instructions: AVX2 FMA, in other operations, rebuild TensorFlow with the appropriate compiler flags.\n",
      "2023-05-25 15:17:56.361524: W tensorflow/compiler/tf2tensorrt/utils/py_utils.cc:38] TF-TRT Warning: Could not find TensorRT\n"
     ]
    }
   ],
   "source": [
    "import numpy as np\n",
    "import tensorflow as tf\n",
    "from tensorflow import keras\n",
    "import matplotlib.pyplot as plt\n",
    "from tensorflow.keras import layers\n",
    "from tensorflow.keras.models import Sequential\n",
    "from keras.layers import Conv2D, Flatten, Dense, MaxPooling2D\n",
    "from city_sustainability.quality import life_quality\n",
    "from city_sustainability.models import unet_model\n",
    "from tensorflow.keras.callbacks import EarlyStopping\n",
    "from sklearn.model_selection import train_test_split\n",
    "from city_sustainability.preprocessing import image_resize\n",
    "from city_sustainability.loading_data import loading_paths, image_and_label_arrays"
   ]
  },
  {
   "cell_type": "code",
   "execution_count": 2,
   "id": "3baf7635",
   "metadata": {
    "ExecuteTime": {
     "end_time": "2023-05-25T11:18:00.427991Z",
     "start_time": "2023-05-25T11:18:00.351963Z"
    }
   },
   "outputs": [],
   "source": [
    "# Retrieve image_paths and label_paths\n",
    "data_path_1 = '../../raw_data/OpenEarthMap_wo_xBD'\n",
    "image_paths, label_paths = loading_paths(data_path_1)"
   ]
  },
  {
   "cell_type": "code",
   "execution_count": 3,
   "id": "b0a23be9",
   "metadata": {
    "ExecuteTime": {
     "end_time": "2023-05-25T11:18:01.829076Z",
     "start_time": "2023-05-25T11:18:01.823639Z"
    }
   },
   "outputs": [
    {
     "name": "stdout",
     "output_type": "stream",
     "text": [
      "2687\n",
      "2687\n"
     ]
    }
   ],
   "source": [
    "# Check length of image_paths\n",
    "print(len(image_paths))\n",
    "# Check length of label_paths\n",
    "print(len(label_paths))"
   ]
  },
  {
   "cell_type": "code",
   "execution_count": 4,
   "id": "fa33c1e9",
   "metadata": {
    "ExecuteTime": {
     "end_time": "2023-05-25T11:18:37.589657Z",
     "start_time": "2023-05-25T11:18:04.601880Z"
    }
   },
   "outputs": [],
   "source": [
    "# Import all image array as X and label array as y\n",
    "X, y = image_and_label_arrays(image_paths, label_paths, sampling_ratio=1)"
   ]
  },
  {
   "cell_type": "code",
   "execution_count": 5,
   "id": "db623418",
   "metadata": {
    "ExecuteTime": {
     "end_time": "2023-05-25T11:19:03.237318Z",
     "start_time": "2023-05-25T11:19:02.035932Z"
    }
   },
   "outputs": [],
   "source": [
    "# Apply holdout\n",
    "X_train, X_test, y_train, y_test = train_test_split(X, y, test_size = 0.3)"
   ]
  },
  {
   "cell_type": "code",
   "execution_count": 6,
   "id": "9952ef35",
   "metadata": {
    "ExecuteTime": {
     "end_time": "2023-05-25T11:19:05.487568Z",
     "start_time": "2023-05-25T11:19:04.636944Z"
    }
   },
   "outputs": [],
   "source": [
    "# Scale X and y\n",
    "X_train_scaled = X_train / 255\n",
    "X_test_scaled = X_test / 255"
   ]
  },
  {
   "cell_type": "code",
   "execution_count": 7,
   "id": "b859ade4",
   "metadata": {
    "ExecuteTime": {
     "end_time": "2023-05-25T11:19:07.092826Z",
     "start_time": "2023-05-25T11:19:07.087298Z"
    },
    "scrolled": true
   },
   "outputs": [
    {
     "name": "stdout",
     "output_type": "stream",
     "text": [
      "(1880, 256, 256, 3)\n",
      "(807, 256, 256, 3)\n",
      "(1880, 256, 256, 9)\n",
      "(807, 256, 256, 9)\n",
      "(1880, 256, 256, 3)\n",
      "(807, 256, 256, 3)\n"
     ]
    }
   ],
   "source": [
    "# Confirm shapes\n",
    "print(X_train.shape)\n",
    "print(X_test.shape)\n",
    "print(y_train.shape)\n",
    "print(y_test.shape)\n",
    "print(X_train_scaled.shape)\n",
    "print(X_test_scaled.shape)"
   ]
  },
  {
   "cell_type": "code",
   "execution_count": 23,
   "id": "83a42463",
   "metadata": {
    "ExecuteTime": {
     "end_time": "2023-05-25T11:58:27.292004Z",
     "start_time": "2023-05-25T11:58:27.285877Z"
    }
   },
   "outputs": [],
   "source": [
    "class BaseModel:\n",
    "    \n",
    "    def fit(self, X, y):\n",
    "        y_lb = np.argmax(y, axis=3)\n",
    "        values, counts = np.unique(y_lb, return_counts=True)\n",
    "        ind = np.argmax(counts)\n",
    "        self.most_freq = values[ind]\n",
    "        \n",
    "    def predict(self, X):\n",
    "        #y = self.most_freq_val * np.ones((X.shape))\n",
    "        # Shape of our data\n",
    "        output_shape = list(X.shape)\n",
    "        output_shape[-1] = 9\n",
    "\n",
    "        # Create the matrix with zeros\n",
    "        y = np.zeros(output_shape)\n",
    "\n",
    "        # Set ones everywhere for the most frequent class\n",
    "        y[:, :, :, int(self.most_freq)] = 1\n",
    "\n",
    "        # Print the matrix shape\n",
    "        print(y.shape)\n",
    "        \n",
    "        return y"
   ]
  },
  {
   "cell_type": "code",
   "execution_count": 22,
   "id": "e3c61b62",
   "metadata": {
    "ExecuteTime": {
     "end_time": "2023-05-25T11:52:45.534568Z",
     "start_time": "2023-05-25T11:52:45.528310Z"
    }
   },
   "outputs": [
    {
     "data": {
      "text/plain": [
       "(1880, 256, 256, 3)"
      ]
     },
     "execution_count": 22,
     "metadata": {},
     "output_type": "execute_result"
    }
   ],
   "source": [
    "X_train.shape"
   ]
  },
  {
   "cell_type": "code",
   "execution_count": 24,
   "id": "84f86a2c",
   "metadata": {
    "ExecuteTime": {
     "end_time": "2023-05-25T11:59:00.193131Z",
     "start_time": "2023-05-25T11:58:56.953436Z"
    }
   },
   "outputs": [],
   "source": [
    "bm = BaseModel()\n",
    "bm.fit(X_train, y_train)"
   ]
  },
  {
   "cell_type": "code",
   "execution_count": 25,
   "id": "f41b014a",
   "metadata": {
    "ExecuteTime": {
     "end_time": "2023-05-25T12:00:11.395918Z",
     "start_time": "2023-05-25T12:00:10.540957Z"
    }
   },
   "outputs": [
    {
     "name": "stdout",
     "output_type": "stream",
     "text": [
      "(807, 256, 256, 9)\n"
     ]
    }
   ],
   "source": [
    "y_pred = bm.predict(X_test)"
   ]
  },
  {
   "cell_type": "code",
   "execution_count": 27,
   "id": "1510a59d",
   "metadata": {
    "ExecuteTime": {
     "end_time": "2023-05-25T12:07:35.986815Z",
     "start_time": "2023-05-25T12:07:32.770911Z"
    }
   },
   "outputs": [
    {
     "name": "stderr",
     "output_type": "stream",
     "text": [
      "2023-05-25 16:07:33.810106: W tensorflow/tsl/framework/cpu_allocator_impl.cc:83] Allocation of 3807903744 exceeds 10% of free system memory.\n",
      "2023-05-25 16:07:35.447198: W tensorflow/tsl/framework/cpu_allocator_impl.cc:83] Allocation of 3807903744 exceeds 10% of free system memory.\n"
     ]
    }
   ],
   "source": [
    "iou_base_model = unet_model.compute_iou(y_test, y_pred)"
   ]
  },
  {
   "cell_type": "code",
   "execution_count": 29,
   "id": "425f038d",
   "metadata": {
    "ExecuteTime": {
     "end_time": "2023-05-25T12:08:59.172657Z",
     "start_time": "2023-05-25T12:08:59.166334Z"
    }
   },
   "outputs": [
    {
     "data": {
      "text/plain": [
       "0.12350264399016886"
      ]
     },
     "execution_count": 29,
     "metadata": {},
     "output_type": "execute_result"
    }
   ],
   "source": [
    "iou_base_model.numpy()"
   ]
  },
  {
   "cell_type": "code",
   "execution_count": 30,
   "id": "db72f3b9",
   "metadata": {
    "ExecuteTime": {
     "end_time": "2023-05-25T12:13:04.326997Z",
     "start_time": "2023-05-25T12:13:04.294721Z"
    },
    "collapsed": true
   },
   "outputs": [
    {
     "ename": "AttributeError",
     "evalue": "module 'keras.api._v2.keras.metrics' has no attribute 'accuracy'",
     "output_type": "error",
     "traceback": [
      "\u001b[0;31m---------------------------------------------------------------------------\u001b[0m",
      "\u001b[0;31mAttributeError\u001b[0m                            Traceback (most recent call last)",
      "Cell \u001b[0;32mIn[30], line 1\u001b[0m\n\u001b[0;32m----> 1\u001b[0m \u001b[43mtf\u001b[49m\u001b[38;5;241;43m.\u001b[39;49m\u001b[43mmetrics\u001b[49m\u001b[38;5;241;43m.\u001b[39;49m\u001b[43maccuracy\u001b[49m(labels\u001b[38;5;241m=\u001b[39my_test, predictions\u001b[38;5;241m=\u001b[39my_pred)\n",
      "File \u001b[0;32m~/.pyenv/versions/3.8.12/envs/city_sustainability/lib/python3.8/site-packages/tensorflow/python/util/lazy_loader.py:59\u001b[0m, in \u001b[0;36mLazyLoader.__getattr__\u001b[0;34m(self, item)\u001b[0m\n\u001b[1;32m     57\u001b[0m \u001b[38;5;28;01mdef\u001b[39;00m \u001b[38;5;21m__getattr__\u001b[39m(\u001b[38;5;28mself\u001b[39m, item):\n\u001b[1;32m     58\u001b[0m   module \u001b[38;5;241m=\u001b[39m \u001b[38;5;28mself\u001b[39m\u001b[38;5;241m.\u001b[39m_load()\n\u001b[0;32m---> 59\u001b[0m   \u001b[38;5;28;01mreturn\u001b[39;00m \u001b[38;5;28;43mgetattr\u001b[39;49m\u001b[43m(\u001b[49m\u001b[43mmodule\u001b[49m\u001b[43m,\u001b[49m\u001b[43m \u001b[49m\u001b[43mitem\u001b[49m\u001b[43m)\u001b[49m\n",
      "\u001b[0;31mAttributeError\u001b[0m: module 'keras.api._v2.keras.metrics' has no attribute 'accuracy'"
     ]
    }
   ],
   "source": [
    "tf.metrics.accuracy(labels=y_test, predictions=y_pred)"
   ]
  },
  {
   "cell_type": "code",
   "execution_count": null,
   "id": "1baee373",
   "metadata": {},
   "outputs": [],
   "source": []
  },
  {
   "cell_type": "code",
   "execution_count": null,
   "id": "fed41d11",
   "metadata": {},
   "outputs": [],
   "source": []
  },
  {
   "cell_type": "code",
   "execution_count": null,
   "id": "9a7df420",
   "metadata": {},
   "outputs": [],
   "source": []
  },
  {
   "cell_type": "code",
   "execution_count": null,
   "id": "a8f93a07",
   "metadata": {},
   "outputs": [],
   "source": []
  },
  {
   "cell_type": "code",
   "execution_count": null,
   "id": "a1d08b51",
   "metadata": {},
   "outputs": [],
   "source": []
  }
 ],
 "metadata": {
  "kernelspec": {
   "display_name": "Python 3 (ipykernel)",
   "language": "python",
   "name": "python3"
  },
  "language_info": {
   "codemirror_mode": {
    "name": "ipython",
    "version": 3
   },
   "file_extension": ".py",
   "mimetype": "text/x-python",
   "name": "python",
   "nbconvert_exporter": "python",
   "pygments_lexer": "ipython3",
   "version": "3.8.12"
  },
  "toc": {
   "base_numbering": 1,
   "nav_menu": {},
   "number_sections": true,
   "sideBar": true,
   "skip_h1_title": false,
   "title_cell": "Table of Contents",
   "title_sidebar": "Contents",
   "toc_cell": false,
   "toc_position": {},
   "toc_section_display": true,
   "toc_window_display": false
  }
 },
 "nbformat": 4,
 "nbformat_minor": 5
}
