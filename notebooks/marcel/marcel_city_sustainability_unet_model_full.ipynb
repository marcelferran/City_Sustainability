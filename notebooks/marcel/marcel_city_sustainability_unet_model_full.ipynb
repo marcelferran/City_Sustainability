{
 "cells": [
  {
   "cell_type": "code",
   "execution_count": 2,
   "id": "378b32ab",
   "metadata": {
    "ExecuteTime": {
     "end_time": "2023-05-28T11:48:34.295532Z",
     "start_time": "2023-05-28T11:48:32.652564Z"
    }
   },
   "outputs": [
    {
     "name": "stderr",
     "output_type": "stream",
     "text": [
      "2023-05-28 15:48:32.870234: I tensorflow/tsl/cuda/cudart_stub.cc:28] Could not find cuda drivers on your machine, GPU will not be used.\n",
      "2023-05-28 15:48:32.893346: I tensorflow/tsl/cuda/cudart_stub.cc:28] Could not find cuda drivers on your machine, GPU will not be used.\n",
      "2023-05-28 15:48:32.894245: I tensorflow/core/platform/cpu_feature_guard.cc:182] This TensorFlow binary is optimized to use available CPU instructions in performance-critical operations.\n",
      "To enable the following instructions: AVX2 FMA, in other operations, rebuild TensorFlow with the appropriate compiler flags.\n",
      "2023-05-28 15:48:33.307720: W tensorflow/compiler/tf2tensorrt/utils/py_utils.cc:38] TF-TRT Warning: Could not find TensorRT\n"
     ]
    }
   ],
   "source": [
    "# Imports\n",
    "import numpy as np\n",
    "import tensorflow as tf\n",
    "from tensorflow import keras\n",
    "import matplotlib.pyplot as plt\n",
    "from tensorflow.keras import layers\n",
    "from tensorflow.keras.models import Model\n",
    "from tensorflow.keras.optimizers import Adam\n",
    "from city_sustainability.models import unet_model\n",
    "from sklearn.model_selection import train_test_split\n",
    "from tensorflow.keras.callbacks import EarlyStopping\n",
    "from city_sustainability.quality import life_quality\n",
    "from tensorflow.keras.applications.vgg16 import VGG16\n",
    "from city_sustainability.preprocessing import image_resize\n",
    "from tensorflow.keras.preprocessing.image import ImageDataGenerator\n",
    "from city_sustainability.loading_data_448x448 import loading_paths_448\n",
    "from tensorflow.keras.callbacks import ReduceLROnPlateau, EarlyStopping\n",
    "from city_sustainability.loading_data_448x448 import image_and_label_arrays_448\n",
    "from tensorflow.keras.layers import Conv2D, BatchNormalization, Dropout, MaxPooling2D, UpSampling2D, Concatenate, Input"
   ]
  },
  {
   "cell_type": "code",
   "execution_count": 4,
   "id": "7b295527",
   "metadata": {
    "ExecuteTime": {
     "end_time": "2023-05-28T08:03:10.415571Z",
     "start_time": "2023-05-28T08:03:09.788274Z"
    }
   },
   "outputs": [
    {
     "name": "stderr",
     "output_type": "stream",
     "text": [
      "2023-05-28 12:03:09.994671: I tensorflow/compiler/xla/stream_executor/cuda/cuda_gpu_executor.cc:982] could not open file to read NUMA node: /sys/bus/pci/devices/0000:01:00.0/numa_node\n",
      "Your kernel may have been built without NUMA support.\n",
      "2023-05-28 12:03:09.996861: W tensorflow/core/common_runtime/gpu/gpu_device.cc:1956] Cannot dlopen some GPU libraries. Please make sure the missing libraries mentioned above are installed properly if you would like to use GPU. Follow the guide at https://www.tensorflow.org/install/gpu for how to download and setup the required libraries for your platform.\n",
      "Skipping registering GPU devices...\n"
     ]
    }
   ],
   "source": [
    "model_full = unet_model.build_vgg16_model_full(input_shape=(448, 448, 3), num_classes = 9)"
   ]
  },
  {
   "cell_type": "code",
   "execution_count": 3,
   "id": "3229a50c",
   "metadata": {
    "ExecuteTime": {
     "end_time": "2023-05-28T11:48:36.166715Z",
     "start_time": "2023-05-28T11:48:36.149667Z"
    }
   },
   "outputs": [],
   "source": [
    "# Retrieve image_paths and label_paths\n",
    "data_path_1 ='../../raw_data/OpenEarthMap_wo_xBD'\n",
    "image_paths_448, label_paths_448 = loading_paths_448(data_path_1)"
   ]
  },
  {
   "cell_type": "code",
   "execution_count": 5,
   "id": "6076041b",
   "metadata": {
    "ExecuteTime": {
     "end_time": "2023-05-28T08:03:25.306761Z",
     "start_time": "2023-05-28T08:03:25.288534Z"
    }
   },
   "outputs": [],
   "source": [
    "unet_model.compile_model(model_full)"
   ]
  },
  {
   "cell_type": "code",
   "execution_count": 6,
   "id": "5c614e20",
   "metadata": {
    "ExecuteTime": {
     "end_time": "2023-05-28T08:03:26.862377Z",
     "start_time": "2023-05-28T08:03:26.779131Z"
    },
    "collapsed": true
   },
   "outputs": [
    {
     "name": "stdout",
     "output_type": "stream",
     "text": [
      "Model: \"model\"\n",
      "__________________________________________________________________________________________________\n",
      " Layer (type)                   Output Shape         Param #     Connected to                     \n",
      "==================================================================================================\n",
      " input_1 (InputLayer)           [(None, 448, 448, 3  0           []                               \n",
      "                                )]                                                                \n",
      "                                                                                                  \n",
      " block1_conv1 (Conv2D)          (None, 448, 448, 64  1792        ['input_1[0][0]']                \n",
      "                                )                                                                 \n",
      "                                                                                                  \n",
      " block1_conv2 (Conv2D)          (None, 448, 448, 64  36928       ['block1_conv1[0][0]']           \n",
      "                                )                                                                 \n",
      "                                                                                                  \n",
      " block1_pool (MaxPooling2D)     (None, 224, 224, 64  0           ['block1_conv2[0][0]']           \n",
      "                                )                                                                 \n",
      "                                                                                                  \n",
      " block2_conv1 (Conv2D)          (None, 224, 224, 12  73856       ['block1_pool[0][0]']            \n",
      "                                8)                                                                \n",
      "                                                                                                  \n",
      " block2_conv2 (Conv2D)          (None, 224, 224, 12  147584      ['block2_conv1[0][0]']           \n",
      "                                8)                                                                \n",
      "                                                                                                  \n",
      " block2_pool (MaxPooling2D)     (None, 112, 112, 12  0           ['block2_conv2[0][0]']           \n",
      "                                8)                                                                \n",
      "                                                                                                  \n",
      " block3_conv1 (Conv2D)          (None, 112, 112, 25  295168      ['block2_pool[0][0]']            \n",
      "                                6)                                                                \n",
      "                                                                                                  \n",
      " block3_conv2 (Conv2D)          (None, 112, 112, 25  590080      ['block3_conv1[0][0]']           \n",
      "                                6)                                                                \n",
      "                                                                                                  \n",
      " block3_conv3 (Conv2D)          (None, 112, 112, 25  590080      ['block3_conv2[0][0]']           \n",
      "                                6)                                                                \n",
      "                                                                                                  \n",
      " block3_pool (MaxPooling2D)     (None, 56, 56, 256)  0           ['block3_conv3[0][0]']           \n",
      "                                                                                                  \n",
      " block4_conv1 (Conv2D)          (None, 56, 56, 512)  1180160     ['block3_pool[0][0]']            \n",
      "                                                                                                  \n",
      " block4_conv2 (Conv2D)          (None, 56, 56, 512)  2359808     ['block4_conv1[0][0]']           \n",
      "                                                                                                  \n",
      " block4_conv3 (Conv2D)          (None, 56, 56, 512)  2359808     ['block4_conv2[0][0]']           \n",
      "                                                                                                  \n",
      " block4_pool (MaxPooling2D)     (None, 28, 28, 512)  0           ['block4_conv3[0][0]']           \n",
      "                                                                                                  \n",
      " block5_conv1 (Conv2D)          (None, 28, 28, 512)  2359808     ['block4_pool[0][0]']            \n",
      "                                                                                                  \n",
      " block5_conv2 (Conv2D)          (None, 28, 28, 512)  2359808     ['block5_conv1[0][0]']           \n",
      "                                                                                                  \n",
      " block5_conv3 (Conv2D)          (None, 28, 28, 512)  2359808     ['block5_conv2[0][0]']           \n",
      "                                                                                                  \n",
      " block5_pool (MaxPooling2D)     (None, 14, 14, 512)  0           ['block5_conv3[0][0]']           \n",
      "                                                                                                  \n",
      " up_sampling2d (UpSampling2D)   (None, 28, 28, 512)  0           ['block5_pool[0][0]']            \n",
      "                                                                                                  \n",
      " concatenate (Concatenate)      (None, 28, 28, 1024  0           ['block5_conv3[0][0]',           \n",
      "                                )                                 'up_sampling2d[0][0]']          \n",
      "                                                                                                  \n",
      " conv2d (Conv2D)                (None, 28, 28, 512)  4719104     ['concatenate[0][0]']            \n",
      "                                                                                                  \n",
      " batch_normalization (BatchNorm  (None, 28, 28, 512)  2048       ['conv2d[0][0]']                 \n",
      " alization)                                                                                       \n",
      "                                                                                                  \n",
      " dropout (Dropout)              (None, 28, 28, 512)  0           ['batch_normalization[0][0]']    \n",
      "                                                                                                  \n",
      " up_sampling2d_1 (UpSampling2D)  (None, 56, 56, 512)  0          ['dropout[0][0]']                \n",
      "                                                                                                  \n",
      " concatenate_1 (Concatenate)    (None, 56, 56, 1024  0           ['block4_conv3[0][0]',           \n",
      "                                )                                 'up_sampling2d_1[0][0]']        \n",
      "                                                                                                  \n",
      " conv2d_1 (Conv2D)              (None, 56, 56, 512)  4719104     ['concatenate_1[0][0]']          \n",
      "                                                                                                  \n",
      " batch_normalization_1 (BatchNo  (None, 56, 56, 512)  2048       ['conv2d_1[0][0]']               \n",
      " rmalization)                                                                                     \n",
      "                                                                                                  \n",
      " dropout_1 (Dropout)            (None, 56, 56, 512)  0           ['batch_normalization_1[0][0]']  \n",
      "                                                                                                  \n",
      " up_sampling2d_2 (UpSampling2D)  (None, 112, 112, 51  0          ['dropout_1[0][0]']              \n",
      "                                2)                                                                \n",
      "                                                                                                  \n",
      " concatenate_2 (Concatenate)    (None, 112, 112, 76  0           ['block3_conv3[0][0]',           \n",
      "                                8)                                'up_sampling2d_2[0][0]']        \n",
      "                                                                                                  \n",
      " conv2d_2 (Conv2D)              (None, 112, 112, 25  1769728     ['concatenate_2[0][0]']          \n",
      "                                6)                                                                \n"
     ]
    },
    {
     "name": "stdout",
     "output_type": "stream",
     "text": [
      "                                                                                                  \n",
      " batch_normalization_2 (BatchNo  (None, 112, 112, 25  1024       ['conv2d_2[0][0]']               \n",
      " rmalization)                   6)                                                                \n",
      "                                                                                                  \n",
      " dropout_2 (Dropout)            (None, 112, 112, 25  0           ['batch_normalization_2[0][0]']  \n",
      "                                6)                                                                \n",
      "                                                                                                  \n",
      " up_sampling2d_3 (UpSampling2D)  (None, 224, 224, 25  0          ['dropout_2[0][0]']              \n",
      "                                6)                                                                \n",
      "                                                                                                  \n",
      " concatenate_3 (Concatenate)    (None, 224, 224, 38  0           ['block2_conv2[0][0]',           \n",
      "                                4)                                'up_sampling2d_3[0][0]']        \n",
      "                                                                                                  \n",
      " conv2d_3 (Conv2D)              (None, 224, 224, 12  442496      ['concatenate_3[0][0]']          \n",
      "                                8)                                                                \n",
      "                                                                                                  \n",
      " batch_normalization_3 (BatchNo  (None, 224, 224, 12  512        ['conv2d_3[0][0]']               \n",
      " rmalization)                   8)                                                                \n",
      "                                                                                                  \n",
      " dropout_3 (Dropout)            (None, 224, 224, 12  0           ['batch_normalization_3[0][0]']  \n",
      "                                8)                                                                \n",
      "                                                                                                  \n",
      " up_sampling2d_4 (UpSampling2D)  (None, 448, 448, 12  0          ['dropout_3[0][0]']              \n",
      "                                8)                                                                \n",
      "                                                                                                  \n",
      " concatenate_4 (Concatenate)    (None, 448, 448, 19  0           ['block1_conv2[0][0]',           \n",
      "                                2)                                'up_sampling2d_4[0][0]']        \n",
      "                                                                                                  \n",
      " conv2d_4 (Conv2D)              (None, 448, 448, 64  110656      ['concatenate_4[0][0]']          \n",
      "                                )                                                                 \n",
      "                                                                                                  \n",
      " batch_normalization_4 (BatchNo  (None, 448, 448, 64  256        ['conv2d_4[0][0]']               \n",
      " rmalization)                   )                                                                 \n",
      "                                                                                                  \n",
      " dropout_4 (Dropout)            (None, 448, 448, 64  0           ['batch_normalization_4[0][0]']  \n",
      "                                )                                                                 \n",
      "                                                                                                  \n",
      " conv2d_5 (Conv2D)              (None, 448, 448, 9)  585         ['dropout_4[0][0]']              \n",
      "                                                                                                  \n",
      "==================================================================================================\n",
      "Total params: 26,482,249\n",
      "Trainable params: 11,764,617\n",
      "Non-trainable params: 14,717,632\n",
      "__________________________________________________________________________________________________\n"
     ]
    }
   ],
   "source": [
    "model_full.summary()"
   ]
  },
  {
   "cell_type": "code",
   "execution_count": 11,
   "id": "b6e807d0",
   "metadata": {
    "ExecuteTime": {
     "end_time": "2023-05-28T09:54:19.010013Z",
     "start_time": "2023-05-28T08:04:50.057902Z"
    },
    "collapsed": true
   },
   "outputs": [
    {
     "name": "stdout",
     "output_type": "stream",
     "text": [
      "Epoch 1/50\n"
     ]
    },
    {
     "name": "stderr",
     "output_type": "stream",
     "text": [
      "2023-05-28 12:05:04.410238: W tensorflow/tsl/framework/cpu_allocator_impl.cc:83] Allocation of 5394923520 exceeds 10% of free system memory.\n",
      "2023-05-28 12:05:08.870867: W tensorflow/tsl/framework/cpu_allocator_impl.cc:83] Allocation of 5394923520 exceeds 10% of free system memory.\n"
     ]
    },
    {
     "name": "stdout",
     "output_type": "stream",
     "text": [
      "1/1 [==============================] - 52s 52s/step - loss: 2.8241 - accuracy: 0.1291 - compute_iou: 0.0613 - val_loss: 7.9969 - val_accuracy: 0.0223 - val_compute_iou: 0.0161 - lr: 1.0000e-04\n",
      "Epoch 2/50\n"
     ]
    },
    {
     "name": "stderr",
     "output_type": "stream",
     "text": [
      "2023-05-28 12:05:56.008367: W tensorflow/tsl/framework/cpu_allocator_impl.cc:83] Allocation of 5394923520 exceeds 10% of free system memory.\n",
      "2023-05-28 12:06:00.797232: W tensorflow/tsl/framework/cpu_allocator_impl.cc:83] Allocation of 5394923520 exceeds 10% of free system memory.\n"
     ]
    },
    {
     "name": "stdout",
     "output_type": "stream",
     "text": [
      "1/1 [==============================] - 52s 52s/step - loss: 2.6339 - accuracy: 0.1626 - compute_iou: 0.0701 - val_loss: 6.7521 - val_accuracy: 0.0539 - val_compute_iou: 0.0333 - lr: 1.0000e-04\n",
      "Epoch 3/50\n"
     ]
    },
    {
     "name": "stderr",
     "output_type": "stream",
     "text": [
      "2023-05-28 12:06:47.900452: W tensorflow/tsl/framework/cpu_allocator_impl.cc:83] Allocation of 5394923520 exceeds 10% of free system memory.\n"
     ]
    },
    {
     "name": "stdout",
     "output_type": "stream",
     "text": [
      "1/1 [==============================] - 51s 51s/step - loss: 2.4708 - accuracy: 0.2004 - compute_iou: 0.0801 - val_loss: 5.7900 - val_accuracy: 0.1129 - val_compute_iou: 0.0650 - lr: 1.0000e-04\n",
      "Epoch 4/50\n",
      "1/1 [==============================] - 51s 51s/step - loss: 2.3302 - accuracy: 0.2379 - compute_iou: 0.0917 - val_loss: 5.0956 - val_accuracy: 0.1875 - val_compute_iou: 0.1070 - lr: 1.0000e-04\n",
      "Epoch 5/50\n",
      "1/1 [==============================] - 50s 50s/step - loss: 2.2044 - accuracy: 0.2736 - compute_iou: 0.1050 - val_loss: 4.6353 - val_accuracy: 0.2596 - val_compute_iou: 0.1512 - lr: 1.0000e-04\n",
      "Epoch 6/50\n",
      "1/1 [==============================] - 51s 51s/step - loss: 2.0951 - accuracy: 0.3062 - compute_iou: 0.1196 - val_loss: 4.3619 - val_accuracy: 0.3145 - val_compute_iou: 0.1906 - lr: 1.0000e-04\n",
      "Epoch 7/50\n",
      "1/1 [==============================] - 51s 51s/step - loss: 2.0022 - accuracy: 0.3348 - compute_iou: 0.1343 - val_loss: 4.2246 - val_accuracy: 0.3526 - val_compute_iou: 0.2224 - lr: 1.0000e-04\n",
      "Epoch 8/50\n",
      "1/1 [==============================] - 51s 51s/step - loss: 1.9209 - accuracy: 0.3608 - compute_iou: 0.1481 - val_loss: 4.1818 - val_accuracy: 0.3786 - val_compute_iou: 0.2468 - lr: 1.0000e-04\n",
      "Epoch 9/50\n",
      "1/1 [==============================] - 50s 50s/step - loss: 1.8498 - accuracy: 0.3845 - compute_iou: 0.1609 - val_loss: 4.2016 - val_accuracy: 0.3950 - val_compute_iou: 0.2644 - lr: 1.0000e-04\n",
      "Epoch 10/50\n",
      "1/1 [==============================] - 51s 51s/step - loss: 1.7867 - accuracy: 0.4055 - compute_iou: 0.1726 - val_loss: 4.2610 - val_accuracy: 0.4051 - val_compute_iou: 0.2764 - lr: 1.0000e-04\n",
      "Epoch 11/50\n",
      "1/1 [==============================] - 51s 51s/step - loss: 1.7285 - accuracy: 0.4256 - compute_iou: 0.1840 - val_loss: 4.3443 - val_accuracy: 0.4127 - val_compute_iou: 0.2846 - lr: 1.0000e-04\n",
      "Epoch 12/50\n",
      "1/1 [==============================] - 51s 51s/step - loss: 1.6748 - accuracy: 0.4447 - compute_iou: 0.1946 - val_loss: 4.4378 - val_accuracy: 0.4189 - val_compute_iou: 0.2908 - lr: 1.0000e-04\n",
      "Epoch 13/50\n",
      "1/1 [==============================] - ETA: 0s - loss: 1.6232 - accuracy: 0.4634 - compute_iou: 0.2047\n",
      "Epoch 13: ReduceLROnPlateau reducing learning rate to 1e-05.\n",
      "1/1 [==============================] - 50s 50s/step - loss: 1.6232 - accuracy: 0.4634 - compute_iou: 0.2047 - val_loss: 4.5328 - val_accuracy: 0.4250 - val_compute_iou: 0.2959 - lr: 1.0000e-04\n",
      "Epoch 14/50\n",
      "1/1 [==============================] - 50s 50s/step - loss: 1.5721 - accuracy: 0.4828 - compute_iou: 0.2147 - val_loss: 4.3965 - val_accuracy: 0.4260 - val_compute_iou: 0.2966 - lr: 1.0000e-05\n",
      "Epoch 15/50\n",
      "1/1 [==============================] - 50s 50s/step - loss: 1.5672 - accuracy: 0.4846 - compute_iou: 0.2157 - val_loss: 4.2685 - val_accuracy: 0.4271 - val_compute_iou: 0.2974 - lr: 1.0000e-05\n",
      "Epoch 16/50\n",
      "1/1 [==============================] - 50s 50s/step - loss: 1.5617 - accuracy: 0.4868 - compute_iou: 0.2167 - val_loss: 4.1481 - val_accuracy: 0.4283 - val_compute_iou: 0.2981 - lr: 1.0000e-05\n",
      "Epoch 17/50\n",
      "1/1 [==============================] - 50s 50s/step - loss: 1.5560 - accuracy: 0.4889 - compute_iou: 0.2178 - val_loss: 4.0346 - val_accuracy: 0.4295 - val_compute_iou: 0.2989 - lr: 1.0000e-05\n",
      "Epoch 18/50\n",
      "1/1 [==============================] - 50s 50s/step - loss: 1.5501 - accuracy: 0.4908 - compute_iou: 0.2189 - val_loss: 3.9275 - val_accuracy: 0.4308 - val_compute_iou: 0.2997 - lr: 1.0000e-05\n",
      "Epoch 19/50\n",
      "1/1 [==============================] - 50s 50s/step - loss: 1.5439 - accuracy: 0.4932 - compute_iou: 0.2199 - val_loss: 3.8261 - val_accuracy: 0.4322 - val_compute_iou: 0.3005 - lr: 1.0000e-05\n",
      "Epoch 20/50\n",
      "1/1 [==============================] - 50s 50s/step - loss: 1.5379 - accuracy: 0.4954 - compute_iou: 0.2211 - val_loss: 3.7301 - val_accuracy: 0.4335 - val_compute_iou: 0.3013 - lr: 1.0000e-05\n",
      "Epoch 21/50\n",
      "1/1 [==============================] - 50s 50s/step - loss: 1.5314 - accuracy: 0.4979 - compute_iou: 0.2222 - val_loss: 3.6392 - val_accuracy: 0.4350 - val_compute_iou: 0.3021 - lr: 1.0000e-05\n",
      "Epoch 22/50\n",
      "1/1 [==============================] - 50s 50s/step - loss: 1.5248 - accuracy: 0.5001 - compute_iou: 0.2235 - val_loss: 3.5527 - val_accuracy: 0.4365 - val_compute_iou: 0.3030 - lr: 1.0000e-05\n",
      "Epoch 23/50\n",
      "1/1 [==============================] - 50s 50s/step - loss: 1.5190 - accuracy: 0.5022 - compute_iou: 0.2245 - val_loss: 3.4705 - val_accuracy: 0.4381 - val_compute_iou: 0.3038 - lr: 1.0000e-05\n",
      "Epoch 24/50\n",
      "1/1 [==============================] - 50s 50s/step - loss: 1.5124 - accuracy: 0.5046 - compute_iou: 0.2256 - val_loss: 3.3922 - val_accuracy: 0.4397 - val_compute_iou: 0.3047 - lr: 1.0000e-05\n",
      "Epoch 25/50\n",
      "1/1 [==============================] - 50s 50s/step - loss: 1.5058 - accuracy: 0.5071 - compute_iou: 0.2268 - val_loss: 3.3177 - val_accuracy: 0.4414 - val_compute_iou: 0.3055 - lr: 1.0000e-05\n",
      "Epoch 26/50\n",
      "1/1 [==============================] - 50s 50s/step - loss: 1.4992 - accuracy: 0.5092 - compute_iou: 0.2280 - val_loss: 3.2465 - val_accuracy: 0.4430 - val_compute_iou: 0.3064 - lr: 1.0000e-05\n",
      "Epoch 27/50\n",
      "1/1 [==============================] - 50s 50s/step - loss: 1.4919 - accuracy: 0.5119 - compute_iou: 0.2293 - val_loss: 3.1786 - val_accuracy: 0.4448 - val_compute_iou: 0.3072 - lr: 1.0000e-05\n",
      "Epoch 28/50\n",
      "1/1 [==============================] - 51s 51s/step - loss: 1.4860 - accuracy: 0.5139 - compute_iou: 0.2304 - val_loss: 3.1136 - val_accuracy: 0.4466 - val_compute_iou: 0.3081 - lr: 1.0000e-05\n",
      "Epoch 29/50\n",
      "1/1 [==============================] - 51s 51s/step - loss: 1.4797 - accuracy: 0.5161 - compute_iou: 0.2316 - val_loss: 3.0516 - val_accuracy: 0.4484 - val_compute_iou: 0.3090 - lr: 1.0000e-05\n",
      "Epoch 30/50\n",
      "1/1 [==============================] - 51s 51s/step - loss: 1.4726 - accuracy: 0.5183 - compute_iou: 0.2328 - val_loss: 2.9922 - val_accuracy: 0.4503 - val_compute_iou: 0.3099 - lr: 1.0000e-05\n",
      "Epoch 31/50\n",
      "1/1 [==============================] - 52s 52s/step - loss: 1.4666 - accuracy: 0.5206 - compute_iou: 0.2340 - val_loss: 2.9354 - val_accuracy: 0.4522 - val_compute_iou: 0.3107 - lr: 1.0000e-05\n",
      "Epoch 32/50\n",
      "1/1 [==============================] - 50s 50s/step - loss: 1.4597 - accuracy: 0.5227 - compute_iou: 0.2352 - val_loss: 2.8809 - val_accuracy: 0.4542 - val_compute_iou: 0.3116 - lr: 1.0000e-05\n",
      "Epoch 33/50\n",
      "1/1 [==============================] - 50s 50s/step - loss: 1.4532 - accuracy: 0.5253 - compute_iou: 0.2364 - val_loss: 2.8287 - val_accuracy: 0.4562 - val_compute_iou: 0.3125 - lr: 1.0000e-05\n",
      "Epoch 34/50\n",
      "1/1 [==============================] - 50s 50s/step - loss: 1.4467 - accuracy: 0.5273 - compute_iou: 0.2376 - val_loss: 2.7786 - val_accuracy: 0.4581 - val_compute_iou: 0.3133 - lr: 1.0000e-05\n",
      "Epoch 35/50\n",
      "1/1 [==============================] - 50s 50s/step - loss: 1.4399 - accuracy: 0.5296 - compute_iou: 0.2389 - val_loss: 2.7306 - val_accuracy: 0.4601 - val_compute_iou: 0.3142 - lr: 1.0000e-05\n",
      "Epoch 36/50\n",
      "1/1 [==============================] - 51s 51s/step - loss: 1.4330 - accuracy: 0.5320 - compute_iou: 0.2403 - val_loss: 2.6845 - val_accuracy: 0.4622 - val_compute_iou: 0.3151 - lr: 1.0000e-05\n",
      "Epoch 37/50\n",
      "1/1 [==============================] - 51s 51s/step - loss: 1.4270 - accuracy: 0.5338 - compute_iou: 0.2414 - val_loss: 2.6402 - val_accuracy: 0.4643 - val_compute_iou: 0.3160 - lr: 1.0000e-05\n",
      "Epoch 38/50\n",
      "1/1 [==============================] - 51s 51s/step - loss: 1.4205 - accuracy: 0.5363 - compute_iou: 0.2428 - val_loss: 2.5976 - val_accuracy: 0.4664 - val_compute_iou: 0.3168 - lr: 1.0000e-05\n",
      "Epoch 39/50\n",
      "1/1 [==============================] - 51s 51s/step - loss: 1.4129 - accuracy: 0.5385 - compute_iou: 0.2442 - val_loss: 2.5567 - val_accuracy: 0.4684 - val_compute_iou: 0.3177 - lr: 1.0000e-05\n",
      "Epoch 40/50\n",
      "1/1 [==============================] - 51s 51s/step - loss: 1.4068 - accuracy: 0.5407 - compute_iou: 0.2454 - val_loss: 2.5173 - val_accuracy: 0.4705 - val_compute_iou: 0.3186 - lr: 1.0000e-05\n",
      "Epoch 41/50\n",
      "1/1 [==============================] - 51s 51s/step - loss: 1.4005 - accuracy: 0.5426 - compute_iou: 0.2467 - val_loss: 2.4794 - val_accuracy: 0.4726 - val_compute_iou: 0.3194 - lr: 1.0000e-05\n",
      "Epoch 42/50\n",
      "1/1 [==============================] - 51s 51s/step - loss: 1.3930 - accuracy: 0.5450 - compute_iou: 0.2483 - val_loss: 2.4430 - val_accuracy: 0.4748 - val_compute_iou: 0.3203 - lr: 1.0000e-05\n",
      "Epoch 43/50\n",
      "1/1 [==============================] - 50s 50s/step - loss: 1.3866 - accuracy: 0.5472 - compute_iou: 0.2496 - val_loss: 2.4078 - val_accuracy: 0.4769 - val_compute_iou: 0.3211 - lr: 1.0000e-05\n",
      "Epoch 44/50\n",
      "1/1 [==============================] - 50s 50s/step - loss: 1.3803 - accuracy: 0.5490 - compute_iou: 0.2510 - val_loss: 2.3739 - val_accuracy: 0.4791 - val_compute_iou: 0.3220 - lr: 1.0000e-05\n",
      "Epoch 45/50\n",
      "1/1 [==============================] - 50s 50s/step - loss: 1.3731 - accuracy: 0.5515 - compute_iou: 0.2524 - val_loss: 2.3413 - val_accuracy: 0.4813 - val_compute_iou: 0.3229 - lr: 1.0000e-05\n",
      "Epoch 46/50\n",
      "1/1 [==============================] - 50s 50s/step - loss: 1.3663 - accuracy: 0.5536 - compute_iou: 0.2538 - val_loss: 2.3097 - val_accuracy: 0.4834 - val_compute_iou: 0.3237 - lr: 1.0000e-05\n",
      "Epoch 47/50\n",
      "1/1 [==============================] - 50s 50s/step - loss: 1.3596 - accuracy: 0.5557 - compute_iou: 0.2553 - val_loss: 2.2793 - val_accuracy: 0.4855 - val_compute_iou: 0.3246 - lr: 1.0000e-05\n",
      "Epoch 48/50\n",
      "1/1 [==============================] - 50s 50s/step - loss: 1.3538 - accuracy: 0.5578 - compute_iou: 0.2567 - val_loss: 2.2499 - val_accuracy: 0.4878 - val_compute_iou: 0.3255 - lr: 1.0000e-05\n",
      "Epoch 49/50\n",
      "1/1 [==============================] - 50s 50s/step - loss: 1.3469 - accuracy: 0.5600 - compute_iou: 0.2582 - val_loss: 2.2214 - val_accuracy: 0.4899 - val_compute_iou: 0.3264 - lr: 1.0000e-05\n",
      "Epoch 50/50\n",
      "1/1 [==============================] - 51s 51s/step - loss: 1.3401 - accuracy: 0.5622 - compute_iou: 0.2596 - val_loss: 2.1939 - val_accuracy: 0.4921 - val_compute_iou: 0.3272 - lr: 1.0000e-05\n",
      "Epoch 1/50\n",
      "1/1 [==============================] - 52s 52s/step - loss: 1.9457 - accuracy: 0.3694 - compute_iou: 0.1602 - val_loss: 2.6587 - val_accuracy: 0.2498 - val_compute_iou: 0.1453 - lr: 1.0000e-04\n",
      "Epoch 2/50\n",
      "1/1 [==============================] - 50s 50s/step - loss: 1.7576 - accuracy: 0.4251 - compute_iou: 0.1859 - val_loss: 2.4961 - val_accuracy: 0.2719 - val_compute_iou: 0.1555 - lr: 1.0000e-04\n",
      "Epoch 3/50\n",
      "1/1 [==============================] - 51s 51s/step - loss: 1.6512 - accuracy: 0.4573 - compute_iou: 0.2018 - val_loss: 2.3596 - val_accuracy: 0.2963 - val_compute_iou: 0.1644 - lr: 1.0000e-04\n",
      "Epoch 4/50\n",
      "1/1 [==============================] - 51s 51s/step - loss: 1.5736 - accuracy: 0.4806 - compute_iou: 0.2125 - val_loss: 2.2527 - val_accuracy: 0.3173 - val_compute_iou: 0.1718 - lr: 1.0000e-04\n",
      "Epoch 5/50\n",
      "1/1 [==============================] - 50s 50s/step - loss: 1.5150 - accuracy: 0.4981 - compute_iou: 0.2203 - val_loss: 2.1770 - val_accuracy: 0.3329 - val_compute_iou: 0.1777 - lr: 1.0000e-04\n",
      "Epoch 6/50\n",
      "1/1 [==============================] - 50s 50s/step - loss: 1.4682 - accuracy: 0.5122 - compute_iou: 0.2273 - val_loss: 2.1300 - val_accuracy: 0.3439 - val_compute_iou: 0.1825 - lr: 1.0000e-04\n",
      "Epoch 7/50\n",
      "1/1 [==============================] - 50s 50s/step - loss: 1.4295 - accuracy: 0.5240 - compute_iou: 0.2342 - val_loss: 2.1056 - val_accuracy: 0.3520 - val_compute_iou: 0.1867 - lr: 1.0000e-04\n",
      "Epoch 8/50\n",
      "1/1 [==============================] - 50s 50s/step - loss: 1.3961 - accuracy: 0.5343 - compute_iou: 0.2417 - val_loss: 2.0948 - val_accuracy: 0.3581 - val_compute_iou: 0.1909 - lr: 1.0000e-04\n",
      "Epoch 9/50\n",
      "1/1 [==============================] - 50s 50s/step - loss: 1.3661 - accuracy: 0.5440 - compute_iou: 0.2496 - val_loss: 2.0900 - val_accuracy: 0.3641 - val_compute_iou: 0.1954 - lr: 1.0000e-04\n",
      "Epoch 10/50\n",
      "1/1 [==============================] - 50s 50s/step - loss: 1.3368 - accuracy: 0.5533 - compute_iou: 0.2575 - val_loss: 2.0852 - val_accuracy: 0.3700 - val_compute_iou: 0.2001 - lr: 1.0000e-04\n",
      "Epoch 11/50\n",
      "1/1 [==============================] - 50s 50s/step - loss: 1.3099 - accuracy: 0.5622 - compute_iou: 0.2656 - val_loss: 2.0764 - val_accuracy: 0.3763 - val_compute_iou: 0.2053 - lr: 1.0000e-04\n",
      "Epoch 12/50\n",
      "1/1 [==============================] - 50s 50s/step - loss: 1.2834 - accuracy: 0.5707 - compute_iou: 0.2735 - val_loss: 2.0629 - val_accuracy: 0.3834 - val_compute_iou: 0.2106 - lr: 1.0000e-04\n",
      "Epoch 13/50\n",
      "1/1 [==============================] - 50s 50s/step - loss: 1.2584 - accuracy: 0.5786 - compute_iou: 0.2810 - val_loss: 2.0450 - val_accuracy: 0.3911 - val_compute_iou: 0.2161 - lr: 1.0000e-04\n",
      "Epoch 14/50\n",
      "1/1 [==============================] - 51s 51s/step - loss: 1.2357 - accuracy: 0.5859 - compute_iou: 0.2881 - val_loss: 2.0240 - val_accuracy: 0.3990 - val_compute_iou: 0.2215 - lr: 1.0000e-04\n",
      "Epoch 15/50\n",
      "1/1 [==============================] - 50s 50s/step - loss: 1.2130 - accuracy: 0.5930 - compute_iou: 0.2945 - val_loss: 2.0043 - val_accuracy: 0.4061 - val_compute_iou: 0.2264 - lr: 1.0000e-04\n",
      "Epoch 16/50\n",
      "1/1 [==============================] - 50s 50s/step - loss: 1.1915 - accuracy: 0.5995 - compute_iou: 0.3005 - val_loss: 1.9907 - val_accuracy: 0.4109 - val_compute_iou: 0.2306 - lr: 1.0000e-04\n",
      "Epoch 17/50\n",
      "1/1 [==============================] - 50s 50s/step - loss: 1.1704 - accuracy: 0.6059 - compute_iou: 0.3063 - val_loss: 1.9881 - val_accuracy: 0.4133 - val_compute_iou: 0.2335 - lr: 1.0000e-04\n",
      "Epoch 18/50\n",
      "1/1 [==============================] - 50s 50s/step - loss: 1.1489 - accuracy: 0.6125 - compute_iou: 0.3123 - val_loss: 1.9978 - val_accuracy: 0.4136 - val_compute_iou: 0.2354 - lr: 1.0000e-04\n",
      "Epoch 19/50\n",
      "1/1 [==============================] - 50s 50s/step - loss: 1.1289 - accuracy: 0.6180 - compute_iou: 0.3182 - val_loss: 2.0179 - val_accuracy: 0.4120 - val_compute_iou: 0.2364 - lr: 1.0000e-04\n",
      "Epoch 20/50\n",
      "1/1 [==============================] - 50s 50s/step - loss: 1.1083 - accuracy: 0.6244 - compute_iou: 0.3241 - val_loss: 2.0428 - val_accuracy: 0.4098 - val_compute_iou: 0.2370 - lr: 1.0000e-04\n",
      "Epoch 21/50\n",
      "1/1 [==============================] - 50s 50s/step - loss: 1.0890 - accuracy: 0.6302 - compute_iou: 0.3300 - val_loss: 2.0663 - val_accuracy: 0.4080 - val_compute_iou: 0.2378 - lr: 1.0000e-04\n",
      "Epoch 22/50\n",
      "1/1 [==============================] - ETA: 0s - loss: 1.0716 - accuracy: 0.6353 - compute_iou: 0.3357\n",
      "Epoch 22: ReduceLROnPlateau reducing learning rate to 1e-05.\n",
      "1/1 [==============================] - 50s 50s/step - loss: 1.0716 - accuracy: 0.6353 - compute_iou: 0.3357 - val_loss: 2.0822 - val_accuracy: 0.4074 - val_compute_iou: 0.2391 - lr: 1.0000e-04\n",
      "Epoch 23/50\n",
      "1/1 [==============================] - 51s 51s/step - loss: 1.0535 - accuracy: 0.6411 - compute_iou: 0.3413 - val_loss: 2.0562 - val_accuracy: 0.4093 - val_compute_iou: 0.2399 - lr: 1.0000e-05\n",
      "Epoch 24/50\n",
      "1/1 [==============================] - 51s 51s/step - loss: 1.0519 - accuracy: 0.6414 - compute_iou: 0.3419 - val_loss: 2.0301 - val_accuracy: 0.4114 - val_compute_iou: 0.2407 - lr: 1.0000e-05\n",
      "Epoch 25/50\n",
      "1/1 [==============================] - 51s 51s/step - loss: 1.0499 - accuracy: 0.6421 - compute_iou: 0.3425 - val_loss: 2.0040 - val_accuracy: 0.4135 - val_compute_iou: 0.2417 - lr: 1.0000e-05\n",
      "Epoch 26/50\n",
      "1/1 [==============================] - 51s 51s/step - loss: 1.0479 - accuracy: 0.6428 - compute_iou: 0.3433 - val_loss: 1.9781 - val_accuracy: 0.4157 - val_compute_iou: 0.2427 - lr: 1.0000e-05\n",
      "Epoch 27/50\n",
      "1/1 [==============================] - 51s 51s/step - loss: 1.0463 - accuracy: 0.6430 - compute_iou: 0.3437 - val_loss: 1.9525 - val_accuracy: 0.4180 - val_compute_iou: 0.2437 - lr: 1.0000e-05\n",
      "Epoch 28/50\n",
      "1/1 [==============================] - 50s 50s/step - loss: 1.0437 - accuracy: 0.6438 - compute_iou: 0.3444 - val_loss: 1.9273 - val_accuracy: 0.4205 - val_compute_iou: 0.2447 - lr: 1.0000e-05\n",
      "Epoch 29/50\n",
      "1/1 [==============================] - 50s 50s/step - loss: 1.0425 - accuracy: 0.6443 - compute_iou: 0.3447 - val_loss: 1.9028 - val_accuracy: 0.4228 - val_compute_iou: 0.2458 - lr: 1.0000e-05\n",
      "Epoch 30/50\n",
      "1/1 [==============================] - 50s 50s/step - loss: 1.0403 - accuracy: 0.6451 - compute_iou: 0.3454 - val_loss: 1.8790 - val_accuracy: 0.4251 - val_compute_iou: 0.2468 - lr: 1.0000e-05\n",
      "Epoch 31/50\n"
     ]
    },
    {
     "name": "stdout",
     "output_type": "stream",
     "text": [
      "1/1 [==============================] - 50s 50s/step - loss: 1.0376 - accuracy: 0.6459 - compute_iou: 0.3462 - val_loss: 1.8560 - val_accuracy: 0.4274 - val_compute_iou: 0.2478 - lr: 1.0000e-05\n",
      "Epoch 32/50\n",
      "1/1 [==============================] - 51s 51s/step - loss: 1.0356 - accuracy: 0.6465 - compute_iou: 0.3467 - val_loss: 1.8338 - val_accuracy: 0.4297 - val_compute_iou: 0.2488 - lr: 1.0000e-05\n",
      "Epoch 33/50\n",
      "1/1 [==============================] - 50s 50s/step - loss: 1.0331 - accuracy: 0.6473 - compute_iou: 0.3474 - val_loss: 1.8125 - val_accuracy: 0.4319 - val_compute_iou: 0.2497 - lr: 1.0000e-05\n",
      "Epoch 34/50\n",
      "1/1 [==============================] - 50s 50s/step - loss: 1.0317 - accuracy: 0.6477 - compute_iou: 0.3478 - val_loss: 1.7921 - val_accuracy: 0.4341 - val_compute_iou: 0.2506 - lr: 1.0000e-05\n",
      "Epoch 35/50\n",
      "1/1 [==============================] - 50s 50s/step - loss: 1.0294 - accuracy: 0.6486 - compute_iou: 0.3485 - val_loss: 1.7727 - val_accuracy: 0.4361 - val_compute_iou: 0.2515 - lr: 1.0000e-05\n",
      "Epoch 36/50\n",
      "1/1 [==============================] - 50s 50s/step - loss: 1.0270 - accuracy: 0.6492 - compute_iou: 0.3491 - val_loss: 1.7542 - val_accuracy: 0.4382 - val_compute_iou: 0.2523 - lr: 1.0000e-05\n",
      "Epoch 37/50\n",
      "1/1 [==============================] - 51s 51s/step - loss: 1.0251 - accuracy: 0.6497 - compute_iou: 0.3497 - val_loss: 1.7366 - val_accuracy: 0.4400 - val_compute_iou: 0.2531 - lr: 1.0000e-05\n",
      "Epoch 38/50\n",
      "1/1 [==============================] - 50s 50s/step - loss: 1.0226 - accuracy: 0.6504 - compute_iou: 0.3505 - val_loss: 1.7199 - val_accuracy: 0.4417 - val_compute_iou: 0.2538 - lr: 1.0000e-05\n",
      "Epoch 39/50\n",
      "1/1 [==============================] - 50s 50s/step - loss: 1.0207 - accuracy: 0.6512 - compute_iou: 0.3511 - val_loss: 1.7041 - val_accuracy: 0.4435 - val_compute_iou: 0.2544 - lr: 1.0000e-05\n",
      "Epoch 40/50\n",
      "1/1 [==============================] - 50s 50s/step - loss: 1.0181 - accuracy: 0.6518 - compute_iou: 0.3518 - val_loss: 1.6889 - val_accuracy: 0.4451 - val_compute_iou: 0.2551 - lr: 1.0000e-05\n",
      "Epoch 41/50\n",
      "1/1 [==============================] - 50s 50s/step - loss: 1.0165 - accuracy: 0.6525 - compute_iou: 0.3522 - val_loss: 1.6745 - val_accuracy: 0.4466 - val_compute_iou: 0.2556 - lr: 1.0000e-05\n",
      "Epoch 42/50\n",
      "1/1 [==============================] - 50s 50s/step - loss: 1.0139 - accuracy: 0.6529 - compute_iou: 0.3531 - val_loss: 1.6607 - val_accuracy: 0.4481 - val_compute_iou: 0.2562 - lr: 1.0000e-05\n",
      "Epoch 43/50\n",
      "1/1 [==============================] - 50s 50s/step - loss: 1.0117 - accuracy: 0.6538 - compute_iou: 0.3537 - val_loss: 1.6474 - val_accuracy: 0.4495 - val_compute_iou: 0.2567 - lr: 1.0000e-05\n",
      "Epoch 44/50\n",
      "1/1 [==============================] - 50s 50s/step - loss: 1.0096 - accuracy: 0.6545 - compute_iou: 0.3544 - val_loss: 1.6346 - val_accuracy: 0.4510 - val_compute_iou: 0.2573 - lr: 1.0000e-05\n",
      "Epoch 45/50\n",
      "1/1 [==============================] - 50s 50s/step - loss: 1.0077 - accuracy: 0.6550 - compute_iou: 0.3551 - val_loss: 1.6222 - val_accuracy: 0.4524 - val_compute_iou: 0.2578 - lr: 1.0000e-05\n",
      "Epoch 46/50\n",
      "1/1 [==============================] - 50s 50s/step - loss: 1.0049 - accuracy: 0.6561 - compute_iou: 0.3558 - val_loss: 1.6102 - val_accuracy: 0.4538 - val_compute_iou: 0.2583 - lr: 1.0000e-05\n",
      "Epoch 47/50\n",
      "1/1 [==============================] - 50s 50s/step - loss: 1.0030 - accuracy: 0.6568 - compute_iou: 0.3564 - val_loss: 1.5985 - val_accuracy: 0.4552 - val_compute_iou: 0.2588 - lr: 1.0000e-05\n",
      "Epoch 48/50\n",
      "1/1 [==============================] - 50s 50s/step - loss: 1.0009 - accuracy: 0.6572 - compute_iou: 0.3573 - val_loss: 1.5872 - val_accuracy: 0.4565 - val_compute_iou: 0.2593 - lr: 1.0000e-05\n",
      "Epoch 49/50\n",
      "1/1 [==============================] - 50s 50s/step - loss: 0.9989 - accuracy: 0.6578 - compute_iou: 0.3578 - val_loss: 1.5760 - val_accuracy: 0.4580 - val_compute_iou: 0.2598 - lr: 1.0000e-05\n",
      "Epoch 50/50\n",
      "1/1 [==============================] - 50s 50s/step - loss: 0.9960 - accuracy: 0.6586 - compute_iou: 0.3586 - val_loss: 1.5651 - val_accuracy: 0.4595 - val_compute_iou: 0.2603 - lr: 1.0000e-05\n",
      "Epoch 1/50\n",
      "1/1 [==============================] - 52s 52s/step - loss: 1.6254 - accuracy: 0.4682 - compute_iou: 0.2321 - val_loss: 2.0828 - val_accuracy: 0.3888 - val_compute_iou: 0.2358 - lr: 1.0000e-04\n",
      "Epoch 2/50\n",
      "1/1 [==============================] - 50s 50s/step - loss: 1.4327 - accuracy: 0.5118 - compute_iou: 0.2585 - val_loss: 2.1467 - val_accuracy: 0.3802 - val_compute_iou: 0.2337 - lr: 1.0000e-04\n",
      "Epoch 3/50\n",
      "1/1 [==============================] - 50s 50s/step - loss: 1.3109 - accuracy: 0.5469 - compute_iou: 0.2776 - val_loss: 2.2645 - val_accuracy: 0.3714 - val_compute_iou: 0.2303 - lr: 1.0000e-04\n",
      "Epoch 4/50\n",
      "1/1 [==============================] - 50s 50s/step - loss: 1.2220 - accuracy: 0.5789 - compute_iou: 0.2935 - val_loss: 2.4096 - val_accuracy: 0.3655 - val_compute_iou: 0.2270 - lr: 1.0000e-04\n",
      "Epoch 5/50\n",
      "1/1 [==============================] - 50s 50s/step - loss: 1.1541 - accuracy: 0.6047 - compute_iou: 0.3069 - val_loss: 2.5590 - val_accuracy: 0.3629 - val_compute_iou: 0.2248 - lr: 1.0000e-04\n",
      "Epoch 6/50\n",
      "1/1 [==============================] - ETA: 0s - loss: 1.1012 - accuracy: 0.6237 - compute_iou: 0.3184\n",
      "Epoch 6: ReduceLROnPlateau reducing learning rate to 1e-05.\n",
      "1/1 [==============================] - 50s 50s/step - loss: 1.1012 - accuracy: 0.6237 - compute_iou: 0.3184 - val_loss: 2.6980 - val_accuracy: 0.3637 - val_compute_iou: 0.2242 - lr: 1.0000e-04\n",
      "Epoch 7/50\n",
      "1/1 [==============================] - 50s 50s/step - loss: 1.0613 - accuracy: 0.6368 - compute_iou: 0.3276 - val_loss: 2.6711 - val_accuracy: 0.3645 - val_compute_iou: 0.2248 - lr: 1.0000e-05\n",
      "Epoch 8/50\n",
      "1/1 [==============================] - 50s 50s/step - loss: 1.0568 - accuracy: 0.6382 - compute_iou: 0.3287 - val_loss: 2.6430 - val_accuracy: 0.3653 - val_compute_iou: 0.2255 - lr: 1.0000e-05\n",
      "Epoch 9/50\n",
      "1/1 [==============================] - 51s 51s/step - loss: 1.0534 - accuracy: 0.6391 - compute_iou: 0.3295 - val_loss: 2.6142 - val_accuracy: 0.3662 - val_compute_iou: 0.2261 - lr: 1.0000e-05\n",
      "Epoch 10/50\n",
      "1/1 [==============================] - 50s 50s/step - loss: 1.0494 - accuracy: 0.6406 - compute_iou: 0.3305 - val_loss: 2.5849 - val_accuracy: 0.3671 - val_compute_iou: 0.2268 - lr: 1.0000e-05\n",
      "Epoch 11/50\n",
      "1/1 [==============================] - 50s 50s/step - loss: 1.0448 - accuracy: 0.6417 - compute_iou: 0.3315 - val_loss: 2.5553 - val_accuracy: 0.3680 - val_compute_iou: 0.2276 - lr: 1.0000e-05\n",
      "Epoch 11: early stopping\n",
      "Epoch 1/50\n",
      "1/1 [==============================] - 52s 52s/step - loss: 2.0807 - accuracy: 0.3442 - compute_iou: 0.1718 - val_loss: 2.8704 - val_accuracy: 0.3365 - val_compute_iou: 0.1944 - lr: 1.0000e-04\n",
      "Epoch 2/50\n",
      "1/1 [==============================] - 50s 50s/step - loss: 1.8473 - accuracy: 0.3794 - compute_iou: 0.1871 - val_loss: 2.6188 - val_accuracy: 0.3629 - val_compute_iou: 0.2116 - lr: 1.0000e-04\n",
      "Epoch 3/50\n",
      "1/1 [==============================] - 50s 50s/step - loss: 1.6830 - accuracy: 0.4096 - compute_iou: 0.1992 - val_loss: 2.4412 - val_accuracy: 0.3841 - val_compute_iou: 0.2274 - lr: 1.0000e-04\n",
      "Epoch 4/50\n",
      "1/1 [==============================] - 50s 50s/step - loss: 1.5678 - accuracy: 0.4354 - compute_iou: 0.2091 - val_loss: 2.3280 - val_accuracy: 0.4011 - val_compute_iou: 0.2417 - lr: 1.0000e-04\n",
      "Epoch 5/50\n",
      "1/1 [==============================] - 50s 50s/step - loss: 1.4845 - accuracy: 0.4590 - compute_iou: 0.2176 - val_loss: 2.2719 - val_accuracy: 0.4125 - val_compute_iou: 0.2531 - lr: 1.0000e-04\n",
      "Epoch 6/50\n",
      "1/1 [==============================] - 50s 50s/step - loss: 1.4206 - accuracy: 0.4804 - compute_iou: 0.2256 - val_loss: 2.2626 - val_accuracy: 0.4182 - val_compute_iou: 0.2609 - lr: 1.0000e-04\n",
      "Epoch 7/50\n",
      "1/1 [==============================] - 51s 51s/step - loss: 1.3678 - accuracy: 0.5004 - compute_iou: 0.2337 - val_loss: 2.2861 - val_accuracy: 0.4197 - val_compute_iou: 0.2654 - lr: 1.0000e-04\n",
      "Epoch 8/50\n",
      "1/1 [==============================] - 50s 50s/step - loss: 1.3233 - accuracy: 0.5181 - compute_iou: 0.2414 - val_loss: 2.3274 - val_accuracy: 0.4190 - val_compute_iou: 0.2675 - lr: 1.0000e-04\n",
      "Epoch 9/50\n",
      "1/1 [==============================] - 50s 50s/step - loss: 1.2842 - accuracy: 0.5347 - compute_iou: 0.2489 - val_loss: 2.3735 - val_accuracy: 0.4169 - val_compute_iou: 0.2683 - lr: 1.0000e-04\n",
      "Epoch 10/50\n",
      "1/1 [==============================] - 51s 51s/step - loss: 1.2490 - accuracy: 0.5496 - compute_iou: 0.2562 - val_loss: 2.4149 - val_accuracy: 0.4145 - val_compute_iou: 0.2686 - lr: 1.0000e-04\n",
      "Epoch 11/50\n",
      "1/1 [==============================] - ETA: 0s - loss: 1.2158 - accuracy: 0.5637 - compute_iou: 0.2637\n",
      "Epoch 11: ReduceLROnPlateau reducing learning rate to 1e-05.\n",
      "1/1 [==============================] - 50s 50s/step - loss: 1.2158 - accuracy: 0.5637 - compute_iou: 0.2637 - val_loss: 2.4461 - val_accuracy: 0.4126 - val_compute_iou: 0.2689 - lr: 1.0000e-04\n",
      "Epoch 12/50\n",
      "1/1 [==============================] - 50s 50s/step - loss: 1.1846 - accuracy: 0.5769 - compute_iou: 0.2710 - val_loss: 2.4158 - val_accuracy: 0.4138 - val_compute_iou: 0.2696 - lr: 1.0000e-05\n",
      "Epoch 13/50\n",
      "1/1 [==============================] - 50s 50s/step - loss: 1.1819 - accuracy: 0.5780 - compute_iou: 0.2717 - val_loss: 2.3851 - val_accuracy: 0.4151 - val_compute_iou: 0.2702 - lr: 1.0000e-05\n",
      "Epoch 14/50\n",
      "1/1 [==============================] - 50s 50s/step - loss: 1.1785 - accuracy: 0.5796 - compute_iou: 0.2724 - val_loss: 2.3542 - val_accuracy: 0.4164 - val_compute_iou: 0.2709 - lr: 1.0000e-05\n",
      "Epoch 15/50\n",
      "1/1 [==============================] - 50s 50s/step - loss: 1.1750 - accuracy: 0.5809 - compute_iou: 0.2733 - val_loss: 2.3233 - val_accuracy: 0.4178 - val_compute_iou: 0.2717 - lr: 1.0000e-05\n",
      "Epoch 16/50\n",
      "1/1 [==============================] - 50s 50s/step - loss: 1.1722 - accuracy: 0.5819 - compute_iou: 0.2741 - val_loss: 2.2926 - val_accuracy: 0.4192 - val_compute_iou: 0.2725 - lr: 1.0000e-05\n",
      "Epoch 16: early stopping\n",
      "Epoch 1/50\n",
      "1/1 [==============================] - 12s 12s/step - loss: 2.1626 - accuracy: 0.3178 - compute_iou: 0.1477 - val_loss: 2.2455 - val_accuracy: 0.2837 - val_compute_iou: 0.1590 - lr: 1.0000e-04\n",
      "Epoch 2/50\n",
      "1/1 [==============================] - 10s 10s/step - loss: 1.8459 - accuracy: 0.3678 - compute_iou: 0.1695 - val_loss: 2.0633 - val_accuracy: 0.3059 - val_compute_iou: 0.1744 - lr: 1.0000e-04\n",
      "Epoch 3/50\n",
      "1/1 [==============================] - 11s 11s/step - loss: 1.6069 - accuracy: 0.4302 - compute_iou: 0.1943 - val_loss: 1.9318 - val_accuracy: 0.3271 - val_compute_iou: 0.1891 - lr: 1.0000e-04\n",
      "Epoch 4/50\n",
      "1/1 [==============================] - 10s 10s/step - loss: 1.4281 - accuracy: 0.5002 - compute_iou: 0.2210 - val_loss: 1.8456 - val_accuracy: 0.3482 - val_compute_iou: 0.2031 - lr: 1.0000e-04\n",
      "Epoch 5/50\n",
      "1/1 [==============================] - 10s 10s/step - loss: 1.2924 - accuracy: 0.5554 - compute_iou: 0.2469 - val_loss: 1.7997 - val_accuracy: 0.3683 - val_compute_iou: 0.2159 - lr: 1.0000e-04\n",
      "Epoch 6/50\n",
      "1/1 [==============================] - 10s 10s/step - loss: 1.1933 - accuracy: 0.5918 - compute_iou: 0.2695 - val_loss: 1.7905 - val_accuracy: 0.3835 - val_compute_iou: 0.2266 - lr: 1.0000e-04\n",
      "Epoch 7/50\n",
      "1/1 [==============================] - 10s 10s/step - loss: 1.1173 - accuracy: 0.6210 - compute_iou: 0.2889 - val_loss: 1.8143 - val_accuracy: 0.3891 - val_compute_iou: 0.2343 - lr: 1.0000e-04\n",
      "Epoch 8/50\n",
      "1/1 [==============================] - 10s 10s/step - loss: 1.0582 - accuracy: 0.6438 - compute_iou: 0.3064 - val_loss: 1.8655 - val_accuracy: 0.3881 - val_compute_iou: 0.2390 - lr: 1.0000e-04\n",
      "Epoch 9/50\n",
      "1/1 [==============================] - 10s 10s/step - loss: 1.0093 - accuracy: 0.6641 - compute_iou: 0.3227 - val_loss: 1.9357 - val_accuracy: 0.3857 - val_compute_iou: 0.2414 - lr: 1.0000e-04\n",
      "Epoch 10/50\n",
      "1/1 [==============================] - 10s 10s/step - loss: 0.9656 - accuracy: 0.6818 - compute_iou: 0.3386 - val_loss: 2.0177 - val_accuracy: 0.3834 - val_compute_iou: 0.2424 - lr: 1.0000e-04\n",
      "Epoch 11/50\n",
      "1/1 [==============================] - ETA: 0s - loss: 0.9258 - accuracy: 0.6966 - compute_iou: 0.3538\n",
      "Epoch 11: ReduceLROnPlateau reducing learning rate to 1e-05.\n",
      "1/1 [==============================] - 10s 10s/step - loss: 0.9258 - accuracy: 0.6966 - compute_iou: 0.3538 - val_loss: 2.1034 - val_accuracy: 0.3818 - val_compute_iou: 0.2426 - lr: 1.0000e-04\n",
      "Epoch 12/50\n",
      "1/1 [==============================] - 10s 10s/step - loss: 0.8876 - accuracy: 0.7112 - compute_iou: 0.3695 - val_loss: 2.0893 - val_accuracy: 0.3831 - val_compute_iou: 0.2434 - lr: 1.0000e-05\n",
      "Epoch 13/50\n",
      "1/1 [==============================] - 10s 10s/step - loss: 0.8838 - accuracy: 0.7123 - compute_iou: 0.3712 - val_loss: 2.0747 - val_accuracy: 0.3844 - val_compute_iou: 0.2442 - lr: 1.0000e-05\n",
      "Epoch 14/50\n",
      "1/1 [==============================] - 10s 10s/step - loss: 0.8790 - accuracy: 0.7145 - compute_iou: 0.3730 - val_loss: 2.0595 - val_accuracy: 0.3857 - val_compute_iou: 0.2450 - lr: 1.0000e-05\n",
      "Epoch 15/50\n",
      "1/1 [==============================] - 10s 10s/step - loss: 0.8752 - accuracy: 0.7157 - compute_iou: 0.3746 - val_loss: 2.0440 - val_accuracy: 0.3872 - val_compute_iou: 0.2458 - lr: 1.0000e-05\n",
      "Epoch 16/50\n",
      "1/1 [==============================] - 10s 10s/step - loss: 0.8712 - accuracy: 0.7169 - compute_iou: 0.3763 - val_loss: 2.0281 - val_accuracy: 0.3887 - val_compute_iou: 0.2467 - lr: 1.0000e-05\n",
      "Epoch 16: early stopping\n"
     ]
    }
   ],
   "source": [
    "# Retrieve image_paths and label_paths\n",
    "data_path_1 ='../../raw_data/OpenEarthMap_wo_xBD'\n",
    "image_paths_448, label_paths_448 = loading_paths_448(data_path_1)\n",
    "\n",
    "# Define batch size and sampling ratio\n",
    "batch_size = 64\n",
    "sampling_ratio = 0.1\n",
    "\n",
    "# Calculate the number of batches\n",
    "num_batches = int(np.ceil(len(image_paths_448) * sampling_ratio / batch_size))\n",
    "\n",
    "# Iterate over batches\n",
    "for batch_index in range(num_batches):\n",
    "    # Calculate the start and end indices for the current batch\n",
    "    start_index = int(batch_index * batch_size / sampling_ratio)\n",
    "    end_index = int((batch_index + 1) * batch_size / sampling_ratio)\n",
    "\n",
    "    # Load a batch of image and label arrays\n",
    "    X_batch, y_batch = image_and_label_arrays_448(image_paths_448[start_index:end_index], label_paths_448[start_index:end_index], sampling_ratio=sampling_ratio)\n",
    "\n",
    "    # Split the batch into train and test sets\n",
    "    X_train, X_test, y_train, y_test = train_test_split(X_batch, y_batch, test_size=0.3)\n",
    "\n",
    "    # Scale the batch\n",
    "    X_train_scaled = X_train / 255\n",
    "    X_test_scaled = X_test / 255\n",
    "    \n",
    "    # Train the model on the current batch\n",
    "    unet_model.train_model(model_full, X_train_scaled, y_train,epochs=50, batch_size=batch_size, validation_split=0.2)"
   ]
  },
  {
   "cell_type": "code",
   "execution_count": 13,
   "id": "a46096e9",
   "metadata": {
    "ExecuteTime": {
     "end_time": "2023-05-28T10:31:36.576330Z",
     "start_time": "2023-05-28T10:31:34.138130Z"
    },
    "collapsed": true
   },
   "outputs": [
    {
     "name": "stderr",
     "output_type": "stream",
     "text": [
      "2023-05-28 14:31:34.294959: I tensorflow/core/common_runtime/executor.cc:1197] [/device:CPU:0] (DEBUG INFO) Executor start aborting (this does not indicate an error and you can ignore this message): INVALID_ARGUMENT: You must feed a value for placeholder tensor 'inputs' with dtype float and shape [?,?,?,?]\n",
      "\t [[{{node inputs}}]]\n",
      "2023-05-28 14:31:34.321090: I tensorflow/core/common_runtime/executor.cc:1197] [/device:CPU:0] (DEBUG INFO) Executor start aborting (this does not indicate an error and you can ignore this message): INVALID_ARGUMENT: You must feed a value for placeholder tensor 'inputs' with dtype float and shape [?,?,?,?]\n",
      "\t [[{{node inputs}}]]\n",
      "2023-05-28 14:31:34.345701: I tensorflow/core/common_runtime/executor.cc:1197] [/device:CPU:0] (DEBUG INFO) Executor start aborting (this does not indicate an error and you can ignore this message): INVALID_ARGUMENT: You must feed a value for placeholder tensor 'inputs' with dtype float and shape [?,?,?,?]\n",
      "\t [[{{node inputs}}]]\n",
      "2023-05-28 14:31:34.371009: I tensorflow/core/common_runtime/executor.cc:1197] [/device:CPU:0] (DEBUG INFO) Executor start aborting (this does not indicate an error and you can ignore this message): INVALID_ARGUMENT: You must feed a value for placeholder tensor 'inputs' with dtype float and shape [?,?,?,?]\n",
      "\t [[{{node inputs}}]]\n",
      "2023-05-28 14:31:34.396821: I tensorflow/core/common_runtime/executor.cc:1197] [/device:CPU:0] (DEBUG INFO) Executor start aborting (this does not indicate an error and you can ignore this message): INVALID_ARGUMENT: You must feed a value for placeholder tensor 'inputs' with dtype float and shape [?,?,?,?]\n",
      "\t [[{{node inputs}}]]\n",
      "2023-05-28 14:31:34.793944: I tensorflow/core/common_runtime/executor.cc:1197] [/device:CPU:0] (DEBUG INFO) Executor start aborting (this does not indicate an error and you can ignore this message): INVALID_ARGUMENT: You must feed a value for placeholder tensor 'inputs' with dtype float and shape [?,28,28,512]\n",
      "\t [[{{node inputs}}]]\n",
      "2023-05-28 14:31:34.806046: I tensorflow/core/common_runtime/executor.cc:1197] [/device:CPU:0] (DEBUG INFO) Executor start aborting (this does not indicate an error and you can ignore this message): INVALID_ARGUMENT: You must feed a value for placeholder tensor 'inputs' with dtype float and shape [?,56,56,512]\n",
      "\t [[{{node inputs}}]]\n",
      "2023-05-28 14:31:34.817996: I tensorflow/core/common_runtime/executor.cc:1197] [/device:CPU:0] (DEBUG INFO) Executor start aborting (this does not indicate an error and you can ignore this message): INVALID_ARGUMENT: You must feed a value for placeholder tensor 'inputs' with dtype float and shape [?,112,112,256]\n",
      "\t [[{{node inputs}}]]\n",
      "2023-05-28 14:31:34.830400: I tensorflow/core/common_runtime/executor.cc:1197] [/device:CPU:0] (DEBUG INFO) Executor start aborting (this does not indicate an error and you can ignore this message): INVALID_ARGUMENT: You must feed a value for placeholder tensor 'inputs' with dtype float and shape [?,224,224,128]\n",
      "\t [[{{node inputs}}]]\n",
      "2023-05-28 14:31:34.842394: I tensorflow/core/common_runtime/executor.cc:1197] [/device:CPU:0] (DEBUG INFO) Executor start aborting (this does not indicate an error and you can ignore this message): INVALID_ARGUMENT: You must feed a value for placeholder tensor 'inputs' with dtype float and shape [?,448,448,64]\n",
      "\t [[{{node inputs}}]]\n",
      "2023-05-28 14:31:35.450851: I tensorflow/core/common_runtime/executor.cc:1197] [/device:CPU:0] (DEBUG INFO) Executor start aborting (this does not indicate an error and you can ignore this message): INVALID_ARGUMENT: You must feed a value for placeholder tensor 'inputs' with dtype float and shape [?,?,?,?]\n",
      "\t [[{{node inputs}}]]\n",
      "2023-05-28 14:31:35.486483: I tensorflow/core/common_runtime/executor.cc:1197] [/device:CPU:0] (DEBUG INFO) Executor start aborting (this does not indicate an error and you can ignore this message): INVALID_ARGUMENT: You must feed a value for placeholder tensor 'inputs' with dtype float and shape [?,28,28,512]\n",
      "\t [[{{node inputs}}]]\n",
      "2023-05-28 14:31:35.499117: I tensorflow/core/common_runtime/executor.cc:1197] [/device:CPU:0] (DEBUG INFO) Executor start aborting (this does not indicate an error and you can ignore this message): INVALID_ARGUMENT: You must feed a value for placeholder tensor 'inputs' with dtype float and shape [?,?,?,?]\n",
      "\t [[{{node inputs}}]]\n",
      "2023-05-28 14:31:35.537631: I tensorflow/core/common_runtime/executor.cc:1197] [/device:CPU:0] (DEBUG INFO) Executor start aborting (this does not indicate an error and you can ignore this message): INVALID_ARGUMENT: You must feed a value for placeholder tensor 'inputs' with dtype float and shape [?,56,56,512]\n",
      "\t [[{{node inputs}}]]\n",
      "2023-05-28 14:31:35.549138: I tensorflow/core/common_runtime/executor.cc:1197] [/device:CPU:0] (DEBUG INFO) Executor start aborting (this does not indicate an error and you can ignore this message): INVALID_ARGUMENT: You must feed a value for placeholder tensor 'inputs' with dtype float and shape [?,?,?,?]\n",
      "\t [[{{node inputs}}]]\n",
      "2023-05-28 14:31:35.584560: I tensorflow/core/common_runtime/executor.cc:1197] [/device:CPU:0] (DEBUG INFO) Executor start aborting (this does not indicate an error and you can ignore this message): INVALID_ARGUMENT: You must feed a value for placeholder tensor 'inputs' with dtype float and shape [?,112,112,256]\n",
      "\t [[{{node inputs}}]]\n",
      "2023-05-28 14:31:35.595664: I tensorflow/core/common_runtime/executor.cc:1197] [/device:CPU:0] (DEBUG INFO) Executor start aborting (this does not indicate an error and you can ignore this message): INVALID_ARGUMENT: You must feed a value for placeholder tensor 'inputs' with dtype float and shape [?,?,?,?]\n",
      "\t [[{{node inputs}}]]\n",
      "2023-05-28 14:31:35.630615: I tensorflow/core/common_runtime/executor.cc:1197] [/device:CPU:0] (DEBUG INFO) Executor start aborting (this does not indicate an error and you can ignore this message): INVALID_ARGUMENT: You must feed a value for placeholder tensor 'inputs' with dtype float and shape [?,224,224,128]\n",
      "\t [[{{node inputs}}]]\n",
      "2023-05-28 14:31:35.641129: I tensorflow/core/common_runtime/executor.cc:1197] [/device:CPU:0] (DEBUG INFO) Executor start aborting (this does not indicate an error and you can ignore this message): INVALID_ARGUMENT: You must feed a value for placeholder tensor 'inputs' with dtype float and shape [?,?,?,?]\n",
      "\t [[{{node inputs}}]]\n",
      "2023-05-28 14:31:35.681170: I tensorflow/core/common_runtime/executor.cc:1197] [/device:CPU:0] (DEBUG INFO) Executor start aborting (this does not indicate an error and you can ignore this message): INVALID_ARGUMENT: You must feed a value for placeholder tensor 'inputs' with dtype float and shape [?,448,448,64]\n",
      "\t [[{{node inputs}}]]\n",
      "WARNING:absl:Found untraced functions such as _jit_compiled_convolution_op, _jit_compiled_convolution_op, _jit_compiled_convolution_op, _jit_compiled_convolution_op, _jit_compiled_convolution_op while saving (showing 5 of 20). These functions will not be directly callable after loading.\n"
     ]
    },
    {
     "name": "stdout",
     "output_type": "stream",
     "text": [
      "INFO:tensorflow:Assets written to: ../../model_training/marcel/assets\n"
     ]
    },
    {
     "name": "stderr",
     "output_type": "stream",
     "text": [
      "INFO:tensorflow:Assets written to: ../../model_training/marcel/assets\n"
     ]
    }
   ],
   "source": [
    "#Save Model Full\n",
    "model_full.save('../../model_training/marcel')"
   ]
  },
  {
   "cell_type": "code",
   "execution_count": 15,
   "id": "955257e1",
   "metadata": {
    "ExecuteTime": {
     "end_time": "2023-05-28T10:36:25.719653Z",
     "start_time": "2023-05-28T10:36:22.480094Z"
    },
    "collapsed": true
   },
   "outputs": [
    {
     "name": "stdout",
     "output_type": "stream",
     "text": [
      "1/1 [==============================] - 2s 2s/step - loss: 1.9868 - accuracy: 0.4512 - compute_iou: 0.3007\n",
      "1/1 [==============================] - 2s 2s/step\n",
      "Evaluation results:\n",
      "Loss: 1.9868\n",
      "Accuracy: 0.4512\n",
      "Model IoU: 0.3007\n",
      "Calculated IoU: 0.3007\n"
     ]
    },
    {
     "data": {
      "text/plain": [
       "1.9868457317352295"
      ]
     },
     "execution_count": 15,
     "metadata": {},
     "output_type": "execute_result"
    }
   ],
   "source": [
    "#Evaluate Model Full\n",
    "unet_model.evaluate_model(model_full, X_test_scaled, y_test)"
   ]
  },
  {
   "cell_type": "code",
   "execution_count": null,
   "id": "e7a6715d",
   "metadata": {},
   "outputs": [],
   "source": []
  },
  {
   "cell_type": "code",
   "execution_count": null,
   "id": "65a29453",
   "metadata": {},
   "outputs": [],
   "source": []
  },
  {
   "cell_type": "code",
   "execution_count": null,
   "id": "a1614f50",
   "metadata": {},
   "outputs": [],
   "source": []
  },
  {
   "cell_type": "code",
   "execution_count": null,
   "id": "c503f16f",
   "metadata": {},
   "outputs": [],
   "source": []
  },
  {
   "cell_type": "code",
   "execution_count": null,
   "id": "5a837968",
   "metadata": {},
   "outputs": [],
   "source": []
  },
  {
   "cell_type": "code",
   "execution_count": null,
   "id": "19ac4df9",
   "metadata": {},
   "outputs": [],
   "source": []
  },
  {
   "cell_type": "code",
   "execution_count": null,
   "id": "c1172120",
   "metadata": {},
   "outputs": [],
   "source": []
  },
  {
   "cell_type": "code",
   "execution_count": null,
   "id": "5592110d",
   "metadata": {},
   "outputs": [],
   "source": []
  },
  {
   "cell_type": "code",
   "execution_count": null,
   "id": "ff8dc8a1",
   "metadata": {},
   "outputs": [],
   "source": []
  },
  {
   "cell_type": "code",
   "execution_count": null,
   "id": "71e2bed5",
   "metadata": {},
   "outputs": [],
   "source": []
  },
  {
   "cell_type": "code",
   "execution_count": null,
   "id": "f6faa6cd",
   "metadata": {},
   "outputs": [],
   "source": []
  },
  {
   "cell_type": "code",
   "execution_count": null,
   "id": "6ee7ed5b",
   "metadata": {},
   "outputs": [],
   "source": []
  },
  {
   "cell_type": "code",
   "execution_count": null,
   "id": "5795ec47",
   "metadata": {},
   "outputs": [],
   "source": []
  },
  {
   "cell_type": "code",
   "execution_count": null,
   "id": "8e6b2a10",
   "metadata": {},
   "outputs": [],
   "source": []
  },
  {
   "cell_type": "code",
   "execution_count": null,
   "id": "16e614e7",
   "metadata": {},
   "outputs": [],
   "source": []
  },
  {
   "cell_type": "code",
   "execution_count": null,
   "id": "a72e74ec",
   "metadata": {
    "ExecuteTime": {
     "end_time": "2023-05-28T07:48:15.909388Z",
     "start_time": "2023-05-28T07:47:27.907755Z"
    }
   },
   "outputs": [],
   "source": [
    "# Retrieve image_paths and label_paths\n",
    "data_path_1 = '../../raw_data/OpenEarthMap_wo_xBD'\n",
    "image_paths_448, label_paths_448 = loading_paths_448(data_path_1)\n",
    "# Import all image array as X and label array as y\n",
    "X, y = image_and_label_arrays_448(image_paths_448, label_paths_448, sampling_ratio=1)\n",
    "# Apply holdout\n",
    "from sklearn.model_selection import train_test_split\n",
    "X_train, X_test, y_train, y_test = train_test_split(X, y, test_size = 0.3)\n",
    "# Scale X and y\n",
    "X_train_scaled = X_train / 255\n",
    "X_test_scaled = X_test / 255"
   ]
  },
  {
   "cell_type": "code",
   "execution_count": null,
   "id": "185014d8",
   "metadata": {
    "ExecuteTime": {
     "end_time": "2023-05-28T06:18:01.659322Z",
     "start_time": "2023-05-28T06:18:01.376925Z"
    }
   },
   "outputs": [],
   "source": [
    "# Create the model\n",
    "model_full = unet_model.build_vgg16_model_full(input_shape=(448, 448, 3), num_classes = 9)"
   ]
  },
  {
   "cell_type": "code",
   "execution_count": null,
   "id": "4a25621d",
   "metadata": {
    "ExecuteTime": {
     "end_time": "2023-05-28T06:18:03.414632Z",
     "start_time": "2023-05-28T06:18:03.401556Z"
    }
   },
   "outputs": [],
   "source": [
    "# Compile the model\n",
    "unet_model.compile_model(model_full)"
   ]
  },
  {
   "cell_type": "code",
   "execution_count": null,
   "id": "ea08a113",
   "metadata": {
    "ExecuteTime": {
     "end_time": "2023-05-28T06:18:05.046634Z",
     "start_time": "2023-05-28T06:18:04.966209Z"
    }
   },
   "outputs": [],
   "source": [
    "model_full.summary()"
   ]
  },
  {
   "cell_type": "code",
   "execution_count": null,
   "id": "5249b7a2",
   "metadata": {
    "ExecuteTime": {
     "end_time": "2023-05-28T06:29:51.822078Z",
     "start_time": "2023-05-28T06:18:06.445797Z"
    },
    "scrolled": true
   },
   "outputs": [],
   "source": [
    "# This line runs the model without batches.\n",
    "unet_model.train_model(model_full, X_train_scaled, y_train, epochs = 1, batch_size=18, validation_split=0.2)"
   ]
  },
  {
   "cell_type": "code",
   "execution_count": 1,
   "id": "f3463c0c",
   "metadata": {
    "ExecuteTime": {
     "end_time": "2023-05-28T07:59:29.277915Z",
     "start_time": "2023-05-28T07:59:29.130847Z"
    }
   },
   "outputs": [
    {
     "ename": "NameError",
     "evalue": "name 'loading_paths_448' is not defined",
     "output_type": "error",
     "traceback": [
      "\u001b[0;31m---------------------------------------------------------------------------\u001b[0m",
      "\u001b[0;31mNameError\u001b[0m                                 Traceback (most recent call last)",
      "Cell \u001b[0;32mIn[1], line 3\u001b[0m\n\u001b[1;32m      1\u001b[0m \u001b[38;5;66;03m# Retrieve image_paths and label_paths\u001b[39;00m\n\u001b[1;32m      2\u001b[0m data_path_1 \u001b[38;5;241m=\u001b[39m\u001b[38;5;124m'\u001b[39m\u001b[38;5;124m../../raw_data/OpenEarthMap_wo_xBD\u001b[39m\u001b[38;5;124m'\u001b[39m\n\u001b[0;32m----> 3\u001b[0m image_paths_448, label_paths_448 \u001b[38;5;241m=\u001b[39m \u001b[43mloading_paths_448\u001b[49m(data_path_1)\n\u001b[1;32m      5\u001b[0m \u001b[38;5;66;03m# Define batch size and sampling ratio\u001b[39;00m\n\u001b[1;32m      6\u001b[0m batch_size \u001b[38;5;241m=\u001b[39m \u001b[38;5;241m64\u001b[39m\n",
      "\u001b[0;31mNameError\u001b[0m: name 'loading_paths_448' is not defined"
     ]
    }
   ],
   "source": [
    "# Retrieve image_paths and label_paths\n",
    "data_path_1 ='../../raw_data/OpenEarthMap_wo_xBD'\n",
    "image_paths_448, label_paths_448 = loading_paths_448(data_path_1)\n",
    "\n",
    "# Define batch size and sampling ratio\n",
    "batch_size = 64\n",
    "sampling_ratio = 0.1\n",
    "\n",
    "# Calculate the number of batches\n",
    "num_batches = int(np.ceil(len(image_paths_448) * sampling_ratio / batch_size))\n",
    "\n",
    "# Iterate over batches\n",
    "for batch_index in range(num_batches):\n",
    "    # Calculate the start and end indices for the current batch\n",
    "    start_index = int(batch_index * batch_size / sampling_ratio)\n",
    "    end_index = int((batch_index + 1) * batch_size / sampling_ratio)\n",
    "\n",
    "    # Load a batch of image and label arrays\n",
    "    X_batch, y_batch = image_and_label_arrays_448(image_paths_448[start_index:end_index], label_paths_448[start_index:end_index], sampling_ratio=sampling_ratio)\n",
    "\n",
    "    # Split the batch into train and test sets\n",
    "    X_train, X_test, y_train, y_test = train_test_split(X_batch, y_batch, test_size=0.3)\n",
    "\n",
    "    # Scale the batch\n",
    "    X_train_scaled = X_train / 255\n",
    "    X_test_scaled = X_test / 255\n",
    "    \n",
    "    # Train the model on the current batch\n",
    "    unet_model.train_model(model_full, X_train_scaled, y_train,epochs=50, batch_size=batch_size, validation_split=0.2)"
   ]
  },
  {
   "cell_type": "code",
   "execution_count": null,
   "id": "532b07de",
   "metadata": {},
   "outputs": [],
   "source": [
    "# # This code below runs the model with batches\n",
    "# # Create an instance of ImageDataGenerator\n",
    "# datagen = ImageDataGenerator(validation_split=0.2)\n",
    "\n",
    "# # Generate train and valid data iterator\n",
    "# train_iterator = datagen.flow(X_train_scaled, y_train, subset='training', batch_size=64)\n",
    "# valid_iterator = datagen.flow(X_train_scaled, y_train, subset='validation', batch_size=64)\n",
    "# steps_per_epoch = len(train_iterator)\n",
    "\n",
    "# # Train the model in batches\n",
    "# epochs = 3\n",
    "# for epoch in range(epochs):\n",
    "#     print(\"Epoch {}/{}\".format(epoch + 1, epochs))\n",
    "#     for step in range(steps_per_epoch):\n",
    "#         X_batch, y_batch = next(train_iterator)\n",
    "#         unet_model.train_model(model_full, X_batch, y_batch)\n",
    "    \n",
    "#     # Evaluate the model on the validation data\n",
    "#     steps_valid = len(valid_iterator)\n",
    "#     total_val_loss = 0\n",
    "#     for step in range(steps_valid):\n",
    "#         X_val_batch, y_val_batch = next(valid_iterator)\n",
    "#         validation_loss = unet_model.evaluate_model(model_full, X_val_batch, y_val_batch)\n",
    "#         total_val_loss += validation_loss\n",
    "#     print(\"Average validation loss: {:.4f}\".format(total_val_loss/steps_valid))"
   ]
  }
 ],
 "metadata": {
  "kernelspec": {
   "display_name": "Python 3 (ipykernel)",
   "language": "python",
   "name": "python3"
  },
  "language_info": {
   "codemirror_mode": {
    "name": "ipython",
    "version": 3
   },
   "file_extension": ".py",
   "mimetype": "text/x-python",
   "name": "python",
   "nbconvert_exporter": "python",
   "pygments_lexer": "ipython3",
   "version": "3.8.12"
  },
  "toc": {
   "base_numbering": 1,
   "nav_menu": {},
   "number_sections": true,
   "sideBar": true,
   "skip_h1_title": false,
   "title_cell": "Table of Contents",
   "title_sidebar": "Contents",
   "toc_cell": false,
   "toc_position": {},
   "toc_section_display": true,
   "toc_window_display": false
  }
 },
 "nbformat": 4,
 "nbformat_minor": 5
}
